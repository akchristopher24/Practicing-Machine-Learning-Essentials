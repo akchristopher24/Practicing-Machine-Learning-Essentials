{
 "cells": [
  {
   "cell_type": "markdown",
   "id": "250960cc-4cd9-4864-a856-ebabea4fd4af",
   "metadata": {},
   "source": [
    "###  Probability"
   ]
  },
  {
   "cell_type": "code",
   "execution_count": 1,
   "id": "8c277a29-1659-4010-83ef-442aa758c25d",
   "metadata": {},
   "outputs": [],
   "source": [
    "import numpy as np\n",
    "import scipy.stats as st\n",
    "import matplotlib.pyplot as plt\n",
    "import seaborn as sns"
   ]
  },
  {
   "cell_type": "markdown",
   "id": "e2b51b2f-2566-4461-91a5-e072257c6c60",
   "metadata": {},
   "source": [
    "### Events and Sample Spaces"
   ]
  },
  {
   "cell_type": "markdown",
   "id": "9fa73cec-6043-4c14-91c6-19f2fb458241",
   "metadata": {},
   "source": [
    "Let's assume we have a fair coin, which is equally likely to come up heads (H) or tails (T)."
   ]
  },
  {
   "cell_type": "markdown",
   "id": "5e2d053f-2222-4212-ba9c-1769bc17ee1a",
   "metadata": {},
   "source": [
    "In instances like this, where the two outcomes are equally likely, we can use probability theory to express the likelihood of a particular **event** by comparing it with the **sample space** (the set of all possible outcomes; can be denoted as $\\Omega$):"
   ]
  },
  {
   "cell_type": "markdown",
   "id": "71ab542f-2691-4e36-83ff-68ba249065ff",
   "metadata": {},
   "source": [
    "P(event)=# of outcomes of event / # of outcomes in Ω"
   ]
  },
  {
   "cell_type": "markdown",
   "id": "3f97cf6b-8a11-4ef9-89a7-40e22eaa094a",
   "metadata": {},
   "source": [
    "If we're only flipping the coin once, then there are only two possible outcomes in the sample space $\\Omega$: it will either be H or T (using set notation, we could write this as $\\Omega$ = {H, T})."
   ]
  },
  {
   "cell_type": "markdown",
   "id": "abce94b6-280e-4d6f-924e-c61353065321",
   "metadata": {},
   "source": [
    "Therefore: $$ P(H) = \\frac{1}{2} = 0.5 $$"
   ]
  },
  {
   "cell_type": "markdown",
   "id": "7d9c43b1-866c-443c-a810-c42490ffdf6b",
   "metadata": {},
   "source": [
    "Equally: $$ P(T) = \\frac{1}{2} = 0.5 $$"
   ]
  },
  {
   "cell_type": "markdown",
   "id": "348002de-30c3-4041-b7b3-4836b2ccc540",
   "metadata": {},
   "source": [
    "As a separate example, consider drawing a single card from a standard deck of 52 playing cards. In this case, the number of possible outcomes in the sample space $\\Omega$ is 52."
   ]
  },
  {
   "cell_type": "markdown",
   "id": "56297ea2-e253-4e12-bb46-cc21c6911508",
   "metadata": {},
   "source": [
    "There is only one ace of spades in the deck, so the probability of drawing it is: $$ P(\\text{ace of spades}) = \\frac{1}{52} \\approx 0.019 $$"
   ]
  },
  {
   "cell_type": "markdown",
   "id": "10df7ce6-0c17-4459-92b0-fa29bbc7eb46",
   "metadata": {},
   "source": [
    "In contrast there are four aces, so the probability of drawing an ace is: $$ P(\\text{ace}) = \\frac{4}{52} \\approx 0.077 $$"
   ]
  },
  {
   "cell_type": "markdown",
   "id": "3d794ee6-ca29-4cd1-b5d9-8dc2de16ef5c",
   "metadata": {},
   "source": [
    "Some additional examples:\n",
    "$$ P(\\text{spade}) = \\frac{13}{52} = 0.25 $$\n",
    "$$ P(\\text{ace OR spade}) = \\frac{16}{52} \\approx 0.307 $$\n",
    "$$ P(\\text{card}) = \\frac{52}{52} = 1 $$\n",
    "$$ P(\\text{turnip}) = \\frac{0}{52} = 0 $$"
   ]
  },
  {
   "cell_type": "markdown",
   "id": "7f5a6fb5-6bae-4c61-83b9-f5845b9150be",
   "metadata": {},
   "source": [
    "#### Multiple Independent Observations"
   ]
  },
  {
   "cell_type": "markdown",
   "id": "56bafcba-bfcb-4c8f-a539-1ee636470a86",
   "metadata": {},
   "source": [
    "Let's return to coin flipping to illustrate situations where we have an event consisting of multiple independent observations. For example, the probability of throwing two consecutive heads is: $$ P(\\text{HH}) = \\frac{1}{4} = 0.25 $$ ...because there is one HH event in the sample set of four possible events ($\\Omega$ = {HH, HT, TH, TT})."
   ]
  },
  {
   "cell_type": "markdown",
   "id": "7e21eaf7-6a17-4246-8ee2-b4b217551201",
   "metadata": {},
   "source": [
    "Likewise, the probability of throwing *three* consecutive heads is: $$ P(\\text{HHH}) = \\frac{1}{8} = 0.125 $$ ...because there is one HHH event in the sample set of eight possible events ($\\Omega$ = {HHH, HHT, HTH, THH, HTT, THT, TTH, TTT})."
   ]
  },
  {
   "cell_type": "markdown",
   "id": "508e4e24-47d1-4416-a46b-f4ec23af44ac",
   "metadata": {},
   "source": [
    "In order to combine probabilities, we can multiply them. So the probability of throwing five consecutive heads, for example, is the product of probabilities we've already calculated: $$ P(\\text{HHHHH}) = P(\\text{HH}) \\times P(\\text{HHH}) = \\frac{1}{4} \\times \\frac{1}{8} = \\frac{1}{32} \\approx 0.031 $$"
   ]
  },
  {
   "cell_type": "code",
   "execution_count": 2,
   "id": "ae28ca8b-bc6a-4178-b20b-812fff890c9e",
   "metadata": {},
   "outputs": [
    {
     "name": "stdout",
     "output_type": "stream",
     "text": [
      "P(k = 0) = 1/32 ≈ 0.03125\n",
      "P(k = 1) = 5/32 ≈ 0.15625\n",
      "P(k = 2) = 10/32 ≈ 0.31250\n",
      "P(k = 3) = 10/32 ≈ 0.31250\n",
      "P(k = 4) = 5/32 ≈ 0.15625\n",
      "P(k = 5) = 1/32 ≈ 0.03125\n"
     ]
    }
   ],
   "source": [
    "import math\n",
    "\n",
    "def calculate_probabilities(n):\n",
    "    total_outcomes = 2 ** n\n",
    "    for k in range(n + 1):\n",
    "        num_ways = math.comb(n, k)\n",
    "        probability = num_ways / total_outcomes\n",
    "        print(f\"P(k = {k}) = {num_ways}/{total_outcomes} ≈ {probability:.5f}\")\n",
    "\n",
    "calculate_probabilities(5)"
   ]
  },
  {
   "cell_type": "markdown",
   "id": "b676fc4a-03ee-4c6b-8811-625a71916669",
   "metadata": {},
   "source": [
    "#### Combinatorics"
   ]
  },
  {
   "cell_type": "markdown",
   "id": "52afc281-4281-4c2c-85eb-d8dd1d2f3954",
   "metadata": {},
   "source": [
    "*Combinatorics* is a field of mathematics devoted to counting that can be helpful to studying probabilities. We can use **factorials** (e.g., $4! = 4 \\times 3 \\times 2 \\times 1 = 24$), which feature prominently in combinatorics, to calculate probabilities instead of painstakingly determining all of the members of the sample space $\\Omega$ and counting subsets within $\\Omega$."
   ]
  },
  {
   "cell_type": "markdown",
   "id": "30410e98-c4e1-4502-8aad-59ccaf7078bf",
   "metadata": {},
   "source": [
    "More specifically, we can calculate the number of outcomes of an event using the \"number of combinations\" equation: $$ {n \\choose k} = \\frac{n!}{k!(n - k)!} $$"
   ]
  },
  {
   "cell_type": "markdown",
   "id": "426ae9ae-06fd-430d-87be-e08a064a330b",
   "metadata": {},
   "source": [
    "The left-hand side of the equation is read \"$n$ choose $k$\" and is most quickly understood via an example: If we have three coin flips, $n = 3$, and if we're interested in the number of ways to get two head flips (or two tail flips, for that matter), $k = 2$. We would read this as \"3 choose 2\" and calculate it as:\n",
    "$$ {n \\choose k} = {3 \\choose 2} = \\frac{3!}{2!(3 - 2)!} = \\frac{3!}{(2!)(1!)} = \\frac{3 \\times 2 \\times 1}{(2 \\times 1)(1)} = \\frac{6}{(2)(1)} = \\frac{6}{2} = 3 $$"
   ]
  },
  {
   "cell_type": "markdown",
   "id": "dcd505e3-f998-4864-8ae8-bf4fb6e85639",
   "metadata": {},
   "source": [
    "This provide us with the numerator for event-probability equation from above:\r",
    "Ω"
   ]
  },
  {
   "cell_type": "markdown",
   "id": "273a9fa2-d306-4978-86ef-d50f0e9b0956",
   "metadata": {},
   "source": [
    "P(event)=# of outcomes of event / # of outcomes in Ω"
   ]
  },
  {
   "cell_type": "code",
   "execution_count": 3,
   "id": "2ac60315-6494-41d2-b19c-6948c38d6687",
   "metadata": {},
   "outputs": [],
   "source": [
    "# of outcomes of event/ # of outcomes in Ω= 3/2^n = 3/2^3 = 3/8 = 0.375\r\n"
   ]
  },
  {
   "cell_type": "markdown",
   "id": "2b629ab0-8aa1-4e1c-84bd-2a3362c12bed",
   "metadata": {},
   "source": [
    "### The Law of Large Numbers"
   ]
  },
  {
   "cell_type": "code",
   "execution_count": 4,
   "id": "ce755525-270a-4165-a5e3-fd3bf32f746d",
   "metadata": {},
   "outputs": [],
   "source": [
    "import numpy as np"
   ]
  },
  {
   "cell_type": "code",
   "execution_count": 5,
   "id": "24f9e6ab-a4ed-4157-995d-11a178dbea77",
   "metadata": {},
   "outputs": [],
   "source": [
    "ns = np.array([2,4,8,16,32,64,128,256,512,1024,2048,4096])"
   ]
  },
  {
   "cell_type": "code",
   "execution_count": 6,
   "id": "5289de67-2c42-4c27-8aad-b21a6eb826dd",
   "metadata": {},
   "outputs": [],
   "source": [
    "np.random.seed(42)"
   ]
  },
  {
   "cell_type": "markdown",
   "id": "d718f6db-fd8f-4639-ae7f-5871bc7e5f1a",
   "metadata": {},
   "source": [
    "The **law of large numbers** states that the more experiments we run, the closer we will tend to get to the expected probability."
   ]
  },
  {
   "cell_type": "code",
   "execution_count": 7,
   "id": "9c9c1ccc-54df-4aed-9fbc-f9a71c24a1da",
   "metadata": {},
   "outputs": [
    {
     "data": {
      "text/plain": [
       "0"
      ]
     },
     "execution_count": 7,
     "metadata": {},
     "output_type": "execute_result"
    }
   ],
   "source": [
    "np.random.binomial(1, 0.5)"
   ]
  },
  {
   "cell_type": "code",
   "execution_count": 8,
   "id": "563e7167-4390-4bf0-b2c6-3e9d0738ffbf",
   "metadata": {},
   "outputs": [
    {
     "data": {
      "text/plain": [
       "[2, 3, 4, 6, 13, 27, 54, 136, 258, 509, 1038, 2094]"
      ]
     },
     "execution_count": 8,
     "metadata": {},
     "output_type": "execute_result"
    }
   ],
   "source": [
    "heads_count = [np.random.binomial(n, 0.5) for n in ns]\n",
    "heads_count"
   ]
  },
  {
   "cell_type": "code",
   "execution_count": 9,
   "id": "e5b9a384-9bb7-483b-becc-bfe6836b815e",
   "metadata": {},
   "outputs": [
    {
     "data": {
      "text/plain": [
       "array([1.        , 0.75      , 0.5       , 0.375     , 0.40625   ,\n",
       "       0.421875  , 0.421875  , 0.53125   , 0.50390625, 0.49707031,\n",
       "       0.50683594, 0.51123047])"
      ]
     },
     "execution_count": 9,
     "metadata": {},
     "output_type": "execute_result"
    }
   ],
   "source": [
    "proportion_heads = heads_count/ns\n",
    "proportion_heads"
   ]
  },
  {
   "cell_type": "code",
   "execution_count": 10,
   "id": "71a26f55-a1e8-4f47-a1ca-e554f68178ef",
   "metadata": {},
   "outputs": [],
   "source": [
    "#import numpy as np\n",
    "\n",
    "#print(np.random.rand(3))\n",
    "# Output: [0.234, 0.847, 0.123] (random numbers, different every time)"
   ]
  },
  {
   "cell_type": "code",
   "execution_count": 11,
   "id": "9872480e-21e5-4311-a031-c9cb8ba5e3c0",
   "metadata": {},
   "outputs": [],
   "source": [
    "#import numpy as np\n",
    "\n",
    "#np.random.seed(42)\n",
    "#print(np.random.rand(3))\n",
    "# Output: [0.374, 0.950, 0.731] (same numbers every time)"
   ]
  },
  {
   "cell_type": "code",
   "execution_count": 12,
   "id": "d728929c-9203-4f41-9015-c5ac98bb045a",
   "metadata": {},
   "outputs": [
    {
     "data": {
      "image/png": "[encoded data removed]",
      "text/plain": [
       "<Figure size 640x480 with 1 Axes>"
      ]
     },
     "metadata": {},
     "output_type": "display_data"
    }
   ],
   "source": [
    "import matplotlib.pyplot as plt\n",
    "fig, ax = plt.subplots()\n",
    "plt.xlabel('Number of coin flips in experiment')\n",
    "plt.ylabel('Proportion of flips that are heads')\n",
    "plt.axhline(0.5, color='orange')\n",
    "_ = ax.scatter(ns, proportion_heads)"
   ]
  },
  {
   "cell_type": "markdown",
   "id": "0b80a179-a075-4714-99c1-f4cd3a13f50f",
   "metadata": {},
   "source": [
    "#### Statistics"
   ]
  },
  {
   "cell_type": "markdown",
   "id": "75ba4d96-75ec-4bff-845c-019987a57154",
   "metadata": {},
   "source": [
    "The field of statistics applies probability theory to make inferences with a quantifiable degree of confidence. For example, let's say we ran the five-coin-flip experiment 1000 times with a fair coin:"
   ]
  },
  {
   "cell_type": "code",
   "execution_count": 13,
   "id": "e551b0d9-e9a7-4b09-a822-b7144f819975",
   "metadata": {},
   "outputs": [],
   "source": [
    "import numpy as np\n",
    "import matplotlib.pyplot as plt"
   ]
  },
  {
   "cell_type": "code",
   "execution_count": 14,
   "id": "1384bdc5-7278-4558-9398-407e68f5f72a",
   "metadata": {},
   "outputs": [],
   "source": [
    "n_experiments = 1000\n",
    "heads_count = np.random.binomial(5, 0.5, n_experiments)"
   ]
  },
  {
   "cell_type": "markdown",
   "id": "302e0317-2c7d-4e6b-b169-c3bb01d6b67d",
   "metadata": {},
   "source": [
    "We can plot the results of our experiment to create a **probability distribution**:"
   ]
  },
  {
   "cell_type": "code",
   "execution_count": 15,
   "id": "5f3d474e-146a-4db8-9fae-9753fa3eec74",
   "metadata": {},
   "outputs": [],
   "source": [
    "heads, event_count = np.unique(heads_count, return_counts=True)"
   ]
  },
  {
   "cell_type": "code",
   "execution_count": 16,
   "id": "edf2670c-63c6-497e-aa4d-c6b6c0a7ed1a",
   "metadata": {},
   "outputs": [
    {
     "data": {
      "text/plain": [
       "array([0, 1, 2, 3, 4, 5])"
      ]
     },
     "execution_count": 16,
     "metadata": {},
     "output_type": "execute_result"
    }
   ],
   "source": [
    "heads"
   ]
  },
  {
   "cell_type": "code",
   "execution_count": 17,
   "id": "b24a93f4-c91d-4c8a-bde0-578340dc3b7f",
   "metadata": {},
   "outputs": [
    {
     "data": {
      "text/plain": [
       "array([ 33, 181, 285, 313, 160,  28], dtype=int64)"
      ]
     },
     "execution_count": 17,
     "metadata": {},
     "output_type": "execute_result"
    }
   ],
   "source": [
    "event_count"
   ]
  },
  {
   "cell_type": "code",
   "execution_count": 18,
   "id": "5c10075e-3c4d-4de2-a869-cc807ffb46e3",
   "metadata": {},
   "outputs": [
    {
     "data": {
      "text/plain": [
       "array([0.033, 0.181, 0.285, 0.313, 0.16 , 0.028])"
      ]
     },
     "execution_count": 18,
     "metadata": {},
     "output_type": "execute_result"
    }
   ],
   "source": [
    "event_proba = event_count/n_experiments\n",
    "event_proba"
   ]
  },
  {
   "cell_type": "code",
   "execution_count": 19,
   "id": "3484d1c9-768e-4d30-b746-e8a346856659",
   "metadata": {},
   "outputs": [
    {
     "data": {
      "image/png": "[encoded data removed]",
      "text/plain": [
       "<Figure size 640x480 with 1 Axes>"
      ]
     },
     "metadata": {},
     "output_type": "display_data"
    }
   ],
   "source": [
    "plt.bar(heads, event_proba, color='mediumpurple')\n",
    "plt.xlabel('Heads flips (out of 5 tosses)')\n",
    "_ = plt.ylabel('Event probability')"
   ]
  },
  {
   "cell_type": "code",
   "execution_count": 20,
   "id": "ec145deb-4589-422f-bddb-0baa9b04c9e2",
   "metadata": {},
   "outputs": [],
   "source": [
    "from math import factorial"
   ]
  },
  {
   "cell_type": "code",
   "execution_count": 21,
   "id": "adbcf2e1-d806-4fd4-b291-7bb365224623",
   "metadata": {},
   "outputs": [],
   "source": [
    "def coinflip_prob(n, k):\n",
    "    n_choose_k = factorial(n)/(factorial(k)*factorial(n-k))\n",
    "    return n_choose_k/2**n"
   ]
  },
  {
   "cell_type": "code",
   "execution_count": 22,
   "id": "a60c4303-762f-4f1c-bdb8-65e7bf3f09ab",
   "metadata": {},
   "outputs": [
    {
     "data": {
      "text/plain": [
       "0.3125"
      ]
     },
     "execution_count": 22,
     "metadata": {},
     "output_type": "execute_result"
    }
   ],
   "source": [
    "coinflip_prob(5, 3)"
   ]
  },
  {
   "cell_type": "code",
   "execution_count": 23,
   "id": "2fd3916d-2916-4784-9b30-506404ba99b9",
   "metadata": {},
   "outputs": [
    {
     "data": {
      "text/plain": [
       "[0.03125, 0.15625, 0.3125, 0.3125, 0.15625, 0.03125]"
      ]
     },
     "execution_count": 23,
     "metadata": {},
     "output_type": "execute_result"
    }
   ],
   "source": [
    "[coinflip_prob(5, h) for h in range(6)]"
   ]
  },
  {
   "cell_type": "markdown",
   "id": "20b7ab2d-8ac9-4cc1-a687-d38d5467a2d7",
   "metadata": {},
   "source": [
    "### Mean"
   ]
  },
  {
   "cell_type": "markdown",
   "id": "c92dc990-827b-4847-9947-cb9a8d392ab4",
   "metadata": {},
   "source": [
    "The most common measure of central tendency of all (so much so that it's synonomous with the lay usage of the term \"average\"), is the **mean**, often symbolized with $\\mu$ (population) or $\\bar{x}$ (sample):"
   ]
  },
  {
   "cell_type": "markdown",
   "id": "0614b5f2-7143-483e-95ea-e39036177f8c",
   "metadata": {},
   "source": [
    "$$ \\bar{x} = \\frac{\\sum_{i=1}^n x_i}{n} $$"
   ]
  },
  {
   "cell_type": "markdown",
   "id": "fe09ff62-73e6-4083-98df-08f2067edf80",
   "metadata": {},
   "source": [
    "Expected value is in fact the long-term *mean* of some function (i.e., $\\mu = \\mathbb{E}$). Let's calculate how close the sample mean, $\\bar{x}$, of our five-coin-flip experiments comes to the expected value, $\\mathbb{E} = 2.5$."
   ]
  },
  {
   "cell_type": "code",
   "execution_count": 24,
   "id": "30c4869c-cd43-4e81-9a99-12e8e7268f62",
   "metadata": {},
   "outputs": [
    {
     "data": {
      "text/plain": [
       "1000"
      ]
     },
     "execution_count": 24,
     "metadata": {},
     "output_type": "execute_result"
    }
   ],
   "source": [
    "len(heads_count)"
   ]
  },
  {
   "cell_type": "code",
   "execution_count": 25,
   "id": "2eff4967-b0eb-487f-8645-716ce44ad343",
   "metadata": {},
   "outputs": [
    {
     "data": {
      "text/plain": [
       "array([2, 2, 2, 3, 2, 3, 3, 1, 3, 1, 1, 4, 4, 3, 2, 1, 3, 2, 1, 2])"
      ]
     },
     "execution_count": 25,
     "metadata": {},
     "output_type": "execute_result"
    }
   ],
   "source": [
    "heads_count[0:20]"
   ]
  },
  {
   "cell_type": "code",
   "execution_count": 26,
   "id": "4567df37-1660-4dbc-b9c7-cf0e6bb7fe6f",
   "metadata": {},
   "outputs": [
    {
     "data": {
      "text/plain": [
       "2.47"
      ]
     },
     "execution_count": 26,
     "metadata": {},
     "output_type": "execute_result"
    }
   ],
   "source": [
    "sum(heads_count)/len(heads_count)"
   ]
  },
  {
   "cell_type": "code",
   "execution_count": 27,
   "id": "b79bede6-b92b-4616-be19-9b72c73023a0",
   "metadata": {},
   "outputs": [
    {
     "data": {
      "text/plain": [
       "2.47"
      ]
     },
     "execution_count": 27,
     "metadata": {},
     "output_type": "execute_result"
    }
   ],
   "source": [
    "heads_count.mean() # fun!"
   ]
  },
  {
   "cell_type": "markdown",
   "id": "635f914f-09b0-4bfc-9298-701eb386ee21",
   "metadata": {},
   "source": [
    "### Median"
   ]
  },
  {
   "cell_type": "markdown",
   "id": "3bdead22-c6b5-46a1-a9a4-6a80294e2c9f",
   "metadata": {},
   "source": [
    "The second most common measure of central tendency is the median, the midpoint value in the distribution:"
   ]
  },
  {
   "cell_type": "code",
   "execution_count": 28,
   "id": "46c0025b-5440-4d3e-9825-3ce191846442",
   "metadata": {},
   "outputs": [],
   "source": [
    "heads_count.sort()"
   ]
  },
  {
   "cell_type": "code",
   "execution_count": 29,
   "id": "6475c249-522a-4517-a86f-4bb2f994eeef",
   "metadata": {},
   "outputs": [
    {
     "data": {
      "text/plain": [
       "array([0, 0, 0, 0, 0, 0, 0, 0, 0, 0, 0, 0, 0, 0, 0, 0, 0, 0, 0, 0])"
      ]
     },
     "execution_count": 29,
     "metadata": {},
     "output_type": "execute_result"
    }
   ],
   "source": [
    "heads_count[0:20]"
   ]
  },
  {
   "cell_type": "code",
   "execution_count": 30,
   "id": "1ce382d8-1c27-48ee-bfb3-64f8bf322613",
   "metadata": {},
   "outputs": [
    {
     "data": {
      "text/plain": [
       "array([5, 5, 5, 5, 5, 5, 5, 5, 5, 5, 5, 5, 5, 5, 5, 5, 5, 5, 5, 5])"
      ]
     },
     "execution_count": 30,
     "metadata": {},
     "output_type": "execute_result"
    }
   ],
   "source": [
    "heads_count[-20:]"
   ]
  },
  {
   "cell_type": "code",
   "execution_count": 31,
   "id": "7e747cc7-132f-4d87-8e8b-3d1fe14d30a5",
   "metadata": {},
   "outputs": [
    {
     "data": {
      "text/plain": [
       "1000"
      ]
     },
     "execution_count": 31,
     "metadata": {},
     "output_type": "execute_result"
    }
   ],
   "source": [
    "len(heads_count)"
   ]
  },
  {
   "cell_type": "markdown",
   "id": "fc82cb27-6299-4655-a3cb-70c0743595bd",
   "metadata": {},
   "source": [
    "With an odd number of values in a distribution, we consider the single midpoint to be the median, e.g., the midpoint of the sorted array `[2, 4, 6, 9, 10]` is six.\n",
    "\n",
    "With an even number, we take the mean of the two values that straddle the midpoint:"
   ]
  },
  {
   "cell_type": "code",
   "execution_count": 32,
   "id": "69555a2b-2400-4efb-b08e-7694e9684957",
   "metadata": {},
   "outputs": [
    {
     "data": {
      "text/plain": [
       "3"
      ]
     },
     "execution_count": 32,
     "metadata": {},
     "output_type": "execute_result"
    }
   ],
   "source": [
    "heads_count[499]"
   ]
  },
  {
   "cell_type": "code",
   "execution_count": 33,
   "id": "d9a8ef0a-d2be-4efe-a677-7544865a1c72",
   "metadata": {},
   "outputs": [
    {
     "data": {
      "text/plain": [
       "3"
      ]
     },
     "execution_count": 33,
     "metadata": {},
     "output_type": "execute_result"
    }
   ],
   "source": [
    "heads_count[500]"
   ]
  },
  {
   "cell_type": "code",
   "execution_count": 34,
   "id": "49abe9a5-204f-4f42-b41b-8252a8e8e6d8",
   "metadata": {},
   "outputs": [
    {
     "data": {
      "text/plain": [
       "3.0"
      ]
     },
     "execution_count": 34,
     "metadata": {},
     "output_type": "execute_result"
    }
   ],
   "source": [
    "(3+3)/2"
   ]
  },
  {
   "cell_type": "markdown",
   "id": "b2f3fe5d-5661-4102-bbfa-95902a56fe4f",
   "metadata": {},
   "source": [
    "Built-in method:"
   ]
  },
  {
   "cell_type": "code",
   "execution_count": 35,
   "id": "1ba5eac8-0458-4222-bdcd-f7a18f5d1d7f",
   "metadata": {},
   "outputs": [
    {
     "data": {
      "text/plain": [
       "3.0"
      ]
     },
     "execution_count": 35,
     "metadata": {},
     "output_type": "execute_result"
    }
   ],
   "source": [
    "np.median(heads_count)"
   ]
  },
  {
   "cell_type": "markdown",
   "id": "eb6a4535-7c42-4cd3-9f46-6536a9006e6e",
   "metadata": {},
   "source": [
    "#### Mode"
   ]
  },
  {
   "cell_type": "markdown",
   "id": "1aa2e7b2-d43d-4ce4-a04b-02c426fed02e",
   "metadata": {},
   "source": [
    "The **mode** is the final common measure of central tendency. It is simply the value in the distribution that occurs most frequently.\n",
    "\n",
    "As is clear in the most recently output chart, in the case of our five-coin-toss experiment, the mode is three."
   ]
  },
  {
   "cell_type": "markdown",
   "id": "b3e0c710-5d8a-49e2-bb7e-97a4acc3b0ee",
   "metadata": {},
   "source": [
    "Method available in the SciPy `stats` module:"
   ]
  },
  {
   "cell_type": "code",
   "execution_count": 36,
   "id": "46e7fc18-18d9-4580-8000-afc9bcd9a2ec",
   "metadata": {},
   "outputs": [],
   "source": [
    "#heads_count"
   ]
  },
  {
   "cell_type": "code",
   "execution_count": 37,
   "id": "7e5afafc-1859-473e-99ec-6d6cadaef9fd",
   "metadata": {},
   "outputs": [
    {
     "data": {
      "text/plain": [
       "ModeResult(mode=3, count=313)"
      ]
     },
     "execution_count": 37,
     "metadata": {},
     "output_type": "execute_result"
    }
   ],
   "source": [
    "st.mode(heads_count)"
   ]
  },
  {
   "cell_type": "code",
   "execution_count": 38,
   "id": "ec111936-394e-4d2e-9472-743d5768852d",
   "metadata": {},
   "outputs": [
    {
     "data": {
      "text/plain": [
       "3"
      ]
     },
     "execution_count": 38,
     "metadata": {},
     "output_type": "execute_result"
    }
   ],
   "source": [
    "st.mode(heads_count)[0]"
   ]
  },
  {
   "cell_type": "markdown",
   "id": "793fdc49-a037-4fd1-9d6f-fd070cc52ddf",
   "metadata": {},
   "source": [
    "With small sample sizes, the mean typically provides the most accurate measure of central tendency.\n",
    "\n",
    "With larger sample sizes, the mean, median, and mode will tend to coincide, as long as the distribution isn't skewed:"
   ]
  },
  {
   "cell_type": "code",
   "execution_count": 39,
   "id": "5a72bca8-bcec-470e-ac4a-7b26648b74d5",
   "metadata": {},
   "outputs": [],
   "source": [
    "x = st.skewnorm.rvs(0, size=1000) # first argument is \"skewness\"; 0 has no skew"
   ]
  },
  {
   "cell_type": "code",
   "execution_count": 40,
   "id": "456e4435-b71e-4046-b6a0-4fc51204bf96",
   "metadata": {},
   "outputs": [
    {
     "data": {
      "image/png": "[encoded data removed]",
      "text/plain": [
       "<Figure size 640x480 with 1 Axes>"
      ]
     },
     "metadata": {},
     "output_type": "display_data"
    }
   ],
   "source": [
    "import matplotlib.pyplot as plt\n",
    "fig, ax = plt.subplots()\n",
    "plt.axvline(x = np.mean(x), color='orange')\n",
    "plt.axvline(x = np.median(x), color='green')\n",
    "_ = plt.hist(x, color = 'lightgray')\n",
    "# Note: Mode only applies to PMFs; this is a PDF"
   ]
  },
  {
   "cell_type": "markdown",
   "id": "1989ada7-465e-4979-9f59-06b2732a7bc6",
   "metadata": {},
   "source": [
    "Skewed distributions, in contrast, drag the mean away from the center and toward the tail:"
   ]
  },
  {
   "cell_type": "code",
   "execution_count": 41,
   "id": "7877d643-8760-47ed-870c-bb4129446353",
   "metadata": {},
   "outputs": [],
   "source": [
    "x = st.skewnorm.rvs(10, size=1000)\n",
    "#x"
   ]
  },
  {
   "cell_type": "code",
   "execution_count": 42,
   "id": "b69fe1e3-f72e-42f2-a5a2-15257854feda",
   "metadata": {},
   "outputs": [
    {
     "data": {
      "image/png": "[encoded data removed]",
      "text/plain": [
       "<Figure size 640x480 with 1 Axes>"
      ]
     },
     "metadata": {},
     "output_type": "display_data"
    }
   ],
   "source": [
    "fig, ax = plt.subplots()\n",
    "plt.axvline(x = np.mean(x), color='orange')\n",
    "_ = plt.hist(x, color = 'lightgray')"
   ]
  },
  {
   "cell_type": "markdown",
   "id": "a8a73926-75bd-462d-9626-69235460fe6a",
   "metadata": {},
   "source": [
    "The mode is least impacted by skew, but is only applicable to discrete distributions. For continuous distributions with skew (e.g., salary data), median is typically the choice measure of central tendency:"
   ]
  },
  {
   "cell_type": "code",
   "execution_count": 43,
   "id": "2f8b5c87-09d1-478b-8154-e4859f901373",
   "metadata": {},
   "outputs": [
    {
     "data": {
      "image/png": "[encoded data removed]",
      "text/plain": [
       "<Figure size 640x480 with 1 Axes>"
      ]
     },
     "metadata": {},
     "output_type": "display_data"
    }
   ],
   "source": [
    "fig, ax = plt.subplots()\n",
    "plt.axvline(x = np.mean(x), color='orange')\n",
    "plt.axvline(x = np.median(x), color='green')\n",
    "_ = plt.hist(x, color = 'lightgray')"
   ]
  },
  {
   "cell_type": "markdown",
   "id": "99a0c110-c11e-41f6-b2cf-64f288491d84",
   "metadata": {},
   "source": [
    "### Quantiles"
   ]
  },
  {
   "cell_type": "markdown",
   "id": "f924dd8d-d677-484a-b401-45a0a9daac11",
   "metadata": {},
   "source": [
    "The median, which divides a distribution in two at its midpoint, is the most well-known example of a quantile:"
   ]
  },
  {
   "cell_type": "code",
   "execution_count": 44,
   "id": "340f99f9-802f-4bf6-8400-8d221db9c4ce",
   "metadata": {},
   "outputs": [],
   "source": [
    "import numpy as np"
   ]
  },
  {
   "cell_type": "code",
   "execution_count": 45,
   "id": "4cef7125-9dea-4063-a87e-d21ab09e441d",
   "metadata": {},
   "outputs": [
    {
     "data": {
      "text/plain": [
       "0.6987365121323832"
      ]
     },
     "execution_count": 45,
     "metadata": {},
     "output_type": "execute_result"
    }
   ],
   "source": [
    "np.median(x)"
   ]
  },
  {
   "cell_type": "code",
   "execution_count": 46,
   "id": "ea12c60b-fcad-4065-8bb8-313d32c20e06",
   "metadata": {},
   "outputs": [
    {
     "data": {
      "text/plain": [
       "0.6987365121323832"
      ]
     },
     "execution_count": 46,
     "metadata": {},
     "output_type": "execute_result"
    }
   ],
   "source": [
    "np.quantile(x, 0.5)"
   ]
  },
  {
   "cell_type": "markdown",
   "id": "1688e377-c07e-46d2-993a-1e2c8167edee",
   "metadata": {},
   "source": [
    "Generally speaking, quantiles divide up distributions and the most common are:\r\n",
    "\r\n",
    "* Percentiles,\r\n",
    "* Quartiles, and\r\n",
    "* Deciles."
   ]
  },
  {
   "cell_type": "markdown",
   "id": "60c15a48-e43b-4f8d-98b0-7aa2d5d6ec1f",
   "metadata": {},
   "source": [
    "**Percentiles** divide the distribution at any point out of one hundred (\"pour cent\" is French for \"out of a hundred\"). For example, if we'd like to identify the threshold for the top 5% of a distribution, we'd cut it at the 95th percentile. Or, for the top 1%, we'd cut at the 99th percentile."
   ]
  },
  {
   "cell_type": "code",
   "execution_count": 47,
   "id": "590855a8-fc5a-496d-b512-c2ae6ac8827d",
   "metadata": {},
   "outputs": [
    {
     "data": {
      "text/plain": [
       "array([2.06249928, 2.51830108])"
      ]
     },
     "execution_count": 47,
     "metadata": {},
     "output_type": "execute_result"
    }
   ],
   "source": [
    "p = np.percentile(x, [95, 99])\n",
    "p"
   ]
  },
  {
   "cell_type": "code",
   "execution_count": 48,
   "id": "57d955f7-21d2-4d72-a51f-d6526cfd420a",
   "metadata": {},
   "outputs": [
    {
     "data": {
      "image/png": "[encoded data removed]",
      "text/plain": [
       "<Figure size 640x480 with 1 Axes>"
      ]
     },
     "metadata": {},
     "output_type": "display_data"
    }
   ],
   "source": [
    "fig, ax = plt.subplots()\n",
    "plt.axvline(x = p[0], color='orange')\n",
    "plt.axvline(x = p[1], color='red')\n",
    "_ = plt.hist(x, color = 'lightgray')"
   ]
  },
  {
   "cell_type": "markdown",
   "id": "57db7aaf-a857-4f90-b1f3-ecbdc9b9bc75",
   "metadata": {},
   "source": [
    "Note that the Numpy `quantile()` method is identical to the `percentile()` method except we pass proportions (ranging from zero to one) into the former and percentages (ranging from zero to 100) into the latter:"
   ]
  },
  {
   "cell_type": "code",
   "execution_count": 49,
   "id": "b294e294-3a56-4349-a523-05a967280bda",
   "metadata": {},
   "outputs": [
    {
     "data": {
      "text/plain": [
       "array([2.06249928, 2.51830108])"
      ]
     },
     "execution_count": 49,
     "metadata": {},
     "output_type": "execute_result"
    }
   ],
   "source": [
    "np.quantile(x, [.95, .99]) "
   ]
  },
  {
   "cell_type": "markdown",
   "id": "3e7f3f52-67ea-4b95-a2d7-4862c0658de1",
   "metadata": {},
   "source": [
    "**Quartiles**, as their name suggests, are quantiles that divide a distribution into quarters by splitting the distribution at the 25th percentile, the median (a.k.a. the 50th percentile), and the 75th percentile:"
   ]
  },
  {
   "cell_type": "code",
   "execution_count": 50,
   "id": "46ac1c4c-d640-48ed-9a01-a686ff4e40ce",
   "metadata": {},
   "outputs": [
    {
     "data": {
      "text/plain": [
       "array([0.32494046, 0.69873651, 1.19431522])"
      ]
     },
     "execution_count": 50,
     "metadata": {},
     "output_type": "execute_result"
    }
   ],
   "source": [
    "q = np.percentile(x, [25, 50, 75])\n",
    "q"
   ]
  },
  {
   "cell_type": "code",
   "execution_count": 51,
   "id": "732527a4-0631-4e48-8c66-898021d67e0c",
   "metadata": {},
   "outputs": [
    {
     "data": {
      "image/png": "[encoded data removed]",
      "text/plain": [
       "<Figure size 640x480 with 1 Axes>"
      ]
     },
     "metadata": {},
     "output_type": "display_data"
    }
   ],
   "source": [
    "fig, ax = plt.subplots()\n",
    "plt.axvline(x = q[0], color='cornflowerblue')\n",
    "plt.axvline(x = q[1], color='green')\n",
    "plt.axvline(x = q[2], color='cornflowerblue')\n",
    "\n",
    "_ = plt.hist(x, color = 'lightgray')"
   ]
  },
  {
   "cell_type": "markdown",
   "id": "34980b11-addc-4d53-bdec-6f7919b97762",
   "metadata": {},
   "source": [
    "Finally, **deciles** (from Latin *decimus*, meaning \"tenth\") divide a distribution into ten evenly-sized segments:"
   ]
  },
  {
   "cell_type": "code",
   "execution_count": 52,
   "id": "60cbb21b-16ba-48b6-816c-36ffabbb927e",
   "metadata": {},
   "outputs": [
    {
     "data": {
      "text/plain": [
       "[10, 20, 30, 40, 50, 60, 70, 80, 90]"
      ]
     },
     "execution_count": 52,
     "metadata": {},
     "output_type": "execute_result"
    }
   ],
   "source": [
    "[i for i in range(10, 100, 10)]"
   ]
  },
  {
   "cell_type": "code",
   "execution_count": 53,
   "id": "fe61be2e-7fe8-4c0e-b814-0adb1081725e",
   "metadata": {},
   "outputs": [
    {
     "data": {
      "text/plain": [
       "array([0.11871856, 0.24991108, 0.3992659 , 0.53290322, 0.69873651,\n",
       "       0.86771624, 1.08994827, 1.30781239, 1.75782249])"
      ]
     },
     "execution_count": 53,
     "metadata": {},
     "output_type": "execute_result"
    }
   ],
   "source": [
    "d = np.percentile(x, range(10, 100, 10))\n",
    "d"
   ]
  },
  {
   "cell_type": "markdown",
   "id": "942c0f6a-1ddf-4588-a1cf-71dc7d5e94b2",
   "metadata": {},
   "source": [
    "As examples, we can refer to the bottom 10% as the bottom decile or the first decile, while the top 10% is the top decile or tenth decile."
   ]
  },
  {
   "cell_type": "markdown",
   "id": "5360b709-f361-47c1-b10c-b8b7931b88bb",
   "metadata": {},
   "source": [
    "### Box and Whisker Plot"
   ]
  },
  {
   "cell_type": "code",
   "execution_count": 54,
   "id": "1e7398cb-90d9-4b24-b89f-853e2e053cab",
   "metadata": {},
   "outputs": [],
   "source": [
    "sns.set(style='whitegrid')"
   ]
  },
  {
   "cell_type": "code",
   "execution_count": 55,
   "id": "141ab3a7-f19a-4ab4-82bf-7ca5f4fbe0b5",
   "metadata": {},
   "outputs": [
    {
     "data": {
      "image/png": "[encoded data removed]",
      "text/plain": [
       "<Figure size 640x480 with 1 Axes>"
      ]
     },
     "metadata": {},
     "output_type": "display_data"
    }
   ],
   "source": [
    "_=sns.boxplot(x=x)"
   ]
  },
  {
   "cell_type": "markdown",
   "id": "bd43c0a1-3f0c-4f4c-aede-efeb46e7b1e1",
   "metadata": {},
   "source": [
    "Box edges and median are determined by quartiles:"
   ]
  },
  {
   "cell_type": "code",
   "execution_count": 56,
   "id": "47f75e1d-b39a-4721-9cd8-9936b37e9274",
   "metadata": {},
   "outputs": [
    {
     "data": {
      "text/plain": [
       "array([0.32494046, 0.69873651, 1.19431522])"
      ]
     },
     "execution_count": 56,
     "metadata": {},
     "output_type": "execute_result"
    }
   ],
   "source": [
    "q"
   ]
  },
  {
   "cell_type": "markdown",
   "id": "3ff245a8-b8e7-43f5-a927-cb4da786b902",
   "metadata": {},
   "source": [
    "Box edges define the inter-quartile range (IQR):"
   ]
  },
  {
   "cell_type": "code",
   "execution_count": 57,
   "id": "63e1d684-ea27-4d4c-bde3-5c73a6463970",
   "metadata": {},
   "outputs": [
    {
     "data": {
      "text/plain": [
       "0.869"
      ]
     },
     "execution_count": 57,
     "metadata": {},
     "output_type": "execute_result"
    }
   ],
   "source": [
    "r = 1.194 - 0.325\n",
    "r"
   ]
  },
  {
   "cell_type": "markdown",
   "id": "649abac8-e657-4391-8aef-81bce111e4af",
   "metadata": {},
   "source": [
    "Whisker lengths are determined by furthest data points within $1.5 \\times \\text{IQR}$ of the box edges."
   ]
  },
  {
   "cell_type": "markdown",
   "id": "db98a008-804b-4d1c-882e-44f2c716c1a5",
   "metadata": {},
   "source": [
    "In this case, the lower whisker could stretch as far down (to the left in the plot) as:"
   ]
  },
  {
   "cell_type": "code",
   "execution_count": 58,
   "id": "f96132ea-de30-42e5-9b69-3aaf0b8bcdc6",
   "metadata": {},
   "outputs": [
    {
     "data": {
      "text/plain": [
       "-0.9785000000000001"
      ]
     },
     "execution_count": 58,
     "metadata": {},
     "output_type": "execute_result"
    }
   ],
   "source": [
    "0.325 - 1.5*r"
   ]
  },
  {
   "cell_type": "markdown",
   "id": "a16fb11d-485b-4a6d-87a8-909f7f9ef2c7",
   "metadata": {},
   "source": [
    "The lowest value is inside of that so the whisker is plotted where that lowest value is:"
   ]
  },
  {
   "cell_type": "code",
   "execution_count": 59,
   "id": "bdba21b1-a098-40b1-812d-f765e33a185e",
   "metadata": {},
   "outputs": [
    {
     "data": {
      "text/plain": [
       "-0.17083838831568182"
      ]
     },
     "execution_count": 59,
     "metadata": {},
     "output_type": "execute_result"
    }
   ],
   "source": [
    "np.min(x)"
   ]
  },
  {
   "cell_type": "markdown",
   "id": "e836b0fa-067c-405b-ae03-f050746d9524",
   "metadata": {},
   "source": [
    "The upper whisker could stretch as far up (to the right in the plot) as:"
   ]
  },
  {
   "cell_type": "code",
   "execution_count": 60,
   "id": "a0deb19b-eb44-4604-bcac-b498c68c0ce4",
   "metadata": {},
   "outputs": [
    {
     "data": {
      "text/plain": [
       "2.4975"
      ]
     },
     "execution_count": 60,
     "metadata": {},
     "output_type": "execute_result"
    }
   ],
   "source": [
    "1.194 + 1.5*r"
   ]
  },
  {
   "cell_type": "markdown",
   "id": "2f0ee7cd-b5ce-4f72-8293-d4870ec221d3",
   "metadata": {},
   "source": [
    "There are several (eleven) values beyond this threshold in the distribution. These values are considered **outliers** and are plotted as individual points:"
   ]
  },
  {
   "cell_type": "code",
   "execution_count": 61,
   "id": "078fb1fb-dd24-4bdd-8bd5-bcdb3fc4d9f0",
   "metadata": {},
   "outputs": [],
   "source": [
    "x.sort()"
   ]
  },
  {
   "cell_type": "code",
   "execution_count": 62,
   "id": "b4c9be1d-3306-45f2-8ae1-d20a4c453501",
   "metadata": {},
   "outputs": [
    {
     "data": {
      "text/plain": [
       "array([2.39810074, 2.40295599, 2.41430044, 2.43541111, 2.51827951,\n",
       "       2.52043572, 2.56177972, 2.74024547, 2.74882884, 2.78877435,\n",
       "       2.88399304, 2.93368541, 2.94293176, 3.46465001, 4.00641863])"
      ]
     },
     "execution_count": 62,
     "metadata": {},
     "output_type": "execute_result"
    }
   ],
   "source": [
    "x[-15:]"
   ]
  },
  {
   "cell_type": "markdown",
   "id": "adc6089b-c50b-432b-8faa-7078fdb2552c",
   "metadata": {},
   "source": [
    "The twelth-highest value, 2.435, is the largest within the upper whisker's maximum reach and so the upper whisker is plotted there."
   ]
  },
  {
   "cell_type": "markdown",
   "id": "c834a513-73d9-41f1-ad00-573bca38be67",
   "metadata": {},
   "source": [
    "Useful for examining distributions on their own, box-and-whisker plots are especially helpful for comparing distributions:"
   ]
  },
  {
   "cell_type": "code",
   "execution_count": 63,
   "id": "56bf0e56-a457-4c21-b4ab-5f33ea7dc52b",
   "metadata": {},
   "outputs": [
    {
     "data": {
      "text/html": [
       "<div>\n",
       "<style scoped>\n",
       "    .dataframe tbody tr th:only-of-type {\n",
       "        vertical-align: middle;\n",
       "    }\n",
       "\n",
       "    .dataframe tbody tr th {\n",
       "        vertical-align: top;\n",
       "    }\n",
       "\n",
       "    .dataframe thead th {\n",
       "        text-align: right;\n",
       "    }\n",
       "</style>\n",
       "<table border=\"1\" class=\"dataframe\">\n",
       "  <thead>\n",
       "    <tr style=\"text-align: right;\">\n",
       "      <th></th>\n",
       "      <th>sepal_length</th>\n",
       "      <th>sepal_width</th>\n",
       "      <th>petal_length</th>\n",
       "      <th>petal_width</th>\n",
       "      <th>species</th>\n",
       "    </tr>\n",
       "  </thead>\n",
       "  <tbody>\n",
       "    <tr>\n",
       "      <th>0</th>\n",
       "      <td>5.1</td>\n",
       "      <td>3.5</td>\n",
       "      <td>1.4</td>\n",
       "      <td>0.2</td>\n",
       "      <td>setosa</td>\n",
       "    </tr>\n",
       "    <tr>\n",
       "      <th>1</th>\n",
       "      <td>4.9</td>\n",
       "      <td>3.0</td>\n",
       "      <td>1.4</td>\n",
       "      <td>0.2</td>\n",
       "      <td>setosa</td>\n",
       "    </tr>\n",
       "    <tr>\n",
       "      <th>2</th>\n",
       "      <td>4.7</td>\n",
       "      <td>3.2</td>\n",
       "      <td>1.3</td>\n",
       "      <td>0.2</td>\n",
       "      <td>setosa</td>\n",
       "    </tr>\n",
       "    <tr>\n",
       "      <th>3</th>\n",
       "      <td>4.6</td>\n",
       "      <td>3.1</td>\n",
       "      <td>1.5</td>\n",
       "      <td>0.2</td>\n",
       "      <td>setosa</td>\n",
       "    </tr>\n",
       "    <tr>\n",
       "      <th>4</th>\n",
       "      <td>5.0</td>\n",
       "      <td>3.6</td>\n",
       "      <td>1.4</td>\n",
       "      <td>0.2</td>\n",
       "      <td>setosa</td>\n",
       "    </tr>\n",
       "    <tr>\n",
       "      <th>...</th>\n",
       "      <td>...</td>\n",
       "      <td>...</td>\n",
       "      <td>...</td>\n",
       "      <td>...</td>\n",
       "      <td>...</td>\n",
       "    </tr>\n",
       "    <tr>\n",
       "      <th>145</th>\n",
       "      <td>6.7</td>\n",
       "      <td>3.0</td>\n",
       "      <td>5.2</td>\n",
       "      <td>2.3</td>\n",
       "      <td>virginica</td>\n",
       "    </tr>\n",
       "    <tr>\n",
       "      <th>146</th>\n",
       "      <td>6.3</td>\n",
       "      <td>2.5</td>\n",
       "      <td>5.0</td>\n",
       "      <td>1.9</td>\n",
       "      <td>virginica</td>\n",
       "    </tr>\n",
       "    <tr>\n",
       "      <th>147</th>\n",
       "      <td>6.5</td>\n",
       "      <td>3.0</td>\n",
       "      <td>5.2</td>\n",
       "      <td>2.0</td>\n",
       "      <td>virginica</td>\n",
       "    </tr>\n",
       "    <tr>\n",
       "      <th>148</th>\n",
       "      <td>6.2</td>\n",
       "      <td>3.4</td>\n",
       "      <td>5.4</td>\n",
       "      <td>2.3</td>\n",
       "      <td>virginica</td>\n",
       "    </tr>\n",
       "    <tr>\n",
       "      <th>149</th>\n",
       "      <td>5.9</td>\n",
       "      <td>3.0</td>\n",
       "      <td>5.1</td>\n",
       "      <td>1.8</td>\n",
       "      <td>virginica</td>\n",
       "    </tr>\n",
       "  </tbody>\n",
       "</table>\n",
       "<p>150 rows × 5 columns</p>\n",
       "</div>"
      ],
      "text/plain": [
       "     sepal_length  sepal_width  petal_length  petal_width    species\n",
       "0             5.1          3.5           1.4          0.2     setosa\n",
       "1             4.9          3.0           1.4          0.2     setosa\n",
       "2             4.7          3.2           1.3          0.2     setosa\n",
       "3             4.6          3.1           1.5          0.2     setosa\n",
       "4             5.0          3.6           1.4          0.2     setosa\n",
       "..            ...          ...           ...          ...        ...\n",
       "145           6.7          3.0           5.2          2.3  virginica\n",
       "146           6.3          2.5           5.0          1.9  virginica\n",
       "147           6.5          3.0           5.2          2.0  virginica\n",
       "148           6.2          3.4           5.4          2.3  virginica\n",
       "149           5.9          3.0           5.1          1.8  virginica\n",
       "\n",
       "[150 rows x 5 columns]"
      ]
     },
     "execution_count": 63,
     "metadata": {},
     "output_type": "execute_result"
    }
   ],
   "source": [
    "iris = sns.load_dataset('iris')\n",
    "iris"
   ]
  },
  {
   "cell_type": "code",
   "execution_count": 64,
   "id": "e1bfef75-88ba-4bec-9384-5b1067e2caf4",
   "metadata": {},
   "outputs": [
    {
     "data": {
      "image/png": "[encoded data removed]",
      "text/plain": [
       "<Figure size 640x480 with 1 Axes>"
      ]
     },
     "metadata": {},
     "output_type": "display_data"
    }
   ],
   "source": [
    "_ = sns.boxplot(data=iris)"
   ]
  },
  {
   "cell_type": "code",
   "execution_count": 65,
   "id": "9e837e78-70ba-4620-938a-2a0374feb185",
   "metadata": {},
   "outputs": [
    {
     "data": {
      "text/html": [
       "<div>\n",
       "<style scoped>\n",
       "    .dataframe tbody tr th:only-of-type {\n",
       "        vertical-align: middle;\n",
       "    }\n",
       "\n",
       "    .dataframe tbody tr th {\n",
       "        vertical-align: top;\n",
       "    }\n",
       "\n",
       "    .dataframe thead th {\n",
       "        text-align: right;\n",
       "    }\n",
       "</style>\n",
       "<table border=\"1\" class=\"dataframe\">\n",
       "  <thead>\n",
       "    <tr style=\"text-align: right;\">\n",
       "      <th></th>\n",
       "      <th>total_bill</th>\n",
       "      <th>tip</th>\n",
       "      <th>sex</th>\n",
       "      <th>smoker</th>\n",
       "      <th>day</th>\n",
       "      <th>time</th>\n",
       "      <th>size</th>\n",
       "    </tr>\n",
       "  </thead>\n",
       "  <tbody>\n",
       "    <tr>\n",
       "      <th>0</th>\n",
       "      <td>16.99</td>\n",
       "      <td>1.01</td>\n",
       "      <td>Female</td>\n",
       "      <td>No</td>\n",
       "      <td>Sun</td>\n",
       "      <td>Dinner</td>\n",
       "      <td>2</td>\n",
       "    </tr>\n",
       "    <tr>\n",
       "      <th>1</th>\n",
       "      <td>10.34</td>\n",
       "      <td>1.66</td>\n",
       "      <td>Male</td>\n",
       "      <td>No</td>\n",
       "      <td>Sun</td>\n",
       "      <td>Dinner</td>\n",
       "      <td>3</td>\n",
       "    </tr>\n",
       "    <tr>\n",
       "      <th>2</th>\n",
       "      <td>21.01</td>\n",
       "      <td>3.50</td>\n",
       "      <td>Male</td>\n",
       "      <td>No</td>\n",
       "      <td>Sun</td>\n",
       "      <td>Dinner</td>\n",
       "      <td>3</td>\n",
       "    </tr>\n",
       "    <tr>\n",
       "      <th>3</th>\n",
       "      <td>23.68</td>\n",
       "      <td>3.31</td>\n",
       "      <td>Male</td>\n",
       "      <td>No</td>\n",
       "      <td>Sun</td>\n",
       "      <td>Dinner</td>\n",
       "      <td>2</td>\n",
       "    </tr>\n",
       "    <tr>\n",
       "      <th>4</th>\n",
       "      <td>24.59</td>\n",
       "      <td>3.61</td>\n",
       "      <td>Female</td>\n",
       "      <td>No</td>\n",
       "      <td>Sun</td>\n",
       "      <td>Dinner</td>\n",
       "      <td>4</td>\n",
       "    </tr>\n",
       "    <tr>\n",
       "      <th>...</th>\n",
       "      <td>...</td>\n",
       "      <td>...</td>\n",
       "      <td>...</td>\n",
       "      <td>...</td>\n",
       "      <td>...</td>\n",
       "      <td>...</td>\n",
       "      <td>...</td>\n",
       "    </tr>\n",
       "    <tr>\n",
       "      <th>239</th>\n",
       "      <td>29.03</td>\n",
       "      <td>5.92</td>\n",
       "      <td>Male</td>\n",
       "      <td>No</td>\n",
       "      <td>Sat</td>\n",
       "      <td>Dinner</td>\n",
       "      <td>3</td>\n",
       "    </tr>\n",
       "    <tr>\n",
       "      <th>240</th>\n",
       "      <td>27.18</td>\n",
       "      <td>2.00</td>\n",
       "      <td>Female</td>\n",
       "      <td>Yes</td>\n",
       "      <td>Sat</td>\n",
       "      <td>Dinner</td>\n",
       "      <td>2</td>\n",
       "    </tr>\n",
       "    <tr>\n",
       "      <th>241</th>\n",
       "      <td>22.67</td>\n",
       "      <td>2.00</td>\n",
       "      <td>Male</td>\n",
       "      <td>Yes</td>\n",
       "      <td>Sat</td>\n",
       "      <td>Dinner</td>\n",
       "      <td>2</td>\n",
       "    </tr>\n",
       "    <tr>\n",
       "      <th>242</th>\n",
       "      <td>17.82</td>\n",
       "      <td>1.75</td>\n",
       "      <td>Male</td>\n",
       "      <td>No</td>\n",
       "      <td>Sat</td>\n",
       "      <td>Dinner</td>\n",
       "      <td>2</td>\n",
       "    </tr>\n",
       "    <tr>\n",
       "      <th>243</th>\n",
       "      <td>18.78</td>\n",
       "      <td>3.00</td>\n",
       "      <td>Female</td>\n",
       "      <td>No</td>\n",
       "      <td>Thur</td>\n",
       "      <td>Dinner</td>\n",
       "      <td>2</td>\n",
       "    </tr>\n",
       "  </tbody>\n",
       "</table>\n",
       "<p>244 rows × 7 columns</p>\n",
       "</div>"
      ],
      "text/plain": [
       "     total_bill   tip     sex smoker   day    time  size\n",
       "0         16.99  1.01  Female     No   Sun  Dinner     2\n",
       "1         10.34  1.66    Male     No   Sun  Dinner     3\n",
       "2         21.01  3.50    Male     No   Sun  Dinner     3\n",
       "3         23.68  3.31    Male     No   Sun  Dinner     2\n",
       "4         24.59  3.61  Female     No   Sun  Dinner     4\n",
       "..          ...   ...     ...    ...   ...     ...   ...\n",
       "239       29.03  5.92    Male     No   Sat  Dinner     3\n",
       "240       27.18  2.00  Female    Yes   Sat  Dinner     2\n",
       "241       22.67  2.00    Male    Yes   Sat  Dinner     2\n",
       "242       17.82  1.75    Male     No   Sat  Dinner     2\n",
       "243       18.78  3.00  Female     No  Thur  Dinner     2\n",
       "\n",
       "[244 rows x 7 columns]"
      ]
     },
     "execution_count": 65,
     "metadata": {},
     "output_type": "execute_result"
    }
   ],
   "source": [
    "tips = sns.load_dataset('tips')\n",
    "tips"
   ]
  },
  {
   "cell_type": "code",
   "execution_count": 66,
   "id": "a5c16c52-116b-47e4-937a-661c96f1a583",
   "metadata": {},
   "outputs": [],
   "source": [
    "import warnings\n",
    "warnings.filterwarnings(\"ignore\", category=FutureWarning)"
   ]
  },
  {
   "cell_type": "code",
   "execution_count": 67,
   "id": "60507b8e-c930-4daf-b0e5-24d4ff0330b2",
   "metadata": {},
   "outputs": [
    {
     "data": {
      "image/png": "[encoded data removed]",
      "text/plain": [
       "<Figure size 640x480 with 1 Axes>"
      ]
     },
     "metadata": {},
     "output_type": "display_data"
    }
   ],
   "source": [
    "_ = sns.boxplot(x='day', y='total_bill', hue='smoker', data=tips)"
   ]
  },
  {
   "cell_type": "markdown",
   "id": "a9980a62-d29b-4e94-acea-7e429eb1fc7c",
   "metadata": {},
   "source": [
    "### Measures of Dispersion"
   ]
  },
  {
   "cell_type": "markdown",
   "id": "e991bd9f-2d40-431a-8824-7dba45425f3a",
   "metadata": {},
   "source": [
    "IQR is a relatively rare measure of the dispersion of values around the center of a distribution. The most widely-used are:\r\n",
    "\r\n",
    "* Variance,\r\n",
    "* Standard deviation, and\r\n",
    "* Standard eror."
   ]
  },
  {
   "cell_type": "markdown",
   "id": "90cf708f-bf33-4de4-9e1e-f66b6766de17",
   "metadata": {},
   "source": [
    "**Variance** (denoted with $\\sigma^2$) can be written using expected-value notation, but it's easier to understand without it:\r\n",
    "$$ \\sigma^2 = \\frac{\\sum_{i=1}^n (x_i-\\bar{x})^2}{n} $$"
   ]
  },
  {
   "cell_type": "markdown",
   "id": "99a2af11-75d9-427b-a535-5b81c69db989",
   "metadata": {},
   "source": [
    "this formula is the same as mean-squared-error cost, except $x_i$ is being compared to the mean $\\mu$ instead of a predicted value $\\hat{x}_i$.)"
   ]
  },
  {
   "cell_type": "markdown",
   "id": "64f09d45-592c-4130-bc0f-8aad5b12e7ed",
   "metadata": {},
   "source": [
    "(Technically speaking, we should divide by  n -1 with a sample of data, but with the large datasets typical of machine learning, it's a negligible difference. If  n  were equal to a small number like 8 then it would matter.)"
   ]
  },
  {
   "cell_type": "markdown",
   "id": "c623e5eb-931e-4099-9358-d7f8a29b0eca",
   "metadata": {},
   "source": [
    "(Also technically speaking, the variance of a sample is typically denoted with $s^2$ as opposed to the Greek $\\sigma^2$, akin to how $\\bar{x}$ denotes the mean of a sample while the Greek $\\mu$ is reserved for population mean.)"
   ]
  },
  {
   "cell_type": "markdown",
   "id": "002ef3ee-11cf-426c-ab67-59a381109c8f",
   "metadata": {},
   "source": [
    "As an example let's calculate the variance of the PDF `x` from earlier:"
   ]
  },
  {
   "cell_type": "code",
   "execution_count": 68,
   "id": "da7c36b3-4cf1-4f4a-819d-b448ac0ab73b",
   "metadata": {},
   "outputs": [
    {
     "data": {
      "text/plain": [
       "0.8219573880882259"
      ]
     },
     "execution_count": 68,
     "metadata": {},
     "output_type": "execute_result"
    }
   ],
   "source": [
    "xbar = np.mean(x)\n",
    "xbar"
   ]
  },
  {
   "cell_type": "code",
   "execution_count": 69,
   "id": "9a69bda5-cb49-4d06-bdd2-40fd349150c2",
   "metadata": {},
   "outputs": [],
   "source": [
    "squared_differences = [(x_i - xbar)**2 for x_i in x]"
   ]
  },
  {
   "cell_type": "code",
   "execution_count": 70,
   "id": "732e6d99-ec59-4463-99e0-b03dd4769ac2",
   "metadata": {},
   "outputs": [
    {
     "data": {
      "text/plain": [
       "[0.9856434536454379,\n",
       " 0.9170226052916489,\n",
       " 0.8965181282231266,\n",
       " 0.8883307031718269,\n",
       " 0.8733501430824243,\n",
       " 0.8562478309191935,\n",
       " 0.8319771034452769,\n",
       " 0.8310929040089835,\n",
       " 0.7863402041234238,\n",
       " 0.7766155393407362]"
      ]
     },
     "execution_count": 70,
     "metadata": {},
     "output_type": "execute_result"
    }
   ],
   "source": [
    "squared_differences[0:10]"
   ]
  },
  {
   "cell_type": "code",
   "execution_count": 71,
   "id": "7f06ff54-8806-47d3-9ca1-7141b14d28b5",
   "metadata": {},
   "outputs": [
    {
     "data": {
      "text/plain": [
       "0.39813585982250543"
      ]
     },
     "execution_count": 71,
     "metadata": {},
     "output_type": "execute_result"
    }
   ],
   "source": [
    "sigma_squared = sum(squared_differences)/len(x)\n",
    "sigma_squared"
   ]
  },
  {
   "cell_type": "code",
   "execution_count": 72,
   "id": "82547620-b27a-4cd9-bfbf-e6fa2dacc87d",
   "metadata": {},
   "outputs": [
    {
     "data": {
      "text/plain": [
       "0.3981358598225057"
      ]
     },
     "execution_count": 72,
     "metadata": {},
     "output_type": "execute_result"
    }
   ],
   "source": [
    "np.var(x)"
   ]
  },
  {
   "cell_type": "markdown",
   "id": "f4876f27-c314-4447-809d-b61fc6c35285",
   "metadata": {},
   "source": [
    "### Standard Deviation"
   ]
  },
  {
   "cell_type": "markdown",
   "id": "f9ea0bf2-6bac-43ac-ad9b-58b8e063c76e",
   "metadata": {},
   "source": [
    "A straightforward derivative of variance is **standard deviation** (denoted with $\\sigma$), which is convenient because its units are on the same scale as the values in the distribution:\n",
    "$$ \\sigma = \\sqrt{\\sigma^2} $$"
   ]
  },
  {
   "cell_type": "code",
   "execution_count": 73,
   "id": "94790056-40c1-4a02-9dd7-2c32a1fb66e2",
   "metadata": {},
   "outputs": [
    {
     "data": {
      "text/plain": [
       "0.6309800787841923"
      ]
     },
     "execution_count": 73,
     "metadata": {},
     "output_type": "execute_result"
    }
   ],
   "source": [
    "sigma = (sigma_squared ** (1/2))\n",
    "sigma"
   ]
  },
  {
   "cell_type": "code",
   "execution_count": 74,
   "id": "e7234f76-c979-437d-916b-25514ee5ff42",
   "metadata": {},
   "outputs": [
    {
     "data": {
      "text/plain": [
       "0.6309800787841925"
      ]
     },
     "execution_count": 74,
     "metadata": {},
     "output_type": "execute_result"
    }
   ],
   "source": [
    "np.std(x)"
   ]
  },
  {
   "cell_type": "code",
   "execution_count": 75,
   "id": "9cef4f1c-8c05-4c96-a376-517681f8f22f",
   "metadata": {},
   "outputs": [
    {
     "data": {
      "image/png": "[encoded data removed]",
      "text/plain": [
       "<Figure size 640x480 with 1 Axes>"
      ]
     },
     "metadata": {},
     "output_type": "display_data"
    }
   ],
   "source": [
    "fig, ax = plt.subplots()\n",
    "plt.axvline(x = xbar, color='orange')\n",
    "plt.axvline(x = xbar+sigma, color='olivedrab')\n",
    "plt.axvline(x = xbar-sigma, color='olivedrab')\n",
    "_ = plt.hist(x, color = 'lightgray') "
   ]
  },
  {
   "cell_type": "markdown",
   "id": "a8d77fe8-b3e2-46e4-9795-dc40984c711e",
   "metadata": {},
   "source": [
    "### Standard Error:"
   ]
  },
  {
   "cell_type": "markdown",
   "id": "73118845-a2c3-4977-a801-9ffe1ecc6eb1",
   "metadata": {},
   "source": [
    "A further derivation of standard deviation is **standard error**, which is denoted with $\\sigma_\\bar{x}$:\r\n",
    "$$ \\sigma_\\bar{x} = \\frac{\\sigma}{\\sqrt{n}} $$"
   ]
  },
  {
   "cell_type": "code",
   "execution_count": 76,
   "id": "c83a5fee-f862-429e-bab6-a2571e4202c0",
   "metadata": {},
   "outputs": [
    {
     "data": {
      "text/plain": [
       "0.019953342071505353"
      ]
     },
     "execution_count": 76,
     "metadata": {},
     "output_type": "execute_result"
    }
   ],
   "source": [
    "sigma/(len(x))**(1/2)"
   ]
  },
  {
   "cell_type": "code",
   "execution_count": 77,
   "id": "e3b4a066-067d-4a5b-acf2-aab34fecb5f6",
   "metadata": {},
   "outputs": [
    {
     "data": {
      "text/plain": [
       "0.01996332623128527"
      ]
     },
     "execution_count": 77,
     "metadata": {},
     "output_type": "execute_result"
    }
   ],
   "source": [
    "st.sem(x) # defaults to 1 degree of freedom (n-1), which can be ignored with the larger data sets of ML"
   ]
  },
  {
   "cell_type": "code",
   "execution_count": 78,
   "id": "79b49ba4-bd43-49d9-b53f-26916cb69f70",
   "metadata": {},
   "outputs": [
    {
     "data": {
      "text/plain": [
       "0.01995334207150536"
      ]
     },
     "execution_count": 78,
     "metadata": {},
     "output_type": "execute_result"
    }
   ],
   "source": [
    "st.sem(x, ddof=0) # 0 degrees of freedom (n)"
   ]
  },
  {
   "cell_type": "markdown",
   "id": "58ebd705-9173-410c-830b-3f5ce77a38bd",
   "metadata": {},
   "source": [
    "### Measures of Relatedness"
   ]
  },
  {
   "cell_type": "markdown",
   "id": "8de33859-951e-4788-b9bf-0ec80b653b92",
   "metadata": {},
   "source": [
    "If we have two vectors of the same length, $x$ and $y$, where each element of $x$ is paired with the corresponding element of $y$, **covariance** provides a measure of how related the variables are to each other:\n",
    "$$ \\text{cov}(x, y) = \\frac{\\sum_{i=1}^n (x_i - \\bar{x})(y_i - \\bar{y}) }{n} $$"
   ]
  },
  {
   "cell_type": "code",
   "execution_count": 79,
   "id": "772091da-91a2-4cf3-9082-170869a01956",
   "metadata": {},
   "outputs": [
    {
     "data": {
      "text/html": [
       "<div>\n",
       "<style scoped>\n",
       "    .dataframe tbody tr th:only-of-type {\n",
       "        vertical-align: middle;\n",
       "    }\n",
       "\n",
       "    .dataframe tbody tr th {\n",
       "        vertical-align: top;\n",
       "    }\n",
       "\n",
       "    .dataframe thead th {\n",
       "        text-align: right;\n",
       "    }\n",
       "</style>\n",
       "<table border=\"1\" class=\"dataframe\">\n",
       "  <thead>\n",
       "    <tr style=\"text-align: right;\">\n",
       "      <th></th>\n",
       "      <th>sepal_length</th>\n",
       "      <th>sepal_width</th>\n",
       "      <th>petal_length</th>\n",
       "      <th>petal_width</th>\n",
       "      <th>species</th>\n",
       "    </tr>\n",
       "  </thead>\n",
       "  <tbody>\n",
       "    <tr>\n",
       "      <th>0</th>\n",
       "      <td>5.1</td>\n",
       "      <td>3.5</td>\n",
       "      <td>1.4</td>\n",
       "      <td>0.2</td>\n",
       "      <td>setosa</td>\n",
       "    </tr>\n",
       "    <tr>\n",
       "      <th>1</th>\n",
       "      <td>4.9</td>\n",
       "      <td>3.0</td>\n",
       "      <td>1.4</td>\n",
       "      <td>0.2</td>\n",
       "      <td>setosa</td>\n",
       "    </tr>\n",
       "    <tr>\n",
       "      <th>2</th>\n",
       "      <td>4.7</td>\n",
       "      <td>3.2</td>\n",
       "      <td>1.3</td>\n",
       "      <td>0.2</td>\n",
       "      <td>setosa</td>\n",
       "    </tr>\n",
       "    <tr>\n",
       "      <th>3</th>\n",
       "      <td>4.6</td>\n",
       "      <td>3.1</td>\n",
       "      <td>1.5</td>\n",
       "      <td>0.2</td>\n",
       "      <td>setosa</td>\n",
       "    </tr>\n",
       "    <tr>\n",
       "      <th>4</th>\n",
       "      <td>5.0</td>\n",
       "      <td>3.6</td>\n",
       "      <td>1.4</td>\n",
       "      <td>0.2</td>\n",
       "      <td>setosa</td>\n",
       "    </tr>\n",
       "    <tr>\n",
       "      <th>...</th>\n",
       "      <td>...</td>\n",
       "      <td>...</td>\n",
       "      <td>...</td>\n",
       "      <td>...</td>\n",
       "      <td>...</td>\n",
       "    </tr>\n",
       "    <tr>\n",
       "      <th>145</th>\n",
       "      <td>6.7</td>\n",
       "      <td>3.0</td>\n",
       "      <td>5.2</td>\n",
       "      <td>2.3</td>\n",
       "      <td>virginica</td>\n",
       "    </tr>\n",
       "    <tr>\n",
       "      <th>146</th>\n",
       "      <td>6.3</td>\n",
       "      <td>2.5</td>\n",
       "      <td>5.0</td>\n",
       "      <td>1.9</td>\n",
       "      <td>virginica</td>\n",
       "    </tr>\n",
       "    <tr>\n",
       "      <th>147</th>\n",
       "      <td>6.5</td>\n",
       "      <td>3.0</td>\n",
       "      <td>5.2</td>\n",
       "      <td>2.0</td>\n",
       "      <td>virginica</td>\n",
       "    </tr>\n",
       "    <tr>\n",
       "      <th>148</th>\n",
       "      <td>6.2</td>\n",
       "      <td>3.4</td>\n",
       "      <td>5.4</td>\n",
       "      <td>2.3</td>\n",
       "      <td>virginica</td>\n",
       "    </tr>\n",
       "    <tr>\n",
       "      <th>149</th>\n",
       "      <td>5.9</td>\n",
       "      <td>3.0</td>\n",
       "      <td>5.1</td>\n",
       "      <td>1.8</td>\n",
       "      <td>virginica</td>\n",
       "    </tr>\n",
       "  </tbody>\n",
       "</table>\n",
       "<p>150 rows × 5 columns</p>\n",
       "</div>"
      ],
      "text/plain": [
       "     sepal_length  sepal_width  petal_length  petal_width    species\n",
       "0             5.1          3.5           1.4          0.2     setosa\n",
       "1             4.9          3.0           1.4          0.2     setosa\n",
       "2             4.7          3.2           1.3          0.2     setosa\n",
       "3             4.6          3.1           1.5          0.2     setosa\n",
       "4             5.0          3.6           1.4          0.2     setosa\n",
       "..            ...          ...           ...          ...        ...\n",
       "145           6.7          3.0           5.2          2.3  virginica\n",
       "146           6.3          2.5           5.0          1.9  virginica\n",
       "147           6.5          3.0           5.2          2.0  virginica\n",
       "148           6.2          3.4           5.4          2.3  virginica\n",
       "149           5.9          3.0           5.1          1.8  virginica\n",
       "\n",
       "[150 rows x 5 columns]"
      ]
     },
     "execution_count": 79,
     "metadata": {},
     "output_type": "execute_result"
    }
   ],
   "source": [
    "iris\n"
   ]
  },
  {
   "cell_type": "code",
   "execution_count": 80,
   "id": "ef0bc5b2-5331-4bb7-a7d3-d399f77d9645",
   "metadata": {},
   "outputs": [],
   "source": [
    "x = iris.sepal_length\n",
    "y = iris.petal_length"
   ]
  },
  {
   "cell_type": "code",
   "execution_count": 81,
   "id": "a8e05605-8dd9-42d3-9f04-648fd8e7906d",
   "metadata": {},
   "outputs": [
    {
     "data": {
      "image/png": "[encoded data removed]",
      "text/plain": [
       "<Figure size 640x480 with 1 Axes>"
      ]
     },
     "metadata": {},
     "output_type": "display_data"
    }
   ],
   "source": [
    "_ = sns.scatterplot(x=x, y=y)"
   ]
  },
  {
   "cell_type": "code",
   "execution_count": 82,
   "id": "8666e1c7-9896-4daa-ab6b-905a6a1d4d57",
   "metadata": {},
   "outputs": [],
   "source": [
    "n = len(x)"
   ]
  },
  {
   "cell_type": "code",
   "execution_count": 83,
   "id": "20417781-32dd-4347-9f28-f309f8140779",
   "metadata": {},
   "outputs": [],
   "source": [
    "xbar = sum(x)/n\n",
    "ybar = sum(y)/n"
   ]
  },
  {
   "cell_type": "code",
   "execution_count": 84,
   "id": "e13e6fc8-785f-4ab8-9dba-b0c198a4c5d2",
   "metadata": {},
   "outputs": [],
   "source": [
    "product = []\n",
    "for i in range(n):\n",
    "    product.append((x[i]-xbar)*(y[i]-ybar))"
   ]
  },
  {
   "cell_type": "code",
   "execution_count": 85,
   "id": "630504fd-230f-49b8-9655-eca01dacce83",
   "metadata": {},
   "outputs": [
    {
     "data": {
      "text/plain": [
       "1.2658199999999995"
      ]
     },
     "execution_count": 85,
     "metadata": {},
     "output_type": "execute_result"
    }
   ],
   "source": [
    "cov = sum(product)/n\n",
    "cov"
   ]
  },
  {
   "cell_type": "markdown",
   "id": "fae46b7c-e58b-4e14-a7ea-03cd4c98373c",
   "metadata": {},
   "source": [
    "The NumPy `cov()` method returns a **covariance matrix**, which is a $2 \\times 2$ matrix because $x$ and $y$ together describe a two-dimensional space:"
   ]
  },
  {
   "cell_type": "code",
   "execution_count": 86,
   "id": "7abd4ddd-6272-4138-95c9-e652efea5168",
   "metadata": {},
   "outputs": [
    {
     "data": {
      "text/plain": [
       "array([[0.68112222, 1.26582   ],\n",
       "       [1.26582   , 3.09550267]])"
      ]
     },
     "execution_count": 86,
     "metadata": {},
     "output_type": "execute_result"
    }
   ],
   "source": [
    "np.cov(x, y, ddof=0) # again, defaults to ddof=1"
   ]
  },
  {
   "cell_type": "code",
   "execution_count": 87,
   "id": "d7bda7d5-9bb4-4c24-b916-4a638e040316",
   "metadata": {},
   "outputs": [
    {
     "data": {
      "text/plain": [
       "0.6811222222222222"
      ]
     },
     "execution_count": 87,
     "metadata": {},
     "output_type": "execute_result"
    }
   ],
   "source": [
    "np.var(x)"
   ]
  },
  {
   "cell_type": "code",
   "execution_count": 88,
   "id": "f9ac5957-c8a7-4a9f-8806-f57a3ee3dbb9",
   "metadata": {},
   "outputs": [
    {
     "data": {
      "text/plain": [
       "3.0955026666666674"
      ]
     },
     "execution_count": 88,
     "metadata": {},
     "output_type": "execute_result"
    }
   ],
   "source": [
    "np.var(y)"
   ]
  },
  {
   "cell_type": "markdown",
   "id": "787cb68a-eb67-4eab-b35f-2e140bb77100",
   "metadata": {},
   "source": [
    "If $x$ and $y$ are inversely related, their covariance is negative. The less related they are, the closer their covariance is to zero:"
   ]
  },
  {
   "cell_type": "code",
   "execution_count": 89,
   "id": "092da318-a42f-4604-a8b1-8ab445f967a9",
   "metadata": {},
   "outputs": [
    {
     "data": {
      "image/png": "[encoded data removed]",
      "text/plain": [
       "<Figure size 640x480 with 1 Axes>"
      ]
     },
     "metadata": {},
     "output_type": "display_data"
    }
   ],
   "source": [
    "_ = sns.scatterplot(x=iris.sepal_length, y=iris.sepal_width)"
   ]
  },
  {
   "cell_type": "code",
   "execution_count": 90,
   "id": "8f638347-710b-4e5b-8102-62ef5ce87af7",
   "metadata": {},
   "outputs": [
    {
     "data": {
      "text/plain": [
       "array([[ 0.68112222, -0.04215111],\n",
       "       [-0.04215111,  0.18871289]])"
      ]
     },
     "execution_count": 90,
     "metadata": {},
     "output_type": "execute_result"
    }
   ],
   "source": [
    "np.cov(iris.sepal_length, iris.sepal_width, ddof=0)"
   ]
  },
  {
   "cell_type": "markdown",
   "id": "1f52fee8-071e-4baf-a522-ca13b2844bf0",
   "metadata": {},
   "source": [
    "A drawback of covariance is that it confounds the relative scale of two variables with a measure of the variables' relatedness. **Correlation** builds on covariance and overcomes this drawback via rescaling, thereby measuring relatedness exclusively. Correlation is much more common because of this difference.\r\n",
    "\r\n",
    "The correlation coefficient (developed by Karl Pearson in the 20th c. though known in the 19th c.) is often denoted with $r$ or $\\rho$ and is defined by:\r\n",
    "$$ \\rho_{x,y} = \\frac{\\text{cov}(x,y)}{\\sigma_x \\sigma_y} $$"
   ]
  },
  {
   "cell_type": "code",
   "execution_count": 91,
   "id": "8b9c9d7d-3939-4405-878c-dd77b7e1e8c7",
   "metadata": {},
   "outputs": [],
   "source": [
    "cov = -0.04215111\n",
    "sigma_sq_x = 0.68112222\n",
    "sigma_sq_y = 0.18871289"
   ]
  },
  {
   "cell_type": "code",
   "execution_count": 92,
   "id": "517fe678-a785-46fb-affa-8767826320c9",
   "metadata": {},
   "outputs": [],
   "source": [
    "sigma_x = sigma_sq_x**(1/2)\n",
    "sigma_y = sigma_sq_y**(1/2)"
   ]
  },
  {
   "cell_type": "code",
   "execution_count": 93,
   "id": "74fc2191-3ad7-486d-a7e5-7d1551e6fda6",
   "metadata": {},
   "outputs": [
    {
     "data": {
      "text/plain": [
       "-0.11756978087951572"
      ]
     },
     "execution_count": 93,
     "metadata": {},
     "output_type": "execute_result"
    }
   ],
   "source": [
    "cov / (sigma_x * sigma_y)"
   ]
  },
  {
   "cell_type": "code",
   "execution_count": 94,
   "id": "1c5cf48f-246f-468c-a697-8b8a11bd8d49",
   "metadata": {},
   "outputs": [
    {
     "data": {
      "text/plain": [
       "PearsonRResult(statistic=-0.11756978413300204, pvalue=0.15189826071144746)"
      ]
     },
     "execution_count": 94,
     "metadata": {},
     "output_type": "execute_result"
    }
   ],
   "source": [
    "st.pearsonr(iris.sepal_length, iris.sepal_width)"
   ]
  },
  {
   "cell_type": "markdown",
   "id": "7d6df817-7313-4154-9f3a-d84000809750",
   "metadata": {},
   "source": [
    "The second value output of `pearsonr` is a measure of statistical significance"
   ]
  },
  {
   "cell_type": "markdown",
   "id": "779bf403-76d6-4dab-b59c-7261f37cf847",
   "metadata": {},
   "source": [
    "$\\rho$ has a range of -1 to 1, with values closer to zero indicating less correlation:"
   ]
  },
  {
   "cell_type": "code",
   "execution_count": 95,
   "id": "b914f69c-a939-492e-a9c9-128a3831deea",
   "metadata": {},
   "outputs": [
    {
     "data": {
      "text/plain": [
       "-0.11756978413300204"
      ]
     },
     "execution_count": 95,
     "metadata": {},
     "output_type": "execute_result"
    }
   ],
   "source": [
    "st.pearsonr(iris.sepal_length, iris.sepal_width)[0]"
   ]
  },
  {
   "cell_type": "markdown",
   "id": "cb287090-0b0b-4e10-82f4-fb3416a3827e",
   "metadata": {},
   "source": [
    "The closer $\\rho$ is to 1 or -1, the stronger the positive or negative correlation, respectively:"
   ]
  },
  {
   "cell_type": "code",
   "execution_count": 96,
   "id": "4bc0a6e6-ac0e-47aa-b337-bd650f1eb431",
   "metadata": {},
   "outputs": [
    {
     "data": {
      "text/plain": [
       "0.8717537758865832"
      ]
     },
     "execution_count": 96,
     "metadata": {},
     "output_type": "execute_result"
    }
   ],
   "source": [
    "st.pearsonr(iris.sepal_length, iris.petal_length)[0]"
   ]
  },
  {
   "cell_type": "markdown",
   "id": "8f52f696-d35f-44d0-96fe-b8ad56a9d352",
   "metadata": {},
   "source": [
    "N.B.: Covariance and correlation only account for linear relationships. Two variables could be non-linearly related to each other and these metrics could come out as zero."
   ]
  },
  {
   "cell_type": "markdown",
   "id": "b72281d4-833d-4104-ad6c-d460dd48d5e5",
   "metadata": {},
   "source": [
    "##  Distributions in Machine Learning"
   ]
  },
  {
   "cell_type": "code",
   "execution_count": 97,
   "id": "69cb598b-a5a5-4995-ab5f-2e5ce55bb9ba",
   "metadata": {},
   "outputs": [],
   "source": [
    "u = np.random.uniform(size=10000)"
   ]
  },
  {
   "cell_type": "code",
   "execution_count": 98,
   "id": "5a04ad09-79bc-4d3a-b586-7b22ef72de84",
   "metadata": {},
   "outputs": [],
   "source": [
    "sns.set_style('ticks')"
   ]
  },
  {
   "cell_type": "code",
   "execution_count": 99,
   "id": "898183e7-a923-4ebd-8f51-c84d22f88b20",
   "metadata": {},
   "outputs": [
    {
     "data": {
      "image/png": "[encoded data removed]",
      "text/plain": [
       "<Figure size 500x500 with 1 Axes>"
      ]
     },
     "metadata": {},
     "output_type": "display_data"
    }
   ],
   "source": [
    "_ = sns.displot(u)"
   ]
  },
  {
   "cell_type": "markdown",
   "id": "65145368-1b58-492c-b121-bd324e03d42d",
   "metadata": {},
   "source": [
    "Real-world examples include:\n",
    "\n",
    "* Dice rolling (PMF)\n",
    "* Card drawing (PMF)\n",
    "* Model hyperparameters\n",
    "* Emission of radioactive particles\n",
    "* Economic demand\n",
    "* Analog-to-digital signal quantization errors"
   ]
  },
  {
   "cell_type": "markdown",
   "id": "68b78bf3-1e42-43bc-bea1-55371684c3ae",
   "metadata": {},
   "source": [
    "### Gaussian"
   ]
  },
  {
   "cell_type": "markdown",
   "id": "f508fdb3-f7cf-40a8-82b6-407f2d7fbb63",
   "metadata": {},
   "source": [
    "Carl Friedrich Gauss (early 19th c. German mathematician and scientist) is the namesake of over a hundred concepts across mathematics, physics, and astronomy. One of those concepts is the Gaussian distribution, also known as the \"bell curve\" (though several distributions are bell-shaped) or **normal distribution**:"
   ]
  },
  {
   "cell_type": "code",
   "execution_count": 100,
   "id": "c901ba26-0b55-46d0-a9c0-8926bd489ef9",
   "metadata": {},
   "outputs": [],
   "source": [
    "x = np.random.normal(size=10000)"
   ]
  },
  {
   "cell_type": "code",
   "execution_count": 101,
   "id": "1ed9cd60-de96-4c78-81b5-a163602e1d7c",
   "metadata": {},
   "outputs": [
    {
     "data": {
      "image/png": "[encoded data removed]",
      "text/plain": [
       "<Figure size 500x500 with 1 Axes>"
      ]
     },
     "metadata": {},
     "output_type": "display_data"
    }
   ],
   "source": [
    "_ = sns.displot(x)"
   ]
  },
  {
   "cell_type": "code",
   "execution_count": 102,
   "id": "aef8059e-da69-413b-bcba-f53f77e3b013",
   "metadata": {},
   "outputs": [
    {
     "data": {
      "image/png": "[encoded data removed]",
      "text/plain": [
       "<Figure size 500x500 with 1 Axes>"
      ]
     },
     "metadata": {},
     "output_type": "display_data"
    }
   ],
   "source": [
    "_ = sns.displot(x, kde=True)"
   ]
  },
  {
   "cell_type": "markdown",
   "id": "ae8f7487-e227-4c3f-92f4-a5bfd6b7e1f7",
   "metadata": {},
   "source": [
    "When the normal distribution has a mean ($\\mu$) of zero and standard deviation ($\\sigma$) of one, as it does by default with the NumPy `normal()` method..."
   ]
  },
  {
   "cell_type": "code",
   "execution_count": 103,
   "id": "c9c5f8c3-ead4-447e-98d7-1e0f59fa2cb5",
   "metadata": {},
   "outputs": [
    {
     "data": {
      "text/plain": [
       "0.010746657894433886"
      ]
     },
     "execution_count": 103,
     "metadata": {},
     "output_type": "execute_result"
    }
   ],
   "source": [
    "np.mean(x)"
   ]
  },
  {
   "cell_type": "code",
   "execution_count": 104,
   "id": "82b04046-4f0a-4c82-8e7c-7c3b0cd97100",
   "metadata": {},
   "outputs": [
    {
     "data": {
      "text/plain": [
       "1.006376502514602"
      ]
     },
     "execution_count": 104,
     "metadata": {},
     "output_type": "execute_result"
    }
   ],
   "source": [
    "np.std(x)"
   ]
  },
  {
   "cell_type": "markdown",
   "id": "0bbf67e0-d30a-45c8-8f9d-6a2fa07d6235",
   "metadata": {},
   "source": [
    "...it is a **standard normal distribution** (a.k.a., standard Gaussian distribution). Normal distributions can be denoted with the *math calligraphy* font as $\\mathcal{N}(\\mu, \\sigma^2)$, thus the standard normal distribution can be denoted as $\\mathcal{N}(0, 1)$.\n",
    "\n",
    "(N.B.: $\\sigma^2 = \\sigma$ in this case because $1^2 = 1$.)"
   ]
  },
  {
   "cell_type": "markdown",
   "id": "a071ce17-d6e9-419a-9f21-717ee1d25dc6",
   "metadata": {},
   "source": [
    "Real-world examples include:\r\n",
    "\r\n",
    "* Probability of heads across *n* tosses (PMF; $n = 5$ earlier, $n = 100$ below)\r\n",
    "* Sum of di(c)e rolls (PMF)\r\n",
    "* Height of adult women\r\n",
    "* Height of adult men\r\n",
    "* Education test scores, e.g., SAT"
   ]
  },
  {
   "cell_type": "markdown",
   "id": "13715dde-3c41-4249-a22c-8826109ebe5a",
   "metadata": {},
   "source": [
    "### The Central Limit Theorem"
   ]
  },
  {
   "cell_type": "markdown",
   "id": "c7b661a2-4933-40b4-8040-1acab857bd0d",
   "metadata": {},
   "source": [
    "To develop a functional understanding of the CLT, let's sample some values from our normal distribution:"
   ]
  },
  {
   "cell_type": "code",
   "execution_count": 105,
   "id": "f46aef4c-0661-4cdf-b6e2-fc759d60e75b",
   "metadata": {},
   "outputs": [
    {
     "data": {
      "text/plain": [
       "array([ 0.74300969,  0.24176689, -1.40842338,  0.22012919, -2.01823411,\n",
       "       -0.38856925, -1.90557335, -1.06636308, -0.18173424, -0.81852481])"
      ]
     },
     "execution_count": 105,
     "metadata": {},
     "output_type": "execute_result"
    }
   ],
   "source": [
    "x_sample = np.random.choice(x, size=10, replace=False)\n",
    "x_sample"
   ]
  },
  {
   "cell_type": "markdown",
   "id": "28dcf82b-271c-479e-b32a-abe3a4ea6760",
   "metadata": {},
   "source": [
    "The mean of a sample isn't always going to be close to zero with such a small sample:"
   ]
  },
  {
   "cell_type": "code",
   "execution_count": 106,
   "id": "3ade49ed-36f2-4e4e-8cf9-002b4fb27d2e",
   "metadata": {},
   "outputs": [
    {
     "data": {
      "text/plain": [
       "-0.6582516449828345"
      ]
     },
     "execution_count": 106,
     "metadata": {},
     "output_type": "execute_result"
    }
   ],
   "source": [
    "np.mean(x_sample)"
   ]
  },
  {
   "cell_type": "markdown",
   "id": "f8b0bc63-a4dc-4cdb-8fab-b33a678a0371",
   "metadata": {},
   "source": [
    "Let's define a function for generating **sampling distributions** of the mean of a given input distribution:"
   ]
  },
  {
   "cell_type": "code",
   "execution_count": 107,
   "id": "6f79c8c1-0c83-416e-adb0-79ca4e964586",
   "metadata": {},
   "outputs": [],
   "source": [
    "def sample_mean_calculator(input_dist, sample_size, n_samples):\n",
    "    sample_means = []\n",
    "    for i in range(n_samples):\n",
    "        sample = np.random.choice(input_dist, size=sample_size, replace=False)\n",
    "        sample_means.append(sample.mean())\n",
    "    return sample_means"
   ]
  },
  {
   "cell_type": "code",
   "execution_count": 108,
   "id": "30949bd2-d286-4a7d-a454-5b48fa9a2034",
   "metadata": {},
   "outputs": [
    {
     "data": {
      "image/png": "[encoded data removed]",
      "text/plain": [
       "<Figure size 500x500 with 1 Axes>"
      ]
     },
     "metadata": {},
     "output_type": "display_data"
    }
   ],
   "source": [
    "sns.displot(sample_mean_calculator(x, 10, 10), color='green')\n",
    "_ = plt.xlim(-1.5, 1.5)"
   ]
  },
  {
   "cell_type": "markdown",
   "id": "1cda3a4b-553e-4549-b525-d0ccf7d4f590",
   "metadata": {},
   "source": [
    "The more samples we take, the more likely that the sampling distribution of the means will be normally distributed:"
   ]
  },
  {
   "cell_type": "code",
   "execution_count": 109,
   "id": "64269148-33df-460b-9bda-e9f8f383a549",
   "metadata": {},
   "outputs": [
    {
     "data": {
      "image/png": "[encoded data removed]",
      "text/plain": [
       "<Figure size 500x500 with 1 Axes>"
      ]
     },
     "metadata": {},
     "output_type": "display_data"
    }
   ],
   "source": [
    "sns.displot(sample_mean_calculator(x, 10, 1000), color='green', kde=True)\n",
    "_ = plt.xlim(-1.5, 1.5)"
   ]
  },
  {
   "cell_type": "markdown",
   "id": "55b6209b-a9b6-4116-94ec-1f7df5a7de51",
   "metadata": {},
   "source": [
    "The larger the sample, the tighter the sample means will tend to be around the population mean:"
   ]
  },
  {
   "cell_type": "code",
   "execution_count": 110,
   "id": "a4c726d3-4670-4acf-b704-7031c8b3f2dc",
   "metadata": {},
   "outputs": [
    {
     "data": {
      "image/png": "[encoded data removed]",
      "text/plain": [
       "<Figure size 500x500 with 1 Axes>"
      ]
     },
     "metadata": {},
     "output_type": "display_data"
    }
   ],
   "source": [
    "sns.displot(sample_mean_calculator(x, 100, 1000), color='green', kde=True)\n",
    "_ = plt.xlim(-1.5, 1.5)"
   ]
  },
  {
   "cell_type": "code",
   "execution_count": 111,
   "id": "0f0f1f94-d5e1-4dd1-9053-8c3b114793d5",
   "metadata": {},
   "outputs": [
    {
     "data": {
      "image/png": "[encoded data removed]",
      "text/plain": [
       "<Figure size 500x500 with 1 Axes>"
      ]
     },
     "metadata": {},
     "output_type": "display_data"
    }
   ],
   "source": [
    "sns.displot(sample_mean_calculator(x, 1000, 1000), color='green', kde=True)\n",
    "_ = plt.xlim(-1.5, 1.5)"
   ]
  },
  {
   "cell_type": "markdown",
   "id": "4d42c411-e394-4158-9d61-083b10f849ea",
   "metadata": {},
   "source": [
    "#### Sampling from a skewed distribution"
   ]
  },
  {
   "cell_type": "code",
   "execution_count": 112,
   "id": "4f267974-1408-4a6c-b48a-e62f00dbbc41",
   "metadata": {},
   "outputs": [],
   "source": [
    "s = st.skewnorm.rvs(10, size=10000)"
   ]
  },
  {
   "cell_type": "code",
   "execution_count": 113,
   "id": "4de285f7-d406-4886-bb50-7045f24f06fc",
   "metadata": {},
   "outputs": [
    {
     "data": {
      "image/png": "[encoded data removed]",
      "text/plain": [
       "<Figure size 500x500 with 1 Axes>"
      ]
     },
     "metadata": {},
     "output_type": "display_data"
    }
   ],
   "source": [
    "_ = sns.displot(s, kde=True)"
   ]
  },
  {
   "cell_type": "code",
   "execution_count": 114,
   "id": "bc2c8d6d-2201-4f6b-9703-a23be7901dc0",
   "metadata": {},
   "outputs": [
    {
     "data": {
      "image/png": "[encoded data removed]",
      "text/plain": [
       "<Figure size 500x500 with 1 Axes>"
      ]
     },
     "metadata": {},
     "output_type": "display_data"
    }
   ],
   "source": [
    "_ = sns.displot(sample_mean_calculator(s, 10, 1000), color='green', kde=True)"
   ]
  },
  {
   "cell_type": "code",
   "execution_count": 115,
   "id": "06b5dda8-cc39-4b2c-b3a4-a473ecd07791",
   "metadata": {},
   "outputs": [
    {
     "data": {
      "image/png": "[encoded data removed]",
      "text/plain": [
       "<Figure size 500x500 with 1 Axes>"
      ]
     },
     "metadata": {},
     "output_type": "display_data"
    }
   ],
   "source": [
    "_ = sns.displot(sample_mean_calculator(s, 1000, 1000), color='green', kde=True)"
   ]
  },
  {
   "cell_type": "markdown",
   "id": "393820b0-4193-458a-8626-8b86d82d38bf",
   "metadata": {},
   "source": [
    "#### Sampling from a multimodal distribution"
   ]
  },
  {
   "cell_type": "code",
   "execution_count": 116,
   "id": "0c63b1cc-d294-42b5-870b-e750aebb6bd1",
   "metadata": {},
   "outputs": [],
   "source": [
    "m = np.concatenate((np.random.normal(size=5000), np.random.normal(loc = 4.0, size=5000)))"
   ]
  },
  {
   "cell_type": "code",
   "execution_count": 117,
   "id": "ae23ec74-e275-495d-9e11-ead96c131c6c",
   "metadata": {},
   "outputs": [
    {
     "data": {
      "image/png": "[encoded data removed]",
      "text/plain": [
       "<Figure size 500x500 with 1 Axes>"
      ]
     },
     "metadata": {},
     "output_type": "display_data"
    }
   ],
   "source": [
    "_ = sns.displot(m, kde=True)"
   ]
  },
  {
   "cell_type": "code",
   "execution_count": 118,
   "id": "525e59cf-8bc6-4ba9-b3c9-1a7037e2cbfd",
   "metadata": {},
   "outputs": [
    {
     "data": {
      "image/png": "[encoded data removed]",
      "text/plain": [
       "<Figure size 500x500 with 1 Axes>"
      ]
     },
     "metadata": {},
     "output_type": "display_data"
    }
   ],
   "source": [
    "_ = sns.displot(sample_mean_calculator(m, 1000, 1000), color='green', kde=True)"
   ]
  },
  {
   "cell_type": "markdown",
   "id": "d56b25b1-98a0-4818-a767-9a88857beb42",
   "metadata": {},
   "source": [
    "#### Sampling from uniform"
   ]
  },
  {
   "cell_type": "markdown",
   "id": "a338e6f2-4aff-468c-8365-f43136cad604",
   "metadata": {},
   "source": [
    "Even sampling from the highly non-normal uniform distribution, the sampling distribution comes out normal:"
   ]
  },
  {
   "cell_type": "code",
   "execution_count": 119,
   "id": "59e01443-f2f9-4c88-86ce-98b03197f41c",
   "metadata": {},
   "outputs": [
    {
     "data": {
      "image/png": "[encoded data removed]",
      "text/plain": [
       "<Figure size 500x500 with 1 Axes>"
      ]
     },
     "metadata": {},
     "output_type": "display_data"
    }
   ],
   "source": [
    "_ = sns.displot(u)"
   ]
  },
  {
   "cell_type": "code",
   "execution_count": 120,
   "id": "63d6c443-89dc-43f3-a9a7-0ae7ee180af1",
   "metadata": {},
   "outputs": [
    {
     "data": {
      "image/png": "[encoded data removed]",
      "text/plain": [
       "<Figure size 500x500 with 1 Axes>"
      ]
     },
     "metadata": {},
     "output_type": "display_data"
    }
   ],
   "source": [
    "_ = sns.displot(sample_mean_calculator(u, 1000, 1000), color='green', kde=True)"
   ]
  },
  {
   "cell_type": "markdown",
   "id": "e2d2defe-743c-4939-b876-ded87af2e058",
   "metadata": {},
   "source": [
    "### Log-Normal Distribution"
   ]
  },
  {
   "cell_type": "markdown",
   "id": "1cc5ed1c-c9ce-488d-80d4-c63abdfae471",
   "metadata": {},
   "source": [
    "The natural logarithm of the **log-normal** distribution is normally distributed:"
   ]
  },
  {
   "cell_type": "code",
   "execution_count": 121,
   "id": "bc0f60a6-af4f-4293-8717-bab346beb382",
   "metadata": {},
   "outputs": [],
   "source": [
    "x = np.random.lognormal(size=10000) # defaults to standard normal mu=0, sigma=1"
   ]
  },
  {
   "cell_type": "code",
   "execution_count": 122,
   "id": "e5e3672d-8e74-4dd4-942f-9df1e558ec73",
   "metadata": {},
   "outputs": [
    {
     "data": {
      "image/png": "[encoded data removed]",
      "text/plain": [
       "<Figure size 500x500 with 1 Axes>"
      ]
     },
     "metadata": {},
     "output_type": "display_data"
    }
   ],
   "source": [
    "_ = sns.displot(x, kde=True)"
   ]
  },
  {
   "cell_type": "code",
   "execution_count": 123,
   "id": "19565d67-8b18-4025-acc9-794437a955b8",
   "metadata": {},
   "outputs": [
    {
     "data": {
      "image/png": "[encoded data removed]",
      "text/plain": [
       "<Figure size 500x500 with 1 Axes>"
      ]
     },
     "metadata": {},
     "output_type": "display_data"
    }
   ],
   "source": [
    "_ = sns.displot(np.log(x), color='brown', kde=True)"
   ]
  },
  {
   "cell_type": "markdown",
   "id": "30739f94-da62-4ad1-8f81-0a4f24bca432",
   "metadata": {},
   "source": [
    "Real-world examples:\r\n",
    "\r\n",
    "* Income\r\n",
    "* Length of comments in online forums\r\n",
    "* Duration of chess games or Rubik's Cube solves\r\n",
    "* Size of publicly-available video files\r\n",
    "* Number of hospitalized cases in an epidemic where public interventions are involved"
   ]
  },
  {
   "cell_type": "markdown",
   "id": "9aca5815-c313-4149-abb5-a7ea18ab4d08",
   "metadata": {},
   "source": [
    "### Exponential Distribution"
   ]
  },
  {
   "cell_type": "markdown",
   "id": "3a46d488-2614-4d77-b9f7-94dc102ecdcd",
   "metadata": {},
   "source": [
    "Relatively squished up against zero and then decreases exponentially toward higher values. Log-normal distribution, in contrast, could take negative values and both increases and decreases."
   ]
  },
  {
   "cell_type": "code",
   "execution_count": 124,
   "id": "595b2402-65c1-4d92-b159-9e6db8ff8d67",
   "metadata": {},
   "outputs": [],
   "source": [
    "x = np.random.exponential(scale=4, size=10000) # \"scale\" parameter defaults to one"
   ]
  },
  {
   "cell_type": "code",
   "execution_count": 125,
   "id": "1eca6ca1-a2b0-40a6-972a-3e68e91fc978",
   "metadata": {},
   "outputs": [
    {
     "data": {
      "text/plain": [
       "array([ 2.89716826,  0.31566866,  1.09838035, ...,  0.11655973,\n",
       "       15.14699489,  2.90313724])"
      ]
     },
     "execution_count": 125,
     "metadata": {},
     "output_type": "execute_result"
    }
   ],
   "source": [
    "x"
   ]
  },
  {
   "cell_type": "code",
   "execution_count": 126,
   "id": "4f4d034e-8139-4c93-8b26-e32d69c25f04",
   "metadata": {},
   "outputs": [
    {
     "data": {
      "image/png": "[encoded data removed]",
      "text/plain": [
       "<Figure size 500x500 with 1 Axes>"
      ]
     },
     "metadata": {},
     "output_type": "display_data"
    }
   ],
   "source": [
    "_ = sns.displot(x)"
   ]
  },
  {
   "cell_type": "code",
   "execution_count": 127,
   "id": "5ca79a6d-a216-444c-98e7-f4765667c90b",
   "metadata": {},
   "outputs": [
    {
     "data": {
      "image/png": "[encoded data removed]",
      "text/plain": [
       "<Figure size 500x500 with 1 Axes>"
      ]
     },
     "metadata": {},
     "output_type": "display_data"
    }
   ],
   "source": [
    "_ = sns.displot(np.log(x), color='brown', kde=True)"
   ]
  },
  {
   "cell_type": "markdown",
   "id": "eec3a2bf-8b98-4360-ac59-7ea810fe2a1e",
   "metadata": {},
   "source": [
    "Real-world examples:\r\n",
    "\r\n",
    "* Time between requests to access Wikipedia pages\r\n",
    "* Used frequently in deep learning"
   ]
  },
  {
   "cell_type": "markdown",
   "id": "5d2b7d7c-36e2-4900-ab99-6bfc45ed09e8",
   "metadata": {},
   "source": [
    "### Laplace Distribution"
   ]
  },
  {
   "cell_type": "markdown",
   "id": "a2327e3b-94d4-41c4-95a3-36bc45593a7f",
   "metadata": {},
   "source": [
    "Named after Pierre-Simon Laplace, key figure in the development of Bayesian statistics."
   ]
  },
  {
   "cell_type": "code",
   "execution_count": 128,
   "id": "bee8acb8-ddcd-4e73-9f0e-92a55ea29ad2",
   "metadata": {},
   "outputs": [],
   "source": [
    "x = np.random.laplace(size=10000)"
   ]
  },
  {
   "cell_type": "markdown",
   "id": "dd4389ea-3b8c-44c1-b0e4-739a1c9605db",
   "metadata": {},
   "source": [
    "Alternatively referred to as the \"double exponential distribution\":"
   ]
  },
  {
   "cell_type": "code",
   "execution_count": 129,
   "id": "78c9a6a2-6c2f-4041-94b0-ab3aa61bf0fd",
   "metadata": {},
   "outputs": [
    {
     "data": {
      "image/png": "[encoded data removed]",
      "text/plain": [
       "<Figure size 500x500 with 1 Axes>"
      ]
     },
     "metadata": {},
     "output_type": "display_data"
    }
   ],
   "source": [
    "_ = sns.displot(x, kde=True)"
   ]
  },
  {
   "cell_type": "markdown",
   "id": "fda86434-0518-466d-a6d3-29318f02abab",
   "metadata": {},
   "source": [
    "In addition to the scale parameter of the exponential function, it has a location parameter that allows it to be centered on any value:"
   ]
  },
  {
   "cell_type": "code",
   "execution_count": 130,
   "id": "f69b02cd-7e70-4f4f-a801-52be04cc6498",
   "metadata": {},
   "outputs": [
    {
     "data": {
      "image/png": "[encoded data removed]",
      "text/plain": [
       "<Figure size 500x500 with 1 Axes>"
      ]
     },
     "metadata": {},
     "output_type": "display_data"
    }
   ],
   "source": [
    "_ = sns.displot(np.random.laplace(loc=25, size=10000), kde=True)"
   ]
  },
  {
   "cell_type": "markdown",
   "id": "d726b3e5-aa00-4338-b034-e5f20c1a1edd",
   "metadata": {},
   "source": [
    "Real-world examples:\n",
    "\n",
    "* Extreme weather events, e.g., maximum rainfall in a day\n",
    "* Many machine learning applications; wherever an acute peak of probability is desired"
   ]
  },
  {
   "cell_type": "markdown",
   "id": "5b375de1-a374-4f09-a83a-0753aba6439c",
   "metadata": {},
   "source": [
    "### Binomial Distribution"
   ]
  },
  {
   "cell_type": "markdown",
   "id": "7e9978ee-ef75-412a-9869-5c3f7b9314ce",
   "metadata": {},
   "source": [
    "All distributions so far have been for continuous variables (PDFs). This one is discrete (PMF).\n",
    "\n",
    "We've already been using it for coin flips; it's used for binary (0 or 1) outcome.\n",
    "\n",
    "Its parameters are:\n",
    "\n",
    "* *n*: number of trials\n",
    "* *p*: probability of outcome of 1\n",
    "* *size*: number of experiments with *n* trials each"
   ]
  },
  {
   "cell_type": "code",
   "execution_count": 131,
   "id": "8eae4d57-079c-4687-bd1c-262b62d5db81",
   "metadata": {},
   "outputs": [],
   "source": [
    "n = 5\n",
    "n_experiments = 1000"
   ]
  },
  {
   "cell_type": "markdown",
   "id": "62d11435-460f-487b-b99a-28ed8e42a58a",
   "metadata": {},
   "source": [
    "#### Fair coin (p = 0.5)"
   ]
  },
  {
   "cell_type": "code",
   "execution_count": 132,
   "id": "32cdb31e-7caf-4bf5-b850-1ae9e63c35ad",
   "metadata": {},
   "outputs": [],
   "source": [
    "heads_count = np.random.binomial(n, 0.5, n_experiments)\n",
    "heads, event_count = np.unique(heads_count, return_counts=True)\n",
    "event_proba = event_count/n_experiments"
   ]
  },
  {
   "cell_type": "code",
   "execution_count": 133,
   "id": "c9ffbfa0-155c-449a-ad6c-2bc603e07dda",
   "metadata": {},
   "outputs": [
    {
     "data": {
      "image/png": "[encoded data removed]",
      "text/plain": [
       "<Figure size 640x480 with 1 Axes>"
      ]
     },
     "metadata": {},
     "output_type": "display_data"
    }
   ],
   "source": [
    "plt.bar(heads, event_proba, color='mediumpurple')\n",
    "plt.xlabel('Heads flips (out of 5 tosses)')\n",
    "_ = plt.ylabel('Event probability')"
   ]
  },
  {
   "cell_type": "markdown",
   "id": "172952a9-8c49-4770-82ea-8d3f3465ae41",
   "metadata": {},
   "source": [
    "#### Weighted coin (p = 0.8)"
   ]
  },
  {
   "cell_type": "code",
   "execution_count": 134,
   "id": "678647d1-f44c-4df7-8c2a-65b2ce0625aa",
   "metadata": {},
   "outputs": [],
   "source": [
    "heads_count = np.random.binomial(n, 0.8, n_experiments)\n",
    "heads, event_count = np.unique(heads_count, return_counts=True)\n",
    "event_proba = event_count/n_experiments"
   ]
  },
  {
   "cell_type": "code",
   "execution_count": 135,
   "id": "f1ee183f-ae7b-4306-9d6f-ea8bd639ac4e",
   "metadata": {},
   "outputs": [
    {
     "data": {
      "image/png": "[encoded data removed]",
      "text/plain": [
       "<Figure size 640x480 with 1 Axes>"
      ]
     },
     "metadata": {},
     "output_type": "display_data"
    }
   ],
   "source": [
    "plt.bar(heads, event_proba, color='mediumpurple')\n",
    "plt.xlabel('Heads flips (out of 5 tosses)')\n",
    "_ = plt.ylabel('Event probability')"
   ]
  },
  {
   "cell_type": "markdown",
   "id": "e59f3d35-584c-40c7-a5d4-dee308ebe272",
   "metadata": {},
   "source": [
    "Technically, binomial distributions are created by sampling $n>1$ \"Bernoulli trials\". The **Bernoulli** distribution is equivalent to the binomial distribution where $n=1$:"
   ]
  },
  {
   "cell_type": "code",
   "execution_count": 136,
   "id": "0d3d7f00-291c-42c4-9398-b4ff849d189a",
   "metadata": {},
   "outputs": [
    {
     "data": {
      "text/plain": [
       "1"
      ]
     },
     "execution_count": 136,
     "metadata": {},
     "output_type": "execute_result"
    }
   ],
   "source": [
    "np.random.binomial(1, 0.5)"
   ]
  },
  {
   "cell_type": "markdown",
   "id": "0a50ed37-e028-423f-8093-bd980ad79652",
   "metadata": {},
   "source": [
    "Real-world examples:\r\n",
    "\r\n",
    "* Making it to work on time\r\n",
    "* Candidate being invited to interview\r\n",
    "* Epidemiology: probability of death or catching disease"
   ]
  },
  {
   "cell_type": "markdown",
   "id": "9841270b-964c-4a65-8ce4-c0608d0a44a2",
   "metadata": {},
   "source": [
    "### Multinomial Distribution"
   ]
  },
  {
   "cell_type": "markdown",
   "id": "81965f10-eca7-4215-aab6-a25cc2056d5b",
   "metadata": {},
   "source": [
    "Generalization of the binomial distribution to discrete random variables with more than two possible outcomes, e.g., the roll of a die:"
   ]
  },
  {
   "cell_type": "code",
   "execution_count": 137,
   "id": "98db2480-54fb-462f-b70c-f87741207335",
   "metadata": {},
   "outputs": [],
   "source": [
    "n = 1000"
   ]
  },
  {
   "cell_type": "code",
   "execution_count": 138,
   "id": "8650382d-02a9-40a5-b59a-e219695cc784",
   "metadata": {},
   "outputs": [
    {
     "data": {
      "text/plain": [
       "array([172, 158, 161, 159, 171, 179])"
      ]
     },
     "execution_count": 138,
     "metadata": {},
     "output_type": "execute_result"
    }
   ],
   "source": [
    "rolls = np.random.multinomial(n, [1/6.]*6)\n",
    "rolls"
   ]
  },
  {
   "cell_type": "code",
   "execution_count": 139,
   "id": "14b8a113-e9a9-4118-99be-643ec19289a5",
   "metadata": {},
   "outputs": [],
   "source": [
    "event_proba = rolls/n"
   ]
  },
  {
   "cell_type": "code",
   "execution_count": 140,
   "id": "8296f3d2-eebe-4881-a623-89efa951cee9",
   "metadata": {},
   "outputs": [
    {
     "data": {
      "image/png": "[encoded data removed]",
      "text/plain": [
       "<Figure size 640x480 with 1 Axes>"
      ]
     },
     "metadata": {},
     "output_type": "display_data"
    }
   ],
   "source": [
    "plt.bar(range(1, 7), event_proba, color='mediumpurple')\n",
    "plt.xlabel('Die roll')\n",
    "_ = plt.ylabel('Event probability')"
   ]
  },
  {
   "cell_type": "markdown",
   "id": "271ec0c5-dcb9-4d7f-a8c0-264745f7ac51",
   "metadata": {},
   "source": [
    "As in the binomial case, multinomial distributions are created by sampling $n>1$ multinoulli distributions, where the multinoulli distribution is equivalent to the multinomial distribution when $n=1$:"
   ]
  },
  {
   "cell_type": "code",
   "execution_count": 141,
   "id": "b1f52667-96ae-4009-9ff4-9e2958dff4d8",
   "metadata": {},
   "outputs": [
    {
     "data": {
      "text/plain": [
       "array([0, 0, 1, 0, 0, 0])"
      ]
     },
     "execution_count": 141,
     "metadata": {},
     "output_type": "execute_result"
    }
   ],
   "source": [
    "np.random.multinomial(1, [1/6.]*6)"
   ]
  },
  {
   "cell_type": "markdown",
   "id": "a1502b0f-0ab4-4bc5-8263-388d76ac05a5",
   "metadata": {},
   "source": [
    "Since multinomial distributions can represent any categorical variable (e.g., burger, hot dog, pizza; 52 playing cards; NFL teams), not just integer values, we can't always calculate an expected value."
   ]
  },
  {
   "cell_type": "markdown",
   "id": "7eda7e67-efbd-495f-9b5a-cb7872c9b49d",
   "metadata": {},
   "source": [
    "### Poisson Distribution"
   ]
  },
  {
   "cell_type": "markdown",
   "id": "f67458f8-2b86-4ed6-b60d-4c415297ce00",
   "metadata": {},
   "source": [
    "It's named after French mathematician Simeon Denis Poisson and is used for count data, e.g.:\n",
    "\n",
    "* Number of cars that drive by in a minute\n",
    "* Number of guests at restaurant in an evening\n",
    "* Number of new hires in a month"
   ]
  },
  {
   "cell_type": "markdown",
   "id": "c4f58ff5-f668-4308-9544-20da9648f105",
   "metadata": {},
   "source": [
    "First argument to NumPy `poisson()` method is $\\lambda$, which must be greater than zero and guides peak of probability distribution. E.g., sampling from Poisson with $\\lambda=5$ will tend to draw samples near 5."
   ]
  },
  {
   "cell_type": "code",
   "execution_count": 142,
   "id": "72a47ff1-0bcc-4a78-9604-58d37b88d665",
   "metadata": {},
   "outputs": [],
   "source": [
    "lam=5"
   ]
  },
  {
   "cell_type": "markdown",
   "id": "bf825ad5-c520-4864-8c94-5df5bfc51880",
   "metadata": {},
   "source": [
    "Second argument is number of samples to draw:"
   ]
  },
  {
   "cell_type": "code",
   "execution_count": 143,
   "id": "56e7b3de-58bb-42d5-a92c-00639bcd7aec",
   "metadata": {},
   "outputs": [],
   "source": [
    "n=1000"
   ]
  },
  {
   "cell_type": "code",
   "execution_count": 144,
   "id": "4bf30e8d-72bc-44b0-81b9-6ca26d3133b3",
   "metadata": {},
   "outputs": [],
   "source": [
    "samples = np.random.poisson(lam, n)"
   ]
  },
  {
   "cell_type": "code",
   "execution_count": 145,
   "id": "f623cf97-fc5f-49b4-8db3-495bc61b50ce",
   "metadata": {},
   "outputs": [],
   "source": [
    "#samples"
   ]
  },
  {
   "cell_type": "code",
   "execution_count": 146,
   "id": "52787ba7-e10d-462d-b323-ae52b4590408",
   "metadata": {},
   "outputs": [],
   "source": [
    "#import matplotlib.pyplot as plt\n",
    "\n",
    "#samples = np.random.poisson(lam,n)\n",
    "#plt.hist(samples, bins=15, edgecolor='black')\n",
    "#plt.title('Poisson Distribution with λ=5')\n",
    "#plt.xlabel('Number of Events')\n",
    "#plt.ylabel('Frequency')\n",
    "#plt.show()"
   ]
  },
  {
   "cell_type": "code",
   "execution_count": 147,
   "id": "ba13bf20-82bf-453e-88cf-fb369e9a6219",
   "metadata": {},
   "outputs": [
    {
     "data": {
      "text/plain": [
       "array([ 2,  2,  6,  3,  5,  5, 11,  2,  6,  7,  3, 11,  4,  4,  5,  7,  7,\n",
       "        0,  3,  1])"
      ]
     },
     "execution_count": 147,
     "metadata": {},
     "output_type": "execute_result"
    }
   ],
   "source": [
    "samples[0:20]"
   ]
  },
  {
   "cell_type": "code",
   "execution_count": 148,
   "id": "cad2d537-9a43-4d34-a1e8-2d7bb12e7f31",
   "metadata": {},
   "outputs": [],
   "source": [
    "x, x_count = np.unique(samples, return_counts=True)"
   ]
  },
  {
   "cell_type": "code",
   "execution_count": 149,
   "id": "02440db5-95dc-47d0-b604-7736612b2c8a",
   "metadata": {},
   "outputs": [
    {
     "data": {
      "text/plain": [
       "array([ 0,  1,  2,  3,  4,  5,  6,  7,  8,  9, 10, 11, 12, 13])"
      ]
     },
     "execution_count": 149,
     "metadata": {},
     "output_type": "execute_result"
    }
   ],
   "source": [
    "x"
   ]
  },
  {
   "cell_type": "code",
   "execution_count": 150,
   "id": "fd8df883-3327-46a7-8bed-8389a426c31d",
   "metadata": {},
   "outputs": [
    {
     "data": {
      "text/plain": [
       "array([  8,  27,  91, 152, 178, 166, 154,  88,  59,  32,  32,  10,   2,\n",
       "         1], dtype=int64)"
      ]
     },
     "execution_count": 150,
     "metadata": {},
     "output_type": "execute_result"
    }
   ],
   "source": [
    "x_count"
   ]
  },
  {
   "cell_type": "code",
   "execution_count": 151,
   "id": "6d839bfe-bb3c-428c-9351-99ad8cfad737",
   "metadata": {},
   "outputs": [],
   "source": [
    "Px = x_count/n"
   ]
  },
  {
   "cell_type": "code",
   "execution_count": 152,
   "id": "bfb295bc-388a-4511-87ed-21f42fd50013",
   "metadata": {},
   "outputs": [
    {
     "data": {
      "text/plain": [
       "array([0.008, 0.027, 0.091, 0.152, 0.178, 0.166, 0.154, 0.088, 0.059,\n",
       "       0.032, 0.032, 0.01 , 0.002, 0.001])"
      ]
     },
     "execution_count": 152,
     "metadata": {},
     "output_type": "execute_result"
    }
   ],
   "source": [
    "Px"
   ]
  },
  {
   "cell_type": "code",
   "execution_count": 153,
   "id": "624fee64-9039-4655-b8e5-ffd52c1c4645",
   "metadata": {},
   "outputs": [
    {
     "data": {
      "image/png": "[encoded data removed]",
      "text/plain": [
       "<Figure size 640x480 with 1 Axes>"
      ]
     },
     "metadata": {},
     "output_type": "display_data"
    }
   ],
   "source": [
    "plt.bar(x, Px, color='mediumpurple')\n",
    "plt.title('PMF of Poisson with lambda = {}'.format(lam))\n",
    "plt.xlabel('x')\n",
    "_ = plt.ylabel('P(x)')"
   ]
  },
  {
   "cell_type": "markdown",
   "id": "03c9a601-0602-4c2e-9e67-9d7be8fdb290",
   "metadata": {},
   "source": [
    "### Mixture Distributions"
   ]
  },
  {
   "cell_type": "markdown",
   "id": "efc0579f-5c89-4dde-91dc-36367f8636e2",
   "metadata": {},
   "source": [
    "Multinomial distribution (driven by `np.random.choice()`) with probabilities set by `coefficients` array determines which of the three distributions to sample from."
   ]
  },
  {
   "cell_type": "code",
   "execution_count": 154,
   "id": "f522ba9e-8671-4696-a73d-e2a43badee97",
   "metadata": {},
   "outputs": [
    {
     "data": {
      "image/png": "[encoded data removed]",
      "text/plain": [
       "<Figure size 500x500 with 1 Axes>"
      ]
     },
     "metadata": {},
     "output_type": "display_data"
    }
   ],
   "source": [
    "distributions = [\n",
    "    {\"type\": np.random.normal, \"kwargs\": {\"loc\": -3, \"scale\": 2}},\n",
    "    {\"type\": np.random.uniform, \"kwargs\": {\"low\": 4, \"high\": 6}},\n",
    "    {\"type\": np.random.normal, \"kwargs\": {\"loc\": 2, \"scale\": 1}},\n",
    "]\n",
    "\n",
    "coefficients = np.array([0.5, 0.2, 0.3])\n",
    "coefficients /= coefficients.sum()      # in case these did not add up to 1\n",
    "sample_size = 10000\n",
    "\n",
    "num_distr = len(distributions)\n",
    "data = np.zeros((sample_size, num_distr))\n",
    "for idx, distr in enumerate(distributions):\n",
    "    data[:, idx] = distr[\"type\"](size=(sample_size,), **distr[\"kwargs\"])\n",
    "\n",
    "random_idx = np.random.choice(np.arange(num_distr), size=(sample_size,), p=coefficients)\n",
    "sample = data[np.arange(sample_size), random_idx]\n",
    "_ = sns.displot(sample, bins=100, kde=True)"
   ]
  },
  {
   "cell_type": "markdown",
   "id": "96a98349-0177-4bb5-9963-37d1323fa629",
   "metadata": {},
   "source": [
    "**Gaussian mixture model** (GMM) is common type of mixture distribution, wherein all of the component distributions are normal."
   ]
  },
  {
   "cell_type": "markdown",
   "id": "05075069-2233-4158-8708-bf7c77e61306",
   "metadata": {},
   "source": [
    "### Information Theory"
   ]
  },
  {
   "cell_type": "markdown",
   "id": "d32b8f21-0962-47e9-85ba-d53e352ba001",
   "metadata": {},
   "source": [
    "**self-information** formula is:\n",
    "$$ I(x)=-\\text{log}P(x) $$"
   ]
  },
  {
   "cell_type": "code",
   "execution_count": 155,
   "id": "4b628dcd-7775-4f42-a967-cff247f8cb3f",
   "metadata": {},
   "outputs": [],
   "source": [
    "import numpy as np\n",
    "import matplotlib.pyplot as plt"
   ]
  },
  {
   "cell_type": "code",
   "execution_count": 156,
   "id": "7cdc7f92-2e3a-4c35-8f30-9728e11bad4e",
   "metadata": {},
   "outputs": [],
   "source": [
    "def self_info(my_p):\n",
    "    return -1*np.log(my_p)"
   ]
  },
  {
   "cell_type": "code",
   "execution_count": 157,
   "id": "9d0c0a63-a949-4d8b-b2a7-022a89d5deb9",
   "metadata": {},
   "outputs": [
    {
     "data": {
      "text/plain": [
       "-0.0"
      ]
     },
     "execution_count": 157,
     "metadata": {},
     "output_type": "execute_result"
    }
   ],
   "source": [
    "self_info(1)"
   ]
  },
  {
   "cell_type": "code",
   "execution_count": 158,
   "id": "cc237278-5cdc-469d-b767-b531fdca165c",
   "metadata": {},
   "outputs": [
    {
     "data": {
      "text/plain": [
       "2.3025850929940455"
      ]
     },
     "execution_count": 158,
     "metadata": {},
     "output_type": "execute_result"
    }
   ],
   "source": [
    "self_info(0.1)"
   ]
  },
  {
   "cell_type": "code",
   "execution_count": 159,
   "id": "56efeaf0-8323-4ec9-bd88-7824ace7b102",
   "metadata": {},
   "outputs": [
    {
     "data": {
      "text/plain": [
       "4.605170185988091"
      ]
     },
     "execution_count": 159,
     "metadata": {},
     "output_type": "execute_result"
    }
   ],
   "source": [
    "self_info(0.01)"
   ]
  },
  {
   "cell_type": "code",
   "execution_count": 160,
   "id": "55bd0fba-df80-45c8-bc7a-c7fbed74f4a8",
   "metadata": {},
   "outputs": [
    {
     "data": {
      "text/plain": [
       "1.3862943611198906"
      ]
     },
     "execution_count": 160,
     "metadata": {},
     "output_type": "execute_result"
    }
   ],
   "source": [
    "self_info(0.5) + self_info(0.5)"
   ]
  },
  {
   "cell_type": "markdown",
   "id": "14d72c4c-3c5d-4a91-927d-eceeca4a98f1",
   "metadata": {},
   "source": [
    "Depending on what logarithm base we use, the units of self-information vary. Most frequently, the units are either:\r\n",
    "\r\n",
    "* **nats**:\r\n",
    "    * Natural logarithm, as above with `np.log()`\r\n",
    "    * Typical in ML\r\n",
    "* **bits**:\r\n",
    "    * Base-2 logarithm\r\n",
    "    * A.k.a. **shannons**\r\n",
    "    * Typical in computer science\r\n",
    "\r\n",
    "So, the self-information of $P(x) = 0.1$ is ~2.3 nats."
   ]
  },
  {
   "cell_type": "markdown",
   "id": "479bb892-45e4-485d-8d8d-184a0e7d1b7f",
   "metadata": {},
   "source": [
    "### Shannon and Differential Entropy"
   ]
  },
  {
   "cell_type": "markdown",
   "id": "847a3258-05fb-4be6-9da6-a519b2190f7b",
   "metadata": {},
   "source": [
    "To quantify uncertainty about a probability distribution (as opposed to a single event), we can use **Shannon entropy**, which is denoted $H(x)$ or $H(P)$:\r\n",
    "$$ H(x) = \\mathbb{E}_{\\text{x}\\sim P}[I(x)] \\\\\r\n",
    "= -\\mathbb{E}_{\\text{x}\\sim P}[\\text{log}P(x)] $$\r\n",
    "\r\n",
    "Conveys the expected informational content associated with an event drawn from the distribution:\r\n",
    "* **Low entropy**:\r\n",
    "    * Distribution is ~deterministic and outcomes are ~certain\r\n",
    "    * E.g., weighted coin always lands heads up ($P(1)=1$)\r\n",
    "* **High entropy**:\r\n",
    "    * Outcomes are uncertain\r\n",
    "    * Uniform distribution can be highest entropy\r\n",
    "    * E.g., coin is as likely to be heads as tails ($P(0)=P(1)=0.5$)"
   ]
  },
  {
   "cell_type": "code",
   "execution_count": 161,
   "id": "72d695c3-6dd7-4cd4-b7d5-c9d4636bc2d5",
   "metadata": {},
   "outputs": [],
   "source": [
    "def binary_entropy(my_p):\n",
    "    return (my_p-1)*np.log(1-my_p) - my_p*np.log(my_p)"
   ]
  },
  {
   "cell_type": "markdown",
   "id": "a15dbc7d-b788-44de-8ea4-2e527d285f7c",
   "metadata": {},
   "source": [
    "Will throw `nan` with $p=0$ (always tails) or $p=1$ (always heads), but we can get close:"
   ]
  },
  {
   "cell_type": "code",
   "execution_count": 162,
   "id": "0fb5c2eb-a2e7-4030-a419-7c306c89c201",
   "metadata": {},
   "outputs": [
    {
     "data": {
      "text/plain": [
       "0.00012512920464949012"
      ]
     },
     "execution_count": 162,
     "metadata": {},
     "output_type": "execute_result"
    }
   ],
   "source": [
    "binary_entropy(0.00001)"
   ]
  },
  {
   "cell_type": "code",
   "execution_count": 163,
   "id": "9c774c70-124f-4908-98e4-ecb48101a0d8",
   "metadata": {},
   "outputs": [
    {
     "data": {
      "text/plain": [
       "0.00012512920464901166"
      ]
     },
     "execution_count": 163,
     "metadata": {},
     "output_type": "execute_result"
    }
   ],
   "source": [
    "binary_entropy(0.99999)"
   ]
  },
  {
   "cell_type": "code",
   "execution_count": 164,
   "id": "54892a6f-d2f5-437e-8c91-51719eea350b",
   "metadata": {},
   "outputs": [
    {
     "data": {
      "text/plain": [
       "0.3250829733914482"
      ]
     },
     "execution_count": 164,
     "metadata": {},
     "output_type": "execute_result"
    }
   ],
   "source": [
    "binary_entropy(0.9)"
   ]
  },
  {
   "cell_type": "code",
   "execution_count": 165,
   "id": "b2bfff28-9dbd-4c12-87ae-9e4ba6853d26",
   "metadata": {},
   "outputs": [
    {
     "data": {
      "text/plain": [
       "0.6931471805599453"
      ]
     },
     "execution_count": 165,
     "metadata": {},
     "output_type": "execute_result"
    }
   ],
   "source": [
    "binary_entropy(0.5)"
   ]
  },
  {
   "cell_type": "code",
   "execution_count": 166,
   "id": "f51fcacd-b853-4f76-9762-39c48b6288e2",
   "metadata": {},
   "outputs": [],
   "source": [
    "p = np.linspace(0.001, 0.999, 1000) # start, finish, n points"
   ]
  },
  {
   "cell_type": "code",
   "execution_count": 167,
   "id": "786ffc89-323a-4a03-ad9a-0099d9b96c62",
   "metadata": {},
   "outputs": [],
   "source": [
    "H = binary_entropy(p)"
   ]
  },
  {
   "cell_type": "code",
   "execution_count": 168,
   "id": "18d10d3b-be67-47bb-b8cf-fbdc4bb195ab",
   "metadata": {},
   "outputs": [
    {
     "data": {
      "image/png": "[encoded data removed]",
      "text/plain": [
       "<Figure size 640x480 with 1 Axes>"
      ]
     },
     "metadata": {},
     "output_type": "display_data"
    }
   ],
   "source": [
    "fig, ax = plt.subplots()\n",
    "plt.title('Shannon entropy of Bernoulli trial')\n",
    "plt.xlabel('p')\n",
    "plt.ylabel('H (nats)')\n",
    "_ = ax.plot(p,H)"
   ]
  },
  {
   "cell_type": "markdown",
   "id": "4ba1a25c-3cf7-4832-b488-ff4ba1526c74",
   "metadata": {},
   "source": [
    "**Differential entropy**: simply the term for Shannon entropy if distribution is PDF"
   ]
  },
  {
   "cell_type": "markdown",
   "id": "7ee06abc-e57a-4d3b-b06c-d7489f09578c",
   "metadata": {},
   "source": [
    "### Kullback-Leibler Divergence"
   ]
  },
  {
   "cell_type": "markdown",
   "id": "5b8b1d84-2bce-48c0-93d6-97850bedef5d",
   "metadata": {},
   "source": [
    "**KL divergence** enables us to quantify the relative Shannon (or differential) entropy of two probability distributions that are over the same random variable x.\n",
    "\n",
    "For example, if we have one probability distribution described by $P(x)$ and another by $Q(x)$, their KL divergence (denoted $D_\\text{KL}$) is:\n",
    "$$ D_\\text{KL}(P||Q) = \\mathbb{E}_{\\text{x} \\sim P}[\\text{log}P(x) - \\text{log}Q(x)] $$"
   ]
  },
  {
   "cell_type": "markdown",
   "id": "795a5ff6-d039-4664-9a87-e64ca1efcdbe",
   "metadata": {},
   "source": [
    "### Cross-Entropy"
   ]
  },
  {
   "cell_type": "markdown",
   "id": "fde4f3da-f5b8-4d8e-a385-34b1fe08fc6e",
   "metadata": {},
   "source": [
    "Cross-entropy is a concept derived from KL divergence.  it provides us with the **cross-entropy cost** function.\n",
    "\n",
    "This cost function is ubiquitous in neural networks as it's the cost function of choice for predicting discrete, categorical outcomes. E.g., for a binary classifier, the cross-entropy cost ($C$) is:\n",
    "\n",
    "$$ C = -(y \\cdot \\text{log}(\\hat{y}) + (1-y) \\cdot \\text{log}(1-\\hat{y})) $$"
   ]
  },
  {
   "cell_type": "code",
   "execution_count": 169,
   "id": "2e0e469d-dafa-4138-9b7c-ce3558fd42ab",
   "metadata": {},
   "outputs": [
    {
     "data": {
      "text/plain": [
       "0.00030004500900199243"
      ]
     },
     "execution_count": 169,
     "metadata": {},
     "output_type": "execute_result"
    }
   ],
   "source": [
    "def cross_entropy(y, a):\n",
    "    return -1*(y*np.log(a) + (1-y)*np.log(1-a))\n",
    "cross_entropy(1, 0.9997)"
   ]
  },
  {
   "cell_type": "code",
   "execution_count": 170,
   "id": "960a0c45-150d-4c53-ae63-8ea1cc431fac",
   "metadata": {},
   "outputs": [
    {
     "data": {
      "text/plain": [
       "0.00030004500900199243"
      ]
     },
     "execution_count": 170,
     "metadata": {},
     "output_type": "execute_result"
    }
   ],
   "source": [
    "cross_entropy(1, 0.9997)"
   ]
  },
  {
   "cell_type": "code",
   "execution_count": 171,
   "id": "71b9ba5c-ffb9-4a9f-bf20-921f53ec09de",
   "metadata": {},
   "outputs": [
    {
     "data": {
      "text/plain": [
       "0.10536051565782628"
      ]
     },
     "execution_count": 171,
     "metadata": {},
     "output_type": "execute_result"
    }
   ],
   "source": [
    "cross_entropy(1, 0.9)"
   ]
  },
  {
   "cell_type": "code",
   "execution_count": 172,
   "id": "81ffcc48-1bad-4de8-89e1-8cf21716cbe0",
   "metadata": {},
   "outputs": [
    {
     "data": {
      "text/plain": [
       "0.5108256237659907"
      ]
     },
     "execution_count": 172,
     "metadata": {},
     "output_type": "execute_result"
    }
   ],
   "source": [
    "cross_entropy(1, 0.6)"
   ]
  },
  {
   "cell_type": "code",
   "execution_count": 173,
   "id": "6afd6d6f-fb22-4d00-9807-6bebf9a36b25",
   "metadata": {},
   "outputs": [
    {
     "data": {
      "text/plain": [
       "1.2039728043259361"
      ]
     },
     "execution_count": 173,
     "metadata": {},
     "output_type": "execute_result"
    }
   ],
   "source": [
    "cross_entropy(1, 0.3)"
   ]
  },
  {
   "cell_type": "code",
   "execution_count": null,
   "id": "954b1c41-54b4-4d4e-8c76-e865a964c642",
   "metadata": {},
   "outputs": [],
   "source": []
  }
 ],
 "metadata": {
  "kernelspec": {
   "display_name": "Python 3 (ipykernel)",
   "language": "python",
   "name": "python3"
  },
  "language_info": {
   "codemirror_mode": {
    "name": "ipython",
    "version": 3
   },
   "file_extension": ".py",
   "mimetype": "text/x-python",
   "name": "python",
   "nbconvert_exporter": "python",
   "pygments_lexer": "ipython3",
   "version": "3.11.7"
  }
 },
 "nbformat": 4,
 "nbformat_minor": 5
}
