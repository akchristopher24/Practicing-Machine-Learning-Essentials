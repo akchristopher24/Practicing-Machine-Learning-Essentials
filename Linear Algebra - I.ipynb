{
 "cells": [
  {
   "cell_type": "markdown",
   "id": "2a29c78c-654c-4c2f-9315-c33df2434f8a",
   "metadata": {},
   "source": [
    "#### Data Structures for Algebra "
   ]
  },
  {
   "cell_type": "code",
   "execution_count": 1,
   "id": "deefde4e-a3d8-4647-9eea-dc16f313ee3d",
   "metadata": {},
   "outputs": [],
   "source": [
    "import numpy as np\n",
    "import matplotlib.pyplot as plt\n",
    "import torch"
   ]
  },
  {
   "cell_type": "markdown",
   "id": "d53d92aa-f91e-4f55-ab94-7c675dcd55b5",
   "metadata": {},
   "source": [
    "### Scalers (Rank 0 tensors)"
   ]
  },
  {
   "cell_type": "code",
   "execution_count": 2,
   "id": "4ac1a755-3c4c-4713-a29b-a641b5cf78fb",
   "metadata": {},
   "outputs": [
    {
     "data": {
      "text/plain": [
       "28"
      ]
     },
     "execution_count": 2,
     "metadata": {},
     "output_type": "execute_result"
    }
   ],
   "source": [
    "x = 25\n",
    "y = 3\n",
    "x+y"
   ]
  },
  {
   "cell_type": "code",
   "execution_count": 3,
   "id": "11a82ba9-4c78-4438-b354-f5d1684c23b5",
   "metadata": {},
   "outputs": [
    {
     "data": {
      "text/plain": [
       "28.0"
      ]
     },
     "execution_count": 3,
     "metadata": {},
     "output_type": "execute_result"
    }
   ],
   "source": [
    "x = 25.0\n",
    "y = 3 \n",
    "x+y"
   ]
  },
  {
   "cell_type": "markdown",
   "id": "42494130-c533-47e7-bc76-44ce0ca2514e",
   "metadata": {},
   "source": [
    "### Scalers in PyTorch"
   ]
  },
  {
   "cell_type": "code",
   "execution_count": 4,
   "id": "977e9611-6c80-431a-9e6a-1b001851b21e",
   "metadata": {},
   "outputs": [
    {
     "data": {
      "text/plain": [
       "tensor(25)"
      ]
     },
     "execution_count": 4,
     "metadata": {},
     "output_type": "execute_result"
    }
   ],
   "source": [
    "x = torch.tensor(25) \n",
    "x"
   ]
  },
  {
   "cell_type": "code",
   "execution_count": 5,
   "id": "7652b898-c68b-42c0-956c-4d900f60e279",
   "metadata": {},
   "outputs": [
    {
     "data": {
      "text/plain": [
       "torch.Size([])"
      ]
     },
     "execution_count": 5,
     "metadata": {},
     "output_type": "execute_result"
    }
   ],
   "source": [
    "x.shape                 #bcause scaler has no dimensionality"
   ]
  },
  {
   "cell_type": "markdown",
   "id": "aa2c0f8d-e6cf-46be-ac4c-aab76b3e6ae7",
   "metadata": {},
   "source": [
    "### Scalers in Tensorflow"
   ]
  },
  {
   "cell_type": "code",
   "execution_count": 6,
   "id": "bfbc3cc1-fc33-48ca-b228-7dfb9f858472",
   "metadata": {},
   "outputs": [],
   "source": [
    "import tensorflow as tf"
   ]
  },
  {
   "cell_type": "code",
   "execution_count": 7,
   "id": "092cdc7d-023c-4f85-99b5-249ef55dddcb",
   "metadata": {},
   "outputs": [
    {
     "data": {
      "text/plain": [
       "<tf.Variable 'Variable:0' shape=() dtype=int16, numpy=25>"
      ]
     },
     "execution_count": 7,
     "metadata": {},
     "output_type": "execute_result"
    }
   ],
   "source": [
    "x_tf = tf.Variable(25,dtype = tf.int16)\n",
    "x_tf"
   ]
  },
  {
   "cell_type": "code",
   "execution_count": 8,
   "id": "a58f7034-75b1-4bdb-b719-4fea355d6aa2",
   "metadata": {},
   "outputs": [
    {
     "data": {
      "text/plain": [
       "TensorShape([])"
      ]
     },
     "execution_count": 8,
     "metadata": {},
     "output_type": "execute_result"
    }
   ],
   "source": [
    "x_tf.shape                #no dimensionality"
   ]
  },
  {
   "cell_type": "code",
   "execution_count": 9,
   "id": "1ee40a7d-ba90-4285-9bcc-2b074dd961e1",
   "metadata": {},
   "outputs": [],
   "source": [
    "y_tf = tf.Variable(3,dtype = tf.int16)"
   ]
  },
  {
   "cell_type": "code",
   "execution_count": 10,
   "id": "19c42da5-ef24-4cd0-8c56-cc41341c3ad9",
   "metadata": {},
   "outputs": [
    {
     "data": {
      "text/plain": [
       "<tf.Tensor: shape=(), dtype=int16, numpy=28>"
      ]
     },
     "execution_count": 10,
     "metadata": {},
     "output_type": "execute_result"
    }
   ],
   "source": [
    "x_tf + y_tf"
   ]
  },
  {
   "cell_type": "code",
   "execution_count": 11,
   "id": "f12595cf-74d1-47e6-9469-5b29305f7eea",
   "metadata": {},
   "outputs": [
    {
     "data": {
      "text/plain": [
       "<tf.Tensor: shape=(), dtype=int16, numpy=28>"
      ]
     },
     "execution_count": 11,
     "metadata": {},
     "output_type": "execute_result"
    }
   ],
   "source": [
    "tf_sum = tf.add(x_tf,y_tf)\n",
    "tf_sum"
   ]
  },
  {
   "cell_type": "code",
   "execution_count": 12,
   "id": "de2618cc-3527-4c82-bdac-f948d433a7c3",
   "metadata": {},
   "outputs": [
    {
     "data": {
      "text/plain": [
       "28"
      ]
     },
     "execution_count": 12,
     "metadata": {},
     "output_type": "execute_result"
    }
   ],
   "source": [
    "tf_sum.numpy()"
   ]
  },
  {
   "cell_type": "code",
   "execution_count": 13,
   "id": "5b65ec8f-fd83-4580-8ae1-5a56bcdb6fec",
   "metadata": {},
   "outputs": [
    {
     "data": {
      "text/plain": [
       "numpy.int16"
      ]
     },
     "execution_count": 13,
     "metadata": {},
     "output_type": "execute_result"
    }
   ],
   "source": [
    "type(tf_sum.numpy())"
   ]
  },
  {
   "cell_type": "code",
   "execution_count": 14,
   "id": "7861e9af-cb12-4346-9781-ddf628e6460b",
   "metadata": {},
   "outputs": [
    {
     "data": {
      "text/plain": [
       "<tf.Variable 'Variable:0' shape=() dtype=float16, numpy=3.0>"
      ]
     },
     "execution_count": 14,
     "metadata": {},
     "output_type": "execute_result"
    }
   ],
   "source": [
    "z_tf = tf.Variable(3,dtype = tf.float16)\n",
    "z_tf"
   ]
  },
  {
   "cell_type": "markdown",
   "id": "28112464-cca5-4dc7-9fe3-4fea854b4746",
   "metadata": {},
   "source": [
    "###  Vectors (Rank 1 Tensors) in NumPy"
   ]
  },
  {
   "cell_type": "code",
   "execution_count": 15,
   "id": "ffae1e5e-37b2-4453-b27e-dadd848c338b",
   "metadata": {},
   "outputs": [],
   "source": [
    "import numpy as np"
   ]
  },
  {
   "cell_type": "code",
   "execution_count": 16,
   "id": "4dcb1a10-628c-43cd-889b-f93dc0bc3e48",
   "metadata": {},
   "outputs": [
    {
     "data": {
      "text/plain": [
       "array([1, 2, 3])"
      ]
     },
     "execution_count": 16,
     "metadata": {},
     "output_type": "execute_result"
    }
   ],
   "source": [
    "x = np.array([1,2,3])\n",
    "x"
   ]
  },
  {
   "cell_type": "code",
   "execution_count": 17,
   "id": "646917f2-f972-4bce-a4ca-47675fbb8d24",
   "metadata": {},
   "outputs": [
    {
     "data": {
      "text/plain": [
       "(3,)"
      ]
     },
     "execution_count": 17,
     "metadata": {},
     "output_type": "execute_result"
    }
   ],
   "source": [
    "x.shape"
   ]
  },
  {
   "cell_type": "code",
   "execution_count": 18,
   "id": "211c3a0d-926d-44fc-baad-d33d9a059dae",
   "metadata": {},
   "outputs": [
    {
     "data": {
      "text/plain": [
       "3"
      ]
     },
     "execution_count": 18,
     "metadata": {},
     "output_type": "execute_result"
    }
   ],
   "source": [
    "len(x)"
   ]
  },
  {
   "cell_type": "code",
   "execution_count": 19,
   "id": "64493602-a59b-4c2d-96a3-9dba21f74a0f",
   "metadata": {},
   "outputs": [
    {
     "data": {
      "text/plain": [
       "numpy.ndarray"
      ]
     },
     "execution_count": 19,
     "metadata": {},
     "output_type": "execute_result"
    }
   ],
   "source": [
    "type(x)"
   ]
  },
  {
   "cell_type": "markdown",
   "id": "1401df74-9718-4085-bd4d-6c212f2e70a2",
   "metadata": {},
   "source": [
    "### Vector Tranposition"
   ]
  },
  {
   "cell_type": "code",
   "execution_count": 20,
   "id": "50e22d40-eedb-4fa2-a02c-ed2c5a8b04a2",
   "metadata": {},
   "outputs": [
    {
     "data": {
      "text/plain": [
       "array([1, 2, 3])"
      ]
     },
     "execution_count": 20,
     "metadata": {},
     "output_type": "execute_result"
    }
   ],
   "source": [
    "x = np.array([1,2,3])\n",
    "x"
   ]
  },
  {
   "cell_type": "code",
   "execution_count": 21,
   "id": "1248974d-5981-4c61-a69c-fac473f80579",
   "metadata": {},
   "outputs": [
    {
     "data": {
      "text/plain": [
       "(3,)"
      ]
     },
     "execution_count": 21,
     "metadata": {},
     "output_type": "execute_result"
    }
   ],
   "source": [
    "x.shape"
   ]
  },
  {
   "cell_type": "code",
   "execution_count": 22,
   "id": "9189d70d-98a7-4fb3-9164-1b2b94a010ea",
   "metadata": {},
   "outputs": [
    {
     "data": {
      "text/plain": [
       "array([1, 2, 3])"
      ]
     },
     "execution_count": 22,
     "metadata": {},
     "output_type": "execute_result"
    }
   ],
   "source": [
    "# transposing a regular 1-D array has no-effect\n",
    "x_t = x.T\n",
    "x_t"
   ]
  },
  {
   "cell_type": "code",
   "execution_count": 23,
   "id": "b7b3bd00-b08d-462b-9de1-4ddf8668d6fa",
   "metadata": {},
   "outputs": [
    {
     "data": {
      "text/plain": [
       "(3,)"
      ]
     },
     "execution_count": 23,
     "metadata": {},
     "output_type": "execute_result"
    }
   ],
   "source": [
    "x_t.shape"
   ]
  },
  {
   "cell_type": "code",
   "execution_count": 24,
   "id": "f4f967ad-4066-42a1-99f2-4b1eb09172b7",
   "metadata": {},
   "outputs": [
    {
     "data": {
      "text/plain": [
       "array([[4, 5, 6]])"
      ]
     },
     "execution_count": 24,
     "metadata": {},
     "output_type": "execute_result"
    }
   ],
   "source": [
    "# but it does we use nested \"matrix-style\" brackets\n",
    "y = np.array([[4,5,6]]) \n",
    "y"
   ]
  },
  {
   "cell_type": "code",
   "execution_count": 25,
   "id": "e43da1d9-6a14-4cbe-97ef-956876091e64",
   "metadata": {},
   "outputs": [
    {
     "data": {
      "text/plain": [
       "(1, 3)"
      ]
     },
     "execution_count": 25,
     "metadata": {},
     "output_type": "execute_result"
    }
   ],
   "source": [
    "y.shape"
   ]
  },
  {
   "cell_type": "code",
   "execution_count": 26,
   "id": "28090d5a-613b-470b-875a-7910646ee20d",
   "metadata": {},
   "outputs": [
    {
     "data": {
      "text/plain": [
       "array([[4],\n",
       "       [5],\n",
       "       [6]])"
      ]
     },
     "execution_count": 26,
     "metadata": {},
     "output_type": "execute_result"
    }
   ],
   "source": [
    "#transpose of a matrix with dimensional length 1 which is mathematically equalent \n",
    "y_t = y.T\n",
    "y_t"
   ]
  },
  {
   "cell_type": "code",
   "execution_count": 27,
   "id": "71e2d224-6ae0-49a7-a0bb-8c71dd8ab97d",
   "metadata": {},
   "outputs": [
    {
     "data": {
      "text/plain": [
       "(3, 1)"
      ]
     },
     "execution_count": 27,
     "metadata": {},
     "output_type": "execute_result"
    }
   ],
   "source": [
    "y_t.shape"
   ]
  },
  {
   "cell_type": "code",
   "execution_count": 28,
   "id": "1713e1b7-5e29-4cdf-8d13-319d389a581e",
   "metadata": {},
   "outputs": [
    {
     "data": {
      "text/plain": [
       "array([[4, 5, 6]])"
      ]
     },
     "execution_count": 28,
     "metadata": {},
     "output_type": "execute_result"
    }
   ],
   "source": [
    "y_t.T"
   ]
  },
  {
   "cell_type": "code",
   "execution_count": 29,
   "id": "fde8f6fc-7441-41ae-a650-50ac86e7ef37",
   "metadata": {},
   "outputs": [
    {
     "data": {
      "text/plain": [
       "(1, 3)"
      ]
     },
     "execution_count": 29,
     "metadata": {},
     "output_type": "execute_result"
    }
   ],
   "source": [
    "y_t.T.shape"
   ]
  },
  {
   "cell_type": "markdown",
   "id": "92910f4a-fbf8-4c70-b816-4d88b0944bf7",
   "metadata": {},
   "source": [
    "### ZERO Vectors\n",
    "#### have no effect if added to another vector"
   ]
  },
  {
   "cell_type": "code",
   "execution_count": 30,
   "id": "5198f5af-e4dd-4784-8a23-550f5a450aab",
   "metadata": {},
   "outputs": [
    {
     "data": {
      "text/plain": [
       "array([0., 0., 0., 0.])"
      ]
     },
     "execution_count": 30,
     "metadata": {},
     "output_type": "execute_result"
    }
   ],
   "source": [
    "z = np.zeros(4)\n",
    "z"
   ]
  },
  {
   "cell_type": "markdown",
   "id": "1af46430-6947-4e21-a0ef-bcc5cb94da14",
   "metadata": {},
   "source": [
    "### *L²* Norm"
   ]
  },
  {
   "cell_type": "code",
   "execution_count": 31,
   "id": "5ad63aaf-ff32-4197-b695-0f1785b9936f",
   "metadata": {},
   "outputs": [],
   "source": [
    "import numpy as np"
   ]
  },
  {
   "cell_type": "code",
   "execution_count": 32,
   "id": "7a419be9-abe5-4fbd-a4d2-1edcef5f6705",
   "metadata": {},
   "outputs": [
    {
     "data": {
      "text/plain": [
       "array([1, 2, 3])"
      ]
     },
     "execution_count": 32,
     "metadata": {},
     "output_type": "execute_result"
    }
   ],
   "source": [
    "x = np.array([1,2,3])\n",
    "x"
   ]
  },
  {
   "cell_type": "code",
   "execution_count": 33,
   "id": "a126f8d8-4e04-42e5-be55-4b22fbfe93cb",
   "metadata": {},
   "outputs": [
    {
     "data": {
      "text/plain": [
       "3.7416573867739413"
      ]
     },
     "execution_count": 33,
     "metadata": {},
     "output_type": "execute_result"
    }
   ],
   "source": [
    "(1*1+2*2+3*3)**(1/2)"
   ]
  },
  {
   "cell_type": "code",
   "execution_count": 34,
   "id": "63c9e64c-f2de-421c-931d-a438229225af",
   "metadata": {},
   "outputs": [
    {
     "data": {
      "text/plain": [
       "3.7416573867739413"
      ]
     },
     "execution_count": 34,
     "metadata": {},
     "output_type": "execute_result"
    }
   ],
   "source": [
    "np.linalg.norm(x)"
   ]
  },
  {
   "cell_type": "markdown",
   "id": "771b994c-66c6-4a74-8d9e-6f54aa4a8ded",
   "metadata": {},
   "source": [
    "### _L¹_ Norm "
   ]
  },
  {
   "cell_type": "code",
   "execution_count": 35,
   "id": "3bc0d4df-a5de-4ffc-a7f7-479b79c163b4",
   "metadata": {},
   "outputs": [
    {
     "data": {
      "text/plain": [
       "6"
      ]
     },
     "execution_count": 35,
     "metadata": {},
     "output_type": "execute_result"
    }
   ],
   "source": [
    "np.abs(1)+np.abs(2)+np.abs(3)"
   ]
  },
  {
   "cell_type": "markdown",
   "id": "785a18db-0f22-411f-9ebe-39cb201e1d95",
   "metadata": {},
   "source": [
    "### Squared _L²_ Norm"
   ]
  },
  {
   "cell_type": "code",
   "execution_count": 36,
   "id": "d75a0bfd-35d5-4b5b-840c-d35f1367fba6",
   "metadata": {},
   "outputs": [
    {
     "data": {
      "text/plain": [
       "14"
      ]
     },
     "execution_count": 36,
     "metadata": {},
     "output_type": "execute_result"
    }
   ],
   "source": [
    "1**2 + 2**2 + 3**2"
   ]
  },
  {
   "cell_type": "code",
   "execution_count": 37,
   "id": "c3b7d2b2-325f-4eff-9ddd-8fb5c6be71ce",
   "metadata": {},
   "outputs": [
    {
     "data": {
      "text/plain": [
       "14"
      ]
     },
     "execution_count": 37,
     "metadata": {},
     "output_type": "execute_result"
    }
   ],
   "source": [
    "np.dot(x,x)"
   ]
  },
  {
   "cell_type": "markdown",
   "id": "67561e48-a939-42a2-a615-3b1ca9dad157",
   "metadata": {},
   "source": [
    "#### Max Norm"
   ]
  },
  {
   "cell_type": "code",
   "execution_count": 38,
   "id": "78e5611d-79ec-41af-9cab-9304895ef9b6",
   "metadata": {},
   "outputs": [
    {
     "data": {
      "text/plain": [
       "3"
      ]
     },
     "execution_count": 38,
     "metadata": {},
     "output_type": "execute_result"
    }
   ],
   "source": [
    "np.max([np.abs(1),np.abs(2),np.abs(3)])"
   ]
  },
  {
   "cell_type": "markdown",
   "id": "99a1efe0-2c9e-4eac-9265-c6292003ca0a",
   "metadata": {},
   "source": [
    "### Matrices (Rank 2 Tensors) in numpy"
   ]
  },
  {
   "cell_type": "code",
   "execution_count": 39,
   "id": "fb79764d-b24b-4748-8be5-f922b01ab059",
   "metadata": {},
   "outputs": [
    {
     "data": {
      "text/plain": [
       "array([[1, 2],\n",
       "       [2, 4],\n",
       "       [5, 7]])"
      ]
     },
     "execution_count": 39,
     "metadata": {},
     "output_type": "execute_result"
    }
   ],
   "source": [
    "X = np.array([[1,2],[2,4],[5,7]])\n",
    "X"
   ]
  },
  {
   "cell_type": "code",
   "execution_count": 40,
   "id": "718984fe-443e-48cd-b1ab-1ce64d0dff1c",
   "metadata": {},
   "outputs": [
    {
     "data": {
      "text/plain": [
       "(3, 2)"
      ]
     },
     "execution_count": 40,
     "metadata": {},
     "output_type": "execute_result"
    }
   ],
   "source": [
    "X.shape"
   ]
  },
  {
   "cell_type": "code",
   "execution_count": 41,
   "id": "338da25b-c67a-46d7-bde0-91c8771d413f",
   "metadata": {},
   "outputs": [
    {
     "data": {
      "text/plain": [
       "6"
      ]
     },
     "execution_count": 41,
     "metadata": {},
     "output_type": "execute_result"
    }
   ],
   "source": [
    "X.size        #total elements in the array"
   ]
  },
  {
   "cell_type": "code",
   "execution_count": 42,
   "id": "8ff5459a-f146-454f-8ba3-21cf95607f59",
   "metadata": {},
   "outputs": [
    {
     "data": {
      "text/plain": [
       "array([1, 2, 5])"
      ]
     },
     "execution_count": 42,
     "metadata": {},
     "output_type": "execute_result"
    }
   ],
   "source": [
    "#select left column of the index\n",
    "X[:,0]"
   ]
  },
  {
   "cell_type": "code",
   "execution_count": 43,
   "id": "e6e81a3f-4e64-4ca3-b040-0619d3236713",
   "metadata": {},
   "outputs": [
    {
     "data": {
      "text/plain": [
       "array([2, 4])"
      ]
     },
     "execution_count": 43,
     "metadata": {},
     "output_type": "execute_result"
    }
   ],
   "source": [
    "#select the middle row\n",
    "X[1,:]"
   ]
  },
  {
   "cell_type": "code",
   "execution_count": 44,
   "id": "86b8bb8e-f054-4985-b713-288d5a15da7a",
   "metadata": {},
   "outputs": [
    {
     "data": {
      "text/plain": [
       "array([[1, 2],\n",
       "       [2, 4]])"
      ]
     },
     "execution_count": 44,
     "metadata": {},
     "output_type": "execute_result"
    }
   ],
   "source": [
    "X[0:2,0:2]"
   ]
  },
  {
   "cell_type": "markdown",
   "id": "7aea90dd-2c47-4080-b59f-5f1e45c60305",
   "metadata": {},
   "source": [
    "### Matrices in PyTorch"
   ]
  },
  {
   "cell_type": "code",
   "execution_count": 45,
   "id": "5e26e4f5-8213-4e33-90da-de362242e09c",
   "metadata": {},
   "outputs": [],
   "source": [
    "import torch"
   ]
  },
  {
   "cell_type": "code",
   "execution_count": 46,
   "id": "b146280c-acd6-4db6-851d-1f56c9db3dce",
   "metadata": {},
   "outputs": [
    {
     "data": {
      "text/plain": [
       "tensor([[1, 2],\n",
       "        [4, 6],\n",
       "        [6, 9]])"
      ]
     },
     "execution_count": 46,
     "metadata": {},
     "output_type": "execute_result"
    }
   ],
   "source": [
    "x_pt = torch.tensor([[1,2],[4,6],[6,9]])\n",
    "x_pt"
   ]
  },
  {
   "cell_type": "code",
   "execution_count": 47,
   "id": "9f6c2494-0e89-4c9f-b25e-a6d8a3d0bf55",
   "metadata": {},
   "outputs": [
    {
     "data": {
      "text/plain": [
       "torch.Size([3, 2])"
      ]
     },
     "execution_count": 47,
     "metadata": {},
     "output_type": "execute_result"
    }
   ],
   "source": [
    "x_pt.shape"
   ]
  },
  {
   "cell_type": "code",
   "execution_count": 48,
   "id": "2bef5cdf-b7dc-4146-bf49-92c3b73290e4",
   "metadata": {},
   "outputs": [
    {
     "data": {
      "text/plain": [
       "tensor([4, 6])"
      ]
     },
     "execution_count": 48,
     "metadata": {},
     "output_type": "execute_result"
    }
   ],
   "source": [
    "x_pt[1,:]"
   ]
  },
  {
   "cell_type": "markdown",
   "id": "5db17599-7f00-4baa-b41a-eea6be6e0f80",
   "metadata": {},
   "source": [
    "### Matrices in tensorflow"
   ]
  },
  {
   "cell_type": "code",
   "execution_count": 49,
   "id": "5ba23f41-464d-48b7-a1a4-b7f8e0ecc9bf",
   "metadata": {},
   "outputs": [],
   "source": [
    "import tensorflow as tf"
   ]
  },
  {
   "cell_type": "code",
   "execution_count": 50,
   "id": "9d65e3bd-122e-469a-81d6-7f88eebcfc3e",
   "metadata": {},
   "outputs": [
    {
     "data": {
      "text/plain": [
       "<tf.Variable 'Variable:0' shape=(3, 2) dtype=int32, numpy=\n",
       "array([[1, 2],\n",
       "       [3, 4],\n",
       "       [9, 0]])>"
      ]
     },
     "execution_count": 50,
     "metadata": {},
     "output_type": "execute_result"
    }
   ],
   "source": [
    "x_tf = tf.Variable([[1,2],[3,4],[9,0]])\n",
    "x_tf"
   ]
  },
  {
   "cell_type": "code",
   "execution_count": 51,
   "id": "59cfc309-b2f4-4419-a755-38e5abd2ee83",
   "metadata": {},
   "outputs": [
    {
     "data": {
      "text/plain": [
       "<tf.Tensor: shape=(), dtype=int32, numpy=2>"
      ]
     },
     "execution_count": 51,
     "metadata": {},
     "output_type": "execute_result"
    }
   ],
   "source": [
    "tf.rank(x_tf)"
   ]
  },
  {
   "cell_type": "code",
   "execution_count": 52,
   "id": "c573c860-37f2-494d-895e-8bc1e81891d5",
   "metadata": {},
   "outputs": [
    {
     "data": {
      "text/plain": [
       "<tf.Tensor: shape=(2,), dtype=int32, numpy=array([3, 4])>"
      ]
     },
     "execution_count": 52,
     "metadata": {},
     "output_type": "execute_result"
    }
   ],
   "source": [
    "x_tf[1,:]"
   ]
  },
  {
   "cell_type": "markdown",
   "id": "94377258-3fb8-4ce3-99ce-4158edde29b0",
   "metadata": {},
   "source": [
    "### Common Tensor Operations"
   ]
  },
  {
   "cell_type": "markdown",
   "id": "04e7aa99-027c-4f39-9297-12fea2f65519",
   "metadata": {},
   "source": [
    "### Tensor Tranposition"
   ]
  },
  {
   "cell_type": "code",
   "execution_count": 53,
   "id": "9610e2c5-da03-4d39-833c-b9f8911eaa2e",
   "metadata": {},
   "outputs": [
    {
     "data": {
      "text/plain": [
       "array([[25,  2],\n",
       "       [ 5, 26],\n",
       "       [ 3,  7]])"
      ]
     },
     "execution_count": 53,
     "metadata": {},
     "output_type": "execute_result"
    }
   ],
   "source": [
    "X = np.array([[25,2],[5,26],[3,7]])\n",
    "X"
   ]
  },
  {
   "cell_type": "code",
   "execution_count": 54,
   "id": "9dfb2ee0-666b-465f-8b12-99e18a9c2581",
   "metadata": {},
   "outputs": [
    {
     "data": {
      "text/plain": [
       "array([[25,  5,  3],\n",
       "       [ 2, 26,  7]])"
      ]
     },
     "execution_count": 54,
     "metadata": {},
     "output_type": "execute_result"
    }
   ],
   "source": [
    "X.T"
   ]
  },
  {
   "cell_type": "code",
   "execution_count": 55,
   "id": "e80f6959-f556-4c8c-9f75-a87cba9cf73f",
   "metadata": {},
   "outputs": [
    {
     "data": {
      "text/plain": [
       "<tf.Tensor: shape=(2, 3), dtype=int32, numpy=\n",
       "array([[1, 3, 9],\n",
       "       [2, 4, 0]])>"
      ]
     },
     "execution_count": 55,
     "metadata": {},
     "output_type": "execute_result"
    }
   ],
   "source": [
    "tf.transpose(x_tf)"
   ]
  },
  {
   "cell_type": "code",
   "execution_count": 56,
   "id": "836a8e9b-6945-424d-9674-063cf78a3909",
   "metadata": {},
   "outputs": [
    {
     "data": {
      "text/plain": [
       "tensor([[1, 4, 6],\n",
       "        [2, 6, 9]])"
      ]
     },
     "execution_count": 56,
     "metadata": {},
     "output_type": "execute_result"
    }
   ],
   "source": [
    "x_pt.T"
   ]
  },
  {
   "cell_type": "markdown",
   "id": "1ec09317-ef72-4b9b-88c4-0c07aa7d1bc4",
   "metadata": {},
   "source": [
    "### Basic Tensor Arithmetic"
   ]
  },
  {
   "cell_type": "code",
   "execution_count": 57,
   "id": "b5d27ebc-0744-4afb-b901-cc57fc79cc6f",
   "metadata": {},
   "outputs": [
    {
     "data": {
      "text/plain": [
       "array([[25,  2],\n",
       "       [ 5, 26],\n",
       "       [ 3,  7]])"
      ]
     },
     "execution_count": 57,
     "metadata": {},
     "output_type": "execute_result"
    }
   ],
   "source": [
    "X"
   ]
  },
  {
   "cell_type": "code",
   "execution_count": 58,
   "id": "2bead76e-da8f-4d5b-84ad-34b112bba5da",
   "metadata": {},
   "outputs": [
    {
     "data": {
      "text/plain": [
       "array([[50,  4],\n",
       "       [10, 52],\n",
       "       [ 6, 14]])"
      ]
     },
     "execution_count": 58,
     "metadata": {},
     "output_type": "execute_result"
    }
   ],
   "source": [
    "X*2"
   ]
  },
  {
   "cell_type": "code",
   "execution_count": 59,
   "id": "e5be836c-79c9-4c78-9248-fc412c31c5e8",
   "metadata": {},
   "outputs": [
    {
     "data": {
      "text/plain": [
       "array([[52,  6],\n",
       "       [12, 54],\n",
       "       [ 8, 16]])"
      ]
     },
     "execution_count": 59,
     "metadata": {},
     "output_type": "execute_result"
    }
   ],
   "source": [
    "X*2+2"
   ]
  },
  {
   "cell_type": "code",
   "execution_count": 60,
   "id": "ea514b27-812a-4998-93dc-13733ac97990",
   "metadata": {},
   "outputs": [
    {
     "data": {
      "text/plain": [
       "tensor([[1, 2],\n",
       "        [4, 6],\n",
       "        [6, 9]])"
      ]
     },
     "execution_count": 60,
     "metadata": {},
     "output_type": "execute_result"
    }
   ],
   "source": [
    "x_pt"
   ]
  },
  {
   "cell_type": "code",
   "execution_count": 61,
   "id": "fb535254-68d0-40ce-a248-04ae297687a2",
   "metadata": {},
   "outputs": [
    {
     "data": {
      "text/plain": [
       "tensor([[ 2,  4],\n",
       "        [ 8, 12],\n",
       "        [12, 18]])"
      ]
     },
     "execution_count": 61,
     "metadata": {},
     "output_type": "execute_result"
    }
   ],
   "source": [
    "x_pt*2"
   ]
  },
  {
   "cell_type": "code",
   "execution_count": 62,
   "id": "039a9144-2dab-4b1e-a39b-9579fb52a665",
   "metadata": {},
   "outputs": [
    {
     "data": {
      "text/plain": [
       "tensor([[ 4,  6],\n",
       "        [10, 14],\n",
       "        [14, 20]])"
      ]
     },
     "execution_count": 62,
     "metadata": {},
     "output_type": "execute_result"
    }
   ],
   "source": [
    "x_pt*2 + 2"
   ]
  },
  {
   "cell_type": "code",
   "execution_count": 63,
   "id": "ec67d034-5e5b-4e7d-8d05-62e46c913494",
   "metadata": {},
   "outputs": [
    {
     "data": {
      "text/plain": [
       "tensor([[ 4,  6],\n",
       "        [10, 14],\n",
       "        [14, 20]])"
      ]
     },
     "execution_count": 63,
     "metadata": {},
     "output_type": "execute_result"
    }
   ],
   "source": [
    "torch.add(torch.mul(x_pt,2),2)"
   ]
  },
  {
   "cell_type": "markdown",
   "id": "2f5d51d0-1ba6-4880-9fbf-5334242d1e23",
   "metadata": {},
   "source": [
    "### Hadamard Product or Elementwise Product"
   ]
  },
  {
   "cell_type": "code",
   "execution_count": 64,
   "id": "0fb48f5b-bff5-496f-9f16-66e66a4f70e1",
   "metadata": {},
   "outputs": [
    {
     "data": {
      "text/plain": [
       "array([[25,  2],\n",
       "       [ 5, 26],\n",
       "       [ 3,  7]])"
      ]
     },
     "execution_count": 64,
     "metadata": {},
     "output_type": "execute_result"
    }
   ],
   "source": [
    "X"
   ]
  },
  {
   "cell_type": "code",
   "execution_count": 65,
   "id": "dfaa3b18-d75a-4859-b3ff-43784dc8977c",
   "metadata": {},
   "outputs": [
    {
     "data": {
      "text/plain": [
       "array([[27,  4],\n",
       "       [ 7, 28],\n",
       "       [ 5,  9]])"
      ]
     },
     "execution_count": 65,
     "metadata": {},
     "output_type": "execute_result"
    }
   ],
   "source": [
    "A = X + 2\n",
    "A"
   ]
  },
  {
   "cell_type": "code",
   "execution_count": 66,
   "id": "2f34c831-e1b4-4e91-bfa6-05ce94cdd8fc",
   "metadata": {},
   "outputs": [
    {
     "data": {
      "text/plain": [
       "array([[52,  6],\n",
       "       [12, 54],\n",
       "       [ 8, 16]])"
      ]
     },
     "execution_count": 66,
     "metadata": {},
     "output_type": "execute_result"
    }
   ],
   "source": [
    "A + X"
   ]
  },
  {
   "cell_type": "code",
   "execution_count": 67,
   "id": "d75ee9a1-fdbf-4795-811b-75e91925c902",
   "metadata": {},
   "outputs": [
    {
     "data": {
      "text/plain": [
       "array([[675,   8],\n",
       "       [ 35, 728],\n",
       "       [ 15,  63]])"
      ]
     },
     "execution_count": 67,
     "metadata": {},
     "output_type": "execute_result"
    }
   ],
   "source": [
    "A * X"
   ]
  },
  {
   "cell_type": "code",
   "execution_count": 68,
   "id": "9ca6cf99-9956-46f7-af79-fc458affb0ef",
   "metadata": {},
   "outputs": [
    {
     "data": {
      "text/plain": [
       "<tf.Variable 'Variable:0' shape=(3, 2) dtype=int32, numpy=\n",
       "array([[1, 2],\n",
       "       [3, 4],\n",
       "       [9, 0]])>"
      ]
     },
     "execution_count": 68,
     "metadata": {},
     "output_type": "execute_result"
    }
   ],
   "source": [
    "x_tf "
   ]
  },
  {
   "cell_type": "code",
   "execution_count": 69,
   "id": "1a04f9fa-443f-4f64-b27e-4e9f723c49b6",
   "metadata": {},
   "outputs": [
    {
     "data": {
      "text/plain": [
       "<tf.Tensor: shape=(3, 2), dtype=int32, numpy=\n",
       "array([[ 3,  4],\n",
       "       [ 5,  6],\n",
       "       [11,  2]])>"
      ]
     },
     "execution_count": 69,
     "metadata": {},
     "output_type": "execute_result"
    }
   ],
   "source": [
    "A_tf = x_tf + 2\n",
    "A_tf"
   ]
  },
  {
   "cell_type": "code",
   "execution_count": 70,
   "id": "caa5253c-f19e-495e-a1ea-953d8d91a5dd",
   "metadata": {},
   "outputs": [
    {
     "data": {
      "text/plain": [
       "<tf.Tensor: shape=(3, 2), dtype=int32, numpy=\n",
       "array([[ 4,  6],\n",
       "       [ 8, 10],\n",
       "       [20,  2]])>"
      ]
     },
     "execution_count": 70,
     "metadata": {},
     "output_type": "execute_result"
    }
   ],
   "source": [
    "x_tf + A_tf"
   ]
  },
  {
   "cell_type": "code",
   "execution_count": 71,
   "id": "1d21719d-3691-4985-a0d7-818d9ea8f217",
   "metadata": {},
   "outputs": [
    {
     "data": {
      "text/plain": [
       "<tf.Tensor: shape=(3, 2), dtype=int32, numpy=\n",
       "array([[ 3,  8],\n",
       "       [15, 24],\n",
       "       [99,  0]])>"
      ]
     },
     "execution_count": 71,
     "metadata": {},
     "output_type": "execute_result"
    }
   ],
   "source": [
    "x_tf * A_tf"
   ]
  },
  {
   "cell_type": "code",
   "execution_count": 72,
   "id": "04ba27b4-36b2-44e3-acc6-8df993bf1d9b",
   "metadata": {},
   "outputs": [
    {
     "data": {
      "text/plain": [
       "tensor([[1, 2],\n",
       "        [4, 6],\n",
       "        [6, 9]])"
      ]
     },
     "execution_count": 72,
     "metadata": {},
     "output_type": "execute_result"
    }
   ],
   "source": [
    "x_pt"
   ]
  },
  {
   "cell_type": "code",
   "execution_count": 73,
   "id": "ff7976f0-e0e7-425b-97c4-ba5d3078e322",
   "metadata": {},
   "outputs": [
    {
     "data": {
      "text/plain": [
       "tensor([[ 3,  4],\n",
       "        [ 6,  8],\n",
       "        [ 8, 11]])"
      ]
     },
     "execution_count": 73,
     "metadata": {},
     "output_type": "execute_result"
    }
   ],
   "source": [
    "A_pt = x_pt + 2\n",
    "A_pt"
   ]
  },
  {
   "cell_type": "code",
   "execution_count": 74,
   "id": "e40a8a29-5d2d-41ea-9b2d-53b81fee4377",
   "metadata": {},
   "outputs": [
    {
     "data": {
      "text/plain": [
       "tensor([[ 4,  6],\n",
       "        [10, 14],\n",
       "        [14, 20]])"
      ]
     },
     "execution_count": 74,
     "metadata": {},
     "output_type": "execute_result"
    }
   ],
   "source": [
    "x_pt + A_pt"
   ]
  },
  {
   "cell_type": "code",
   "execution_count": 75,
   "id": "6396c54e-4920-43f8-a03d-5b4f7394dc51",
   "metadata": {},
   "outputs": [
    {
     "data": {
      "text/plain": [
       "tensor([[ 3,  8],\n",
       "        [24, 48],\n",
       "        [48, 99]])"
      ]
     },
     "execution_count": 75,
     "metadata": {},
     "output_type": "execute_result"
    }
   ],
   "source": [
    "x_pt * A_pt"
   ]
  },
  {
   "cell_type": "markdown",
   "id": "baa2f1e0-6c43-4daf-888d-a32abd7bd73d",
   "metadata": {},
   "source": [
    "### Reduction"
   ]
  },
  {
   "cell_type": "code",
   "execution_count": 76,
   "id": "76758a28-f052-4d25-9223-609d803606a2",
   "metadata": {},
   "outputs": [
    {
     "data": {
      "text/plain": [
       "array([[25,  2],\n",
       "       [ 5, 26],\n",
       "       [ 3,  7]])"
      ]
     },
     "execution_count": 76,
     "metadata": {},
     "output_type": "execute_result"
    }
   ],
   "source": [
    "X"
   ]
  },
  {
   "cell_type": "code",
   "execution_count": 77,
   "id": "f626c9ff-ab56-4551-b938-fc6d19e15c2b",
   "metadata": {},
   "outputs": [
    {
     "data": {
      "text/plain": [
       "68"
      ]
     },
     "execution_count": 77,
     "metadata": {},
     "output_type": "execute_result"
    }
   ],
   "source": [
    "X.sum()"
   ]
  },
  {
   "cell_type": "code",
   "execution_count": 78,
   "id": "7aae19cb-327b-4f8e-8249-ae34e13c6210",
   "metadata": {},
   "outputs": [
    {
     "data": {
      "text/plain": [
       "tensor([[1, 2],\n",
       "        [4, 6],\n",
       "        [6, 9]])"
      ]
     },
     "execution_count": 78,
     "metadata": {},
     "output_type": "execute_result"
    }
   ],
   "source": [
    "x_pt"
   ]
  },
  {
   "cell_type": "code",
   "execution_count": 79,
   "id": "58f365e9-8f30-4b41-94c0-8dc759eeb52d",
   "metadata": {},
   "outputs": [
    {
     "data": {
      "text/plain": [
       "tensor(28)"
      ]
     },
     "execution_count": 79,
     "metadata": {},
     "output_type": "execute_result"
    }
   ],
   "source": [
    "x_pt.sum()"
   ]
  },
  {
   "cell_type": "code",
   "execution_count": 80,
   "id": "7a9b08dc-71c3-405f-b244-1a2547755e2e",
   "metadata": {},
   "outputs": [
    {
     "data": {
      "text/plain": [
       "<tf.Variable 'Variable:0' shape=(3, 2) dtype=int32, numpy=\n",
       "array([[1, 2],\n",
       "       [3, 4],\n",
       "       [9, 0]])>"
      ]
     },
     "execution_count": 80,
     "metadata": {},
     "output_type": "execute_result"
    }
   ],
   "source": [
    "x_tf"
   ]
  },
  {
   "cell_type": "code",
   "execution_count": 81,
   "id": "fedd2898-ca90-4fc6-8318-cc7df76582e3",
   "metadata": {},
   "outputs": [
    {
     "data": {
      "text/plain": [
       "tensor(28)"
      ]
     },
     "execution_count": 81,
     "metadata": {},
     "output_type": "execute_result"
    }
   ],
   "source": [
    "torch.sum(x_pt)"
   ]
  },
  {
   "cell_type": "code",
   "execution_count": 82,
   "id": "1b8d0594-f4ca-4f88-9a06-5b78e44ede2a",
   "metadata": {},
   "outputs": [
    {
     "data": {
      "text/plain": [
       "array([[25,  2],\n",
       "       [ 5, 26],\n",
       "       [ 3,  7]])"
      ]
     },
     "execution_count": 82,
     "metadata": {},
     "output_type": "execute_result"
    }
   ],
   "source": [
    "X"
   ]
  },
  {
   "cell_type": "code",
   "execution_count": 83,
   "id": "85eacc72-59cf-4b02-89df-57924911d70a",
   "metadata": {},
   "outputs": [
    {
     "data": {
      "text/plain": [
       "array([33, 35])"
      ]
     },
     "execution_count": 83,
     "metadata": {},
     "output_type": "execute_result"
    }
   ],
   "source": [
    "X.sum(axis = 0) #row wise sum"
   ]
  },
  {
   "cell_type": "code",
   "execution_count": 84,
   "id": "13081dbe-7966-42de-996c-96d42d02f931",
   "metadata": {},
   "outputs": [
    {
     "data": {
      "text/plain": [
       "array([27, 31, 10])"
      ]
     },
     "execution_count": 84,
     "metadata": {},
     "output_type": "execute_result"
    }
   ],
   "source": [
    "X.sum(axis = 1) #column wise sum"
   ]
  },
  {
   "cell_type": "code",
   "execution_count": 85,
   "id": "46fdeed2-ac9d-412d-ba0c-83f56e7d2685",
   "metadata": {},
   "outputs": [
    {
     "data": {
      "text/plain": [
       "tensor([[1, 2],\n",
       "        [4, 6],\n",
       "        [6, 9]])"
      ]
     },
     "execution_count": 85,
     "metadata": {},
     "output_type": "execute_result"
    }
   ],
   "source": [
    "x_pt"
   ]
  },
  {
   "cell_type": "code",
   "execution_count": 86,
   "id": "fecd0243-63aa-425c-b6fe-5f3583eda200",
   "metadata": {},
   "outputs": [
    {
     "data": {
      "text/plain": [
       "tensor([11, 17])"
      ]
     },
     "execution_count": 86,
     "metadata": {},
     "output_type": "execute_result"
    }
   ],
   "source": [
    "torch.sum(x_pt,0)"
   ]
  },
  {
   "cell_type": "code",
   "execution_count": 87,
   "id": "d6fb8a84-5c7b-4f8b-877c-ac05698ef3f9",
   "metadata": {},
   "outputs": [
    {
     "data": {
      "text/plain": [
       "tensor([ 3, 10, 15])"
      ]
     },
     "execution_count": 87,
     "metadata": {},
     "output_type": "execute_result"
    }
   ],
   "source": [
    "torch.sum(x_pt,1)"
   ]
  },
  {
   "cell_type": "code",
   "execution_count": 88,
   "id": "c2d31c04-07ad-44aa-ad51-12285eccf6dd",
   "metadata": {},
   "outputs": [
    {
     "data": {
      "text/plain": [
       "<tf.Variable 'Variable:0' shape=(3, 2) dtype=int32, numpy=\n",
       "array([[1, 2],\n",
       "       [3, 4],\n",
       "       [9, 0]])>"
      ]
     },
     "execution_count": 88,
     "metadata": {},
     "output_type": "execute_result"
    }
   ],
   "source": [
    "x_tf"
   ]
  },
  {
   "cell_type": "code",
   "execution_count": 89,
   "id": "9cdc9287-16bc-4ef7-bb8f-79d97275de84",
   "metadata": {},
   "outputs": [
    {
     "data": {
      "text/plain": [
       "<tf.Tensor: shape=(3,), dtype=int32, numpy=array([3, 7, 9])>"
      ]
     },
     "execution_count": 89,
     "metadata": {},
     "output_type": "execute_result"
    }
   ],
   "source": [
    "tf.reduce_sum(x_tf,1)"
   ]
  },
  {
   "cell_type": "markdown",
   "id": "2a46ad24-951f-40b3-8dd3-cfb2e496b571",
   "metadata": {},
   "source": [
    "### Dot Product"
   ]
  },
  {
   "cell_type": "code",
   "execution_count": 90,
   "id": "18967bbf-defd-4617-9e94-747cd89f9871",
   "metadata": {},
   "outputs": [
    {
     "data": {
      "text/plain": [
       "array([1, 2, 3])"
      ]
     },
     "execution_count": 90,
     "metadata": {},
     "output_type": "execute_result"
    }
   ],
   "source": [
    "x"
   ]
  },
  {
   "cell_type": "code",
   "execution_count": 91,
   "id": "515dc113-ee6c-42e2-8ef1-da069902af1e",
   "metadata": {},
   "outputs": [
    {
     "data": {
      "text/plain": [
       "array([0, 1, 2])"
      ]
     },
     "execution_count": 91,
     "metadata": {},
     "output_type": "execute_result"
    }
   ],
   "source": [
    "y = np.array([0,1,2])\n",
    "y"
   ]
  },
  {
   "cell_type": "code",
   "execution_count": 92,
   "id": "8870677d-58bb-4c74-9c06-8431c4e46fea",
   "metadata": {},
   "outputs": [
    {
     "data": {
      "text/plain": [
       "8"
      ]
     },
     "execution_count": 92,
     "metadata": {},
     "output_type": "execute_result"
    }
   ],
   "source": [
    "np.dot(x,y)"
   ]
  },
  {
   "cell_type": "code",
   "execution_count": 93,
   "id": "9a92d495-4f4e-47b7-bb85-d841129875b8",
   "metadata": {},
   "outputs": [
    {
     "data": {
      "text/plain": [
       "tensor([25,  2,  5])"
      ]
     },
     "execution_count": 93,
     "metadata": {},
     "output_type": "execute_result"
    }
   ],
   "source": [
    "x_pt = torch.tensor([25,2,5]) \n",
    "x_pt"
   ]
  },
  {
   "cell_type": "code",
   "execution_count": 94,
   "id": "04741b94-b52c-4a79-9371-4c99b1dd8f32",
   "metadata": {},
   "outputs": [
    {
     "data": {
      "text/plain": [
       "tensor([0, 1, 2])"
      ]
     },
     "execution_count": 94,
     "metadata": {},
     "output_type": "execute_result"
    }
   ],
   "source": [
    "y_pt = torch.tensor([0,1,2])\n",
    "y_pt"
   ]
  },
  {
   "cell_type": "code",
   "execution_count": 95,
   "id": "4813f184-8f06-4b23-91ea-0ac53d3ee50f",
   "metadata": {},
   "outputs": [
    {
     "data": {
      "text/plain": [
       "12"
      ]
     },
     "execution_count": 95,
     "metadata": {},
     "output_type": "execute_result"
    }
   ],
   "source": [
    "np.dot(x_pt,y_pt)"
   ]
  },
  {
   "cell_type": "code",
   "execution_count": 96,
   "id": "d0235192-2d11-4700-85a8-b80b9843616c",
   "metadata": {},
   "outputs": [],
   "source": [
    "x_tf = tf.Variable([25,2,5])"
   ]
  },
  {
   "cell_type": "code",
   "execution_count": 97,
   "id": "291bdebb-04c9-44b3-9fef-471d899017e4",
   "metadata": {},
   "outputs": [
    {
     "data": {
      "text/plain": [
       "<tf.Variable 'Variable:0' shape=(3,) dtype=int32, numpy=array([25,  2,  5])>"
      ]
     },
     "execution_count": 97,
     "metadata": {},
     "output_type": "execute_result"
    }
   ],
   "source": [
    "x_tf"
   ]
  },
  {
   "cell_type": "code",
   "execution_count": 98,
   "id": "dab806aa-8625-4f63-9c38-38efcde35c68",
   "metadata": {},
   "outputs": [
    {
     "data": {
      "text/plain": [
       "<tf.Variable 'Variable:0' shape=(3,) dtype=int32, numpy=array([0, 1, 2])>"
      ]
     },
     "execution_count": 98,
     "metadata": {},
     "output_type": "execute_result"
    }
   ],
   "source": [
    "y_tf = tf.Variable([0,1,2])\n",
    "y_tf"
   ]
  },
  {
   "cell_type": "code",
   "execution_count": 99,
   "id": "84aa5394-1f73-4af4-9ac3-fe48f6a12437",
   "metadata": {},
   "outputs": [
    {
     "data": {
      "text/plain": [
       "<tf.Tensor: shape=(), dtype=int32, numpy=12>"
      ]
     },
     "execution_count": 99,
     "metadata": {},
     "output_type": "execute_result"
    }
   ],
   "source": [
    "tf.reduce_sum(tf.multiply(x_tf,y_tf))"
   ]
  },
  {
   "cell_type": "markdown",
   "id": "801e59d4-7edc-4302-bd80-ee462e40f4e9",
   "metadata": {},
   "source": [
    "## Matrix Properties"
   ]
  },
  {
   "cell_type": "markdown",
   "id": "c2f77c42-ac4d-4358-854d-d13d1ff50c89",
   "metadata": {},
   "source": [
    "### Frobenius Norm"
   ]
  },
  {
   "cell_type": "code",
   "execution_count": 100,
   "id": "5ec96939-108e-4565-9eea-fd830bf8bc66",
   "metadata": {},
   "outputs": [],
   "source": [
    "import numpy as np"
   ]
  },
  {
   "cell_type": "code",
   "execution_count": 101,
   "id": "ed638ede-5dca-43a8-a0ce-44f5fb6b1e8c",
   "metadata": {},
   "outputs": [
    {
     "data": {
      "text/plain": [
       "array([[1, 2],\n",
       "       [3, 4]])"
      ]
     },
     "execution_count": 101,
     "metadata": {},
     "output_type": "execute_result"
    }
   ],
   "source": [
    "X = np.array([[1,2],[3,4]])\n",
    "X"
   ]
  },
  {
   "cell_type": "code",
   "execution_count": 102,
   "id": "0ee813ac-064c-4b08-8e21-e0bef884f7b4",
   "metadata": {},
   "outputs": [
    {
     "data": {
      "text/plain": [
       "5.477225575051661"
      ]
     },
     "execution_count": 102,
     "metadata": {},
     "output_type": "execute_result"
    }
   ],
   "source": [
    "(1**2 + 2*2 + 3*3 + 4*4)**(1/2)"
   ]
  },
  {
   "cell_type": "code",
   "execution_count": 103,
   "id": "fa983d85-7440-4cee-8c30-9d886715d2ce",
   "metadata": {},
   "outputs": [
    {
     "data": {
      "text/plain": [
       "5.477225575051661"
      ]
     },
     "execution_count": 103,
     "metadata": {},
     "output_type": "execute_result"
    }
   ],
   "source": [
    "np.linalg.norm(X) #Same function as for L2 Norm"
   ]
  },
  {
   "cell_type": "code",
   "execution_count": 104,
   "id": "9ed3e10e-9b4e-4cd8-a25f-12e8682880f9",
   "metadata": {},
   "outputs": [],
   "source": [
    "import torch"
   ]
  },
  {
   "cell_type": "code",
   "execution_count": 105,
   "id": "f025e890-e366-4614-8555-d7da25bfd178",
   "metadata": {},
   "outputs": [
    {
     "data": {
      "text/plain": [
       "tensor(5.4772)"
      ]
     },
     "execution_count": 105,
     "metadata": {},
     "output_type": "execute_result"
    }
   ],
   "source": [
    "X_pt = torch.tensor([[1,2],[3,4.]])  #torch.norm() requires float type\n",
    "torch.norm(X_pt)"
   ]
  },
  {
   "cell_type": "code",
   "execution_count": 106,
   "id": "62806836-ab07-4570-96f9-aeec5f39f446",
   "metadata": {},
   "outputs": [],
   "source": [
    "import tensorflow as tf"
   ]
  },
  {
   "cell_type": "code",
   "execution_count": 107,
   "id": "347c049b-cfbf-4b0b-84a7-880988759218",
   "metadata": {},
   "outputs": [
    {
     "data": {
      "text/plain": [
       "<tf.Tensor: shape=(), dtype=float32, numpy=5.477226>"
      ]
     },
     "execution_count": 107,
     "metadata": {},
     "output_type": "execute_result"
    }
   ],
   "source": [
    "X_tf = tf.Variable([[1,2],[3,4.]]) #tf.norm() also required floats\n",
    "tf.norm(X_tf)"
   ]
  },
  {
   "cell_type": "markdown",
   "id": "7f969dd6-2a15-44e8-aa94-9668dde442a5",
   "metadata": {},
   "source": [
    "### Matrix multiplication with Vector"
   ]
  },
  {
   "cell_type": "code",
   "execution_count": 108,
   "id": "3c7536ca-361d-4819-82b4-b043c0563adc",
   "metadata": {},
   "outputs": [
    {
     "data": {
      "text/plain": [
       "array([[1, 2],\n",
       "       [3, 4],\n",
       "       [5, 6]])"
      ]
     },
     "execution_count": 108,
     "metadata": {},
     "output_type": "execute_result"
    }
   ],
   "source": [
    "A = np.array([[1,2],[3,4],[5,6]])\n",
    "A"
   ]
  },
  {
   "cell_type": "code",
   "execution_count": 109,
   "id": "81342a6b-b5e8-4c14-8f5b-255971d1b733",
   "metadata": {},
   "outputs": [
    {
     "data": {
      "text/plain": [
       "array([1, 2])"
      ]
     },
     "execution_count": 109,
     "metadata": {},
     "output_type": "execute_result"
    }
   ],
   "source": [
    "b = np.array([1,2])\n",
    "b"
   ]
  },
  {
   "cell_type": "code",
   "execution_count": 110,
   "id": "8a4869cf-5277-4dfc-9453-7e502c11ca33",
   "metadata": {},
   "outputs": [
    {
     "data": {
      "text/plain": [
       "array([ 5, 11, 17])"
      ]
     },
     "execution_count": 110,
     "metadata": {},
     "output_type": "execute_result"
    }
   ],
   "source": [
    "np.dot(A,b)"
   ]
  },
  {
   "cell_type": "code",
   "execution_count": 111,
   "id": "30a2c5d4-9bbd-450c-b0eb-52591724425a",
   "metadata": {},
   "outputs": [
    {
     "data": {
      "text/plain": [
       "tensor([ 5, 11, 17])"
      ]
     },
     "execution_count": 111,
     "metadata": {},
     "output_type": "execute_result"
    }
   ],
   "source": [
    "A_pt = torch.tensor([[1,2],[3,4],[5,6]])\n",
    "b_pt = torch.tensor([1,2])\n",
    "torch.matmul(A_pt,b_pt)"
   ]
  },
  {
   "cell_type": "code",
   "execution_count": 112,
   "id": "f7f188c4-42d5-4e71-bf90-fad87133f980",
   "metadata": {},
   "outputs": [
    {
     "data": {
      "text/plain": [
       "<tf.Tensor: shape=(3,), dtype=int32, numpy=array([ 5, 11, 17])>"
      ]
     },
     "execution_count": 112,
     "metadata": {},
     "output_type": "execute_result"
    }
   ],
   "source": [
    "A_tf = tf.Variable([[1,2],[3,4],[5,6]])\n",
    "b_tf = tf.Variable([1,2])\n",
    "tf.linalg.matvec(A_tf,b_tf) "
   ]
  },
  {
   "cell_type": "markdown",
   "id": "c8345f63-be38-4865-914e-95b3b7b4f2b8",
   "metadata": {},
   "source": [
    "### Matrix Multiplication (with two matrices)"
   ]
  },
  {
   "cell_type": "code",
   "execution_count": 113,
   "id": "982833ab-b18d-484a-9b5c-280cd5b6b81a",
   "metadata": {},
   "outputs": [
    {
     "data": {
      "text/plain": [
       "array([[1, 2],\n",
       "       [3, 4],\n",
       "       [5, 6]])"
      ]
     },
     "execution_count": 113,
     "metadata": {},
     "output_type": "execute_result"
    }
   ],
   "source": [
    "A"
   ]
  },
  {
   "cell_type": "code",
   "execution_count": 114,
   "id": "c237704f-d2d5-4bbe-b1f3-da39d75ea079",
   "metadata": {},
   "outputs": [
    {
     "data": {
      "text/plain": [
       "array([[1, 2],\n",
       "       [3, 4]])"
      ]
     },
     "execution_count": 114,
     "metadata": {},
     "output_type": "execute_result"
    }
   ],
   "source": [
    "B = np.array([[1,2],[3,4]])\n",
    "B"
   ]
  },
  {
   "cell_type": "code",
   "execution_count": 115,
   "id": "6b5813e9-e2a3-4091-9c76-5b4fdeb2f366",
   "metadata": {},
   "outputs": [
    {
     "data": {
      "text/plain": [
       "array([[ 7, 10],\n",
       "       [15, 22],\n",
       "       [23, 34]])"
      ]
     },
     "execution_count": 115,
     "metadata": {},
     "output_type": "execute_result"
    }
   ],
   "source": [
    "np.dot(A,B)"
   ]
  },
  {
   "cell_type": "code",
   "execution_count": 116,
   "id": "3d6a3634-ba50-4f93-b791-7f99ed2e616c",
   "metadata": {},
   "outputs": [],
   "source": [
    "#np.dot(B,A)"
   ]
  },
  {
   "cell_type": "code",
   "execution_count": 117,
   "id": "db8dfd47-f361-49b0-a480-b4a02c59b1f0",
   "metadata": {},
   "outputs": [
    {
     "data": {
      "text/plain": [
       "(3, 2)"
      ]
     },
     "execution_count": 117,
     "metadata": {},
     "output_type": "execute_result"
    }
   ],
   "source": [
    "A.shape"
   ]
  },
  {
   "cell_type": "code",
   "execution_count": 118,
   "id": "b9d1ca02-cb3b-44e8-bc03-ae6f5b8d12c1",
   "metadata": {},
   "outputs": [
    {
     "data": {
      "text/plain": [
       "(2, 2)"
      ]
     },
     "execution_count": 118,
     "metadata": {},
     "output_type": "execute_result"
    }
   ],
   "source": [
    "B.shape"
   ]
  },
  {
   "cell_type": "code",
   "execution_count": 119,
   "id": "6413150b-ebd6-48e1-b645-82a4bb3b840f",
   "metadata": {},
   "outputs": [
    {
     "data": {
      "text/plain": [
       "tensor([[1, 2],\n",
       "        [3, 4]], dtype=torch.int32)"
      ]
     },
     "execution_count": 119,
     "metadata": {},
     "output_type": "execute_result"
    }
   ],
   "source": [
    "B_pt = torch.from_numpy(B)    #much cleaner than tf conversion\n",
    "B_pt"
   ]
  },
  {
   "cell_type": "code",
   "execution_count": 120,
   "id": "c5fc5b0a-f635-4707-b9dc-c31bd34de18d",
   "metadata": {},
   "outputs": [
    {
     "data": {
      "text/plain": [
       "tensor([[1, 9],\n",
       "        [2, 0]])"
      ]
     },
     "execution_count": 120,
     "metadata": {},
     "output_type": "execute_result"
    }
   ],
   "source": [
    "B_pt = torch.tensor([[1,2],[9,0]]).T # another neat way to create tensor with tranposition\n",
    "B_pt"
   ]
  },
  {
   "cell_type": "code",
   "execution_count": 121,
   "id": "f273973f-8c9e-4590-9f6f-30b229e78b9e",
   "metadata": {},
   "outputs": [
    {
     "data": {
      "text/plain": [
       "tensor([[ 5,  9],\n",
       "        [11, 27],\n",
       "        [17, 45]])"
      ]
     },
     "execution_count": 121,
     "metadata": {},
     "output_type": "execute_result"
    }
   ],
   "source": [
    "torch.matmul(A_pt,B_pt)"
   ]
  },
  {
   "cell_type": "code",
   "execution_count": 122,
   "id": "e7d8ff36-fc55-4c43-9ea5-1751ade94143",
   "metadata": {},
   "outputs": [
    {
     "data": {
      "text/plain": [
       "<tf.Tensor: shape=(3, 2), dtype=int64, numpy=\n",
       "array([[ 5,  9],\n",
       "       [11, 27],\n",
       "       [17, 45]], dtype=int64)>"
      ]
     },
     "execution_count": 122,
     "metadata": {},
     "output_type": "execute_result"
    }
   ],
   "source": [
    "tf.matmul(A_pt,B_pt)  #multiply for matrix by matrix"
   ]
  },
  {
   "cell_type": "code",
   "execution_count": 123,
   "id": "88f8486c-c470-429c-85bd-bceea0f438d6",
   "metadata": {},
   "outputs": [
    {
     "data": {
      "text/plain": [
       "array([[1, 2],\n",
       "       [3, 4]])"
      ]
     },
     "execution_count": 123,
     "metadata": {},
     "output_type": "execute_result"
    }
   ],
   "source": [
    "B"
   ]
  },
  {
   "cell_type": "code",
   "execution_count": 124,
   "id": "7953bcb5-f15a-485d-88d6-74711f071bee",
   "metadata": {},
   "outputs": [
    {
     "data": {
      "text/plain": [
       "<tf.Tensor: shape=(2, 2), dtype=int32, numpy=\n",
       "array([[1, 2],\n",
       "       [3, 4]])>"
      ]
     },
     "execution_count": 124,
     "metadata": {},
     "output_type": "execute_result"
    }
   ],
   "source": [
    "B_tf = tf.convert_to_tensor(B,dtype = tf.int32)\n",
    "B_tf"
   ]
  },
  {
   "cell_type": "markdown",
   "id": "6a921a98-1d07-4750-b1e5-598c3c38d212",
   "metadata": {},
   "source": [
    "### Symmetric Matrix"
   ]
  },
  {
   "cell_type": "code",
   "execution_count": 125,
   "id": "7bb6706b-5525-4141-a8fb-41d4cb57b590",
   "metadata": {},
   "outputs": [],
   "source": [
    "import numpy as np"
   ]
  },
  {
   "cell_type": "code",
   "execution_count": 126,
   "id": "86a909a5-9370-4e26-82f6-22847a354171",
   "metadata": {},
   "outputs": [
    {
     "data": {
      "text/plain": [
       "array([[0, 1, 2],\n",
       "       [1, 7, 8],\n",
       "       [2, 8, 9]])"
      ]
     },
     "execution_count": 126,
     "metadata": {},
     "output_type": "execute_result"
    }
   ],
   "source": [
    "x_sym = np.array([[0,1,2],[1,7,8],[2,8,9]])\n",
    "x_sym"
   ]
  },
  {
   "cell_type": "code",
   "execution_count": 127,
   "id": "725dcd4f-9385-465b-94e5-6705f605900c",
   "metadata": {},
   "outputs": [
    {
     "data": {
      "text/plain": [
       "array([[0, 1, 2],\n",
       "       [1, 7, 8],\n",
       "       [2, 8, 9]])"
      ]
     },
     "execution_count": 127,
     "metadata": {},
     "output_type": "execute_result"
    }
   ],
   "source": [
    "x_sym.T"
   ]
  },
  {
   "cell_type": "code",
   "execution_count": 128,
   "id": "bb17cd6e-7fa8-40ba-9ae1-7e8adbd914f1",
   "metadata": {},
   "outputs": [
    {
     "data": {
      "text/plain": [
       "array([[ True,  True,  True],\n",
       "       [ True,  True,  True],\n",
       "       [ True,  True,  True]])"
      ]
     },
     "execution_count": 128,
     "metadata": {},
     "output_type": "execute_result"
    }
   ],
   "source": [
    "x_sym == x_sym.T"
   ]
  },
  {
   "cell_type": "markdown",
   "id": "bc487a2a-f2cb-466e-b94b-c97a6d219c12",
   "metadata": {},
   "source": [
    "### Identity Matrix "
   ]
  },
  {
   "cell_type": "code",
   "execution_count": 129,
   "id": "1fd8a540-9bd7-4b23-9075-2a995e74a839",
   "metadata": {},
   "outputs": [],
   "source": [
    "import torch"
   ]
  },
  {
   "cell_type": "code",
   "execution_count": 130,
   "id": "4ff5f5e5-cad3-4044-a913-20737eebb0e4",
   "metadata": {},
   "outputs": [
    {
     "data": {
      "text/plain": [
       "tensor([[1, 0, 0],\n",
       "        [0, 1, 0],\n",
       "        [0, 0, 1]])"
      ]
     },
     "execution_count": 130,
     "metadata": {},
     "output_type": "execute_result"
    }
   ],
   "source": [
    "I = torch.tensor([[1,0,0],[0,1,0],[0,0,1]])\n",
    "I"
   ]
  },
  {
   "cell_type": "code",
   "execution_count": 131,
   "id": "79fb863c-40ac-4c36-a599-10200e462209",
   "metadata": {},
   "outputs": [
    {
     "data": {
      "text/plain": [
       "tensor([25,  2,  5])"
      ]
     },
     "execution_count": 131,
     "metadata": {},
     "output_type": "execute_result"
    }
   ],
   "source": [
    "x_pt = torch.tensor([25,2,5])\n",
    "x_pt"
   ]
  },
  {
   "cell_type": "code",
   "execution_count": 132,
   "id": "8e84ccc3-2e22-417b-8f54-074d52231249",
   "metadata": {},
   "outputs": [
    {
     "data": {
      "text/plain": [
       "tensor([25,  2,  5])"
      ]
     },
     "execution_count": 132,
     "metadata": {},
     "output_type": "execute_result"
    }
   ],
   "source": [
    "torch.matmul(I,x_pt)"
   ]
  },
  {
   "cell_type": "markdown",
   "id": "3eba1188-ab15-4a4f-b826-0fdaa7fc73bd",
   "metadata": {},
   "source": [
    "### Matrix Inversion"
   ]
  },
  {
   "cell_type": "code",
   "execution_count": 133,
   "id": "c6a098ca-75a9-49f3-801d-785009908462",
   "metadata": {},
   "outputs": [],
   "source": [
    "import numpy as np"
   ]
  },
  {
   "cell_type": "code",
   "execution_count": 134,
   "id": "721a1eca-600a-4cbc-ab02-2f64212448e8",
   "metadata": {},
   "outputs": [
    {
     "data": {
      "text/plain": [
       "array([[ 4,  2],\n",
       "       [-5, -3]])"
      ]
     },
     "execution_count": 134,
     "metadata": {},
     "output_type": "execute_result"
    }
   ],
   "source": [
    "X = np.array([[4,2],[-5,-3]])\n",
    "X"
   ]
  },
  {
   "cell_type": "code",
   "execution_count": 135,
   "id": "e42f5ef5-3f04-43d3-ac5f-be189cc52807",
   "metadata": {},
   "outputs": [
    {
     "data": {
      "text/plain": [
       "array([[ 1.5,  1. ],\n",
       "       [-2.5, -2. ]])"
      ]
     },
     "execution_count": 135,
     "metadata": {},
     "output_type": "execute_result"
    }
   ],
   "source": [
    "Xinv = np.linalg.inv(X)\n",
    "Xinv"
   ]
  },
  {
   "cell_type": "code",
   "execution_count": 136,
   "id": "735a23ec-4989-4c35-ac82-eafaf9f9bb42",
   "metadata": {},
   "outputs": [
    {
     "data": {
      "text/plain": [
       "array([ 4, -7])"
      ]
     },
     "execution_count": 136,
     "metadata": {},
     "output_type": "execute_result"
    }
   ],
   "source": [
    "y = np.array([4,-7])\n",
    "y"
   ]
  },
  {
   "cell_type": "code",
   "execution_count": 137,
   "id": "8da82121-27dc-4e10-b3b8-7efe61c17cc3",
   "metadata": {},
   "outputs": [
    {
     "data": {
      "text/plain": [
       "array([-1.,  4.])"
      ]
     },
     "execution_count": 137,
     "metadata": {},
     "output_type": "execute_result"
    }
   ],
   "source": [
    "w = np.dot(Xinv,y)\n",
    "w"
   ]
  },
  {
   "cell_type": "markdown",
   "id": "ba68e680-a3dc-4bcf-af23-c81d511514ac",
   "metadata": {},
   "source": [
    "### to show that y = _Xw_"
   ]
  },
  {
   "cell_type": "code",
   "execution_count": 138,
   "id": "57d9b0e6-fa6f-461b-96ec-04bb3a32be33",
   "metadata": {},
   "outputs": [
    {
     "data": {
      "text/plain": [
       "array([ 4., -7.])"
      ]
     },
     "execution_count": 138,
     "metadata": {},
     "output_type": "execute_result"
    }
   ],
   "source": [
    "np.dot(X,w)"
   ]
  },
  {
   "cell_type": "code",
   "execution_count": 139,
   "id": "e70132ae-e278-4e6b-bc58-8002d9b033af",
   "metadata": {},
   "outputs": [
    {
     "data": {
      "text/plain": [
       "array([ 4, -7])"
      ]
     },
     "execution_count": 139,
     "metadata": {},
     "output_type": "execute_result"
    }
   ],
   "source": [
    "y"
   ]
  },
  {
   "cell_type": "markdown",
   "id": "bf7a44f9-cf30-48c9-b310-ea8aa62b4c21",
   "metadata": {},
   "source": [
    "### Matrix inversion where no solution "
   ]
  },
  {
   "cell_type": "code",
   "execution_count": 140,
   "id": "87ff9f35-f1c6-4b1a-9ee3-704145c83361",
   "metadata": {},
   "outputs": [
    {
     "data": {
      "text/plain": [
       "array([[-2,  4],\n",
       "       [-4,  8]])"
      ]
     },
     "execution_count": 140,
     "metadata": {},
     "output_type": "execute_result"
    }
   ],
   "source": [
    "X = np.array([[-2,4],[-4,8]])\n",
    "X"
   ]
  },
  {
   "cell_type": "code",
   "execution_count": 141,
   "id": "ca3d65c1-b026-4c55-8767-56dec7a63d3e",
   "metadata": {},
   "outputs": [],
   "source": [
    "#Xinv = np.linalg.inv(X)\n",
    "#Xinv"
   ]
  },
  {
   "cell_type": "code",
   "execution_count": 142,
   "id": "76fe3cdb-13da-4c44-a224-674cf4865bad",
   "metadata": {},
   "outputs": [
    {
     "data": {
      "text/plain": [
       "array([[-2,  4],\n",
       "       [-2,  4]])"
      ]
     },
     "execution_count": 142,
     "metadata": {},
     "output_type": "execute_result"
    }
   ],
   "source": [
    "X = np.array([[-2,4],[-2,4]])\n",
    "X"
   ]
  },
  {
   "cell_type": "code",
   "execution_count": 143,
   "id": "8bb0da31-2eb0-4b16-b7e2-1a1bc6584acc",
   "metadata": {},
   "outputs": [],
   "source": [
    "#Xinv = np.linalg.inv(X)\n",
    "#Xinv"
   ]
  }
 ],
 "metadata": {
  "kernelspec": {
   "display_name": "Python 3 (ipykernel)",
   "language": "python",
   "name": "python3"
  },
  "language_info": {
   "codemirror_mode": {
    "name": "ipython",
    "version": 3
   },
   "file_extension": ".py",
   "mimetype": "text/x-python",
   "name": "python",
   "nbconvert_exporter": "python",
   "pygments_lexer": "ipython3",
   "version": "3.11.7"
  }
 },
 "nbformat": 4,
 "nbformat_minor": 5
}
